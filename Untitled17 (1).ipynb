{
  "nbformat": 4,
  "nbformat_minor": 0,
  "metadata": {
    "colab": {
      "provenance": []
    },
    "kernelspec": {
      "name": "python3",
      "display_name": "Python 3"
    },
    "language_info": {
      "name": "python"
    }
  },
  "cells": [
    {
      "cell_type": "markdown",
      "source": [
        "# *Projeto: Definição perfil público alvo.*"
      ],
      "metadata": {
        "id": "vIBrzM6tRsrD"
      }
    },
    {
      "cell_type": "code",
      "execution_count": 1,
      "metadata": {
        "id": "iWBNdULQckbL"
      },
      "outputs": [],
      "source": [
        "#Importando Pandas para análise dos dados CSV\n",
        "import pandas as pd"
      ]
    },
    {
      "cell_type": "code",
      "source": [
        "#Fazendo a leitura do arquivo da aula\n",
        "dados= pd.read_csv('./Python_M10_support material.csv')"
      ],
      "metadata": {
        "id": "Eob6YalXc0CD"
      },
      "execution_count": 3,
      "outputs": []
    },
    {
      "cell_type": "code",
      "source": [
        "#1º overview das informações presentes no arquivo e análise do conjunto de dados à serem analisados\n",
        "dados.head\n"
      ],
      "metadata": {
        "colab": {
          "base_uri": "https://localhost:8080/"
        },
        "id": "m-rIsjLCc9cb",
        "outputId": "2c66a089-ae52-4bf6-8139-4f40a2075970"
      },
      "execution_count": 4,
      "outputs": [
        {
          "output_type": "execute_result",
          "data": {
            "text/plain": [
              "<bound method NDFrame.head of               id  default  idade sexo  dependentes         escolaridade  \\\n",
              "0      768805383        0     45    M            3         ensino medio   \n",
              "1      818770008        0     49    F            5             mestrado   \n",
              "2      713982108        0     51    M            3             mestrado   \n",
              "3      769911858        0     40    F            4         ensino medio   \n",
              "4      709106358        0     40    M            3  sem educacao formal   \n",
              "...          ...      ...    ...  ...          ...                  ...   \n",
              "10122  772366833        0     50    M            2             mestrado   \n",
              "10123  710638233        1     41    M            2                   na   \n",
              "10124  716506083        1     44    F            1         ensino medio   \n",
              "10125  717406983        1     30    M            2             mestrado   \n",
              "10126  714337233        1     43    F            2             mestrado   \n",
              "\n",
              "      estado_civil   salario_anual tipo_cartao  meses_de_relacionamento  \\\n",
              "0           casado     $60K - $80K        blue                       39   \n",
              "1         solteiro  menos que $40K        blue                       44   \n",
              "2           casado    $80K - $120K        blue                       36   \n",
              "3               na  menos que $40K        blue                       34   \n",
              "4           casado     $60K - $80K        blue                       21   \n",
              "...            ...             ...         ...                      ...   \n",
              "10122     solteiro     $40K - $60K        blue                       40   \n",
              "10123   divorciado     $40K - $60K        blue                       25   \n",
              "10124       casado  menos que $40K        blue                       36   \n",
              "10125           na     $40K - $60K        blue                       36   \n",
              "10126       casado  menos que $40K      silver                       25   \n",
              "\n",
              "       qtd_produtos  iteracoes_12m  meses_inativo_12m limite_credito  \\\n",
              "0                 5              3                  1      12.691,51   \n",
              "1                 6              2                  1       8.256,96   \n",
              "2                 4              0                  1       3.418,56   \n",
              "3                 3              1                  4       3.313,03   \n",
              "4                 5              0                  1       4.716,22   \n",
              "...             ...            ...                ...            ...   \n",
              "10122             3              3                  2       4.003,91   \n",
              "10123             4              3                  2       4.277,04   \n",
              "10124             5              4                  3       5.409,16   \n",
              "10125             4              3                  3       5.281,84   \n",
              "10126             6              4                  2      10.388,80   \n",
              "\n",
              "      valor_transacoes_12m  qtd_transacoes_12m  \n",
              "0                 1.144,90                  42  \n",
              "1                 1.291,45                  33  \n",
              "2                 1.887,72                  20  \n",
              "3                 1.171,56                  20  \n",
              "4                   816,08                  28  \n",
              "...                    ...                 ...  \n",
              "10122            15.476,26                 117  \n",
              "10123             8.764,88                  69  \n",
              "10124            10.291,78                  60  \n",
              "10125             8.395,62                  62  \n",
              "10126            10.294,96                  61  \n",
              "\n",
              "[10127 rows x 16 columns]>"
            ]
          },
          "metadata": {},
          "execution_count": 4
        }
      ]
    },
    {
      "cell_type": "code",
      "source": [
        "#Resumo da quantidade de dados no arquivo (linhas/colunas)\n",
        "dados.shape"
      ],
      "metadata": {
        "colab": {
          "base_uri": "https://localhost:8080/"
        },
        "id": "Yr4pSHO_dtRR",
        "outputId": "dd3fcdf9-8eb8-425c-9cb4-10fa99ba57a9"
      },
      "execution_count": 5,
      "outputs": [
        {
          "output_type": "execute_result",
          "data": {
            "text/plain": [
              "(10127, 16)"
            ]
          },
          "metadata": {},
          "execution_count": 5
        }
      ]
    },
    {
      "cell_type": "code",
      "source": [
        "#Visão dos dados estruturados\n",
        "print(dados)"
      ],
      "metadata": {
        "colab": {
          "base_uri": "https://localhost:8080/"
        },
        "id": "8oad3mzNdxvz",
        "outputId": "ea2de8fc-1de4-4072-ea1d-aefa680f0c18"
      },
      "execution_count": 6,
      "outputs": [
        {
          "output_type": "stream",
          "name": "stdout",
          "text": [
            "              id  default  idade sexo  dependentes         escolaridade  \\\n",
            "0      768805383        0     45    M            3         ensino medio   \n",
            "1      818770008        0     49    F            5             mestrado   \n",
            "2      713982108        0     51    M            3             mestrado   \n",
            "3      769911858        0     40    F            4         ensino medio   \n",
            "4      709106358        0     40    M            3  sem educacao formal   \n",
            "...          ...      ...    ...  ...          ...                  ...   \n",
            "10122  772366833        0     50    M            2             mestrado   \n",
            "10123  710638233        1     41    M            2                   na   \n",
            "10124  716506083        1     44    F            1         ensino medio   \n",
            "10125  717406983        1     30    M            2             mestrado   \n",
            "10126  714337233        1     43    F            2             mestrado   \n",
            "\n",
            "      estado_civil   salario_anual tipo_cartao  meses_de_relacionamento  \\\n",
            "0           casado     $60K - $80K        blue                       39   \n",
            "1         solteiro  menos que $40K        blue                       44   \n",
            "2           casado    $80K - $120K        blue                       36   \n",
            "3               na  menos que $40K        blue                       34   \n",
            "4           casado     $60K - $80K        blue                       21   \n",
            "...            ...             ...         ...                      ...   \n",
            "10122     solteiro     $40K - $60K        blue                       40   \n",
            "10123   divorciado     $40K - $60K        blue                       25   \n",
            "10124       casado  menos que $40K        blue                       36   \n",
            "10125           na     $40K - $60K        blue                       36   \n",
            "10126       casado  menos que $40K      silver                       25   \n",
            "\n",
            "       qtd_produtos  iteracoes_12m  meses_inativo_12m limite_credito  \\\n",
            "0                 5              3                  1      12.691,51   \n",
            "1                 6              2                  1       8.256,96   \n",
            "2                 4              0                  1       3.418,56   \n",
            "3                 3              1                  4       3.313,03   \n",
            "4                 5              0                  1       4.716,22   \n",
            "...             ...            ...                ...            ...   \n",
            "10122             3              3                  2       4.003,91   \n",
            "10123             4              3                  2       4.277,04   \n",
            "10124             5              4                  3       5.409,16   \n",
            "10125             4              3                  3       5.281,84   \n",
            "10126             6              4                  2      10.388,80   \n",
            "\n",
            "      valor_transacoes_12m  qtd_transacoes_12m  \n",
            "0                 1.144,90                  42  \n",
            "1                 1.291,45                  33  \n",
            "2                 1.887,72                  20  \n",
            "3                 1.171,56                  20  \n",
            "4                   816,08                  28  \n",
            "...                    ...                 ...  \n",
            "10122            15.476,26                 117  \n",
            "10123             8.764,88                  69  \n",
            "10124            10.291,78                  60  \n",
            "10125             8.395,62                  62  \n",
            "10126            10.294,96                  61  \n",
            "\n",
            "[10127 rows x 16 columns]\n"
          ]
        }
      ]
    },
    {
      "cell_type": "code",
      "source": [
        "#Análise dos tipos dos dados em cada coluna e assim verificar a possibilidade de cruzamentos para análise\n",
        "dados.info()"
      ],
      "metadata": {
        "colab": {
          "base_uri": "https://localhost:8080/"
        },
        "id": "beSckCwSeicg",
        "outputId": "59a7855d-1b84-46fd-acfa-2716c7b8f782"
      },
      "execution_count": 7,
      "outputs": [
        {
          "output_type": "stream",
          "name": "stdout",
          "text": [
            "<class 'pandas.core.frame.DataFrame'>\n",
            "RangeIndex: 10127 entries, 0 to 10126\n",
            "Data columns (total 16 columns):\n",
            " #   Column                   Non-Null Count  Dtype \n",
            "---  ------                   --------------  ----- \n",
            " 0   id                       10127 non-null  int64 \n",
            " 1   default                  10127 non-null  int64 \n",
            " 2   idade                    10127 non-null  int64 \n",
            " 3   sexo                     10127 non-null  object\n",
            " 4   dependentes              10127 non-null  int64 \n",
            " 5   escolaridade             10127 non-null  object\n",
            " 6   estado_civil             10127 non-null  object\n",
            " 7   salario_anual            10127 non-null  object\n",
            " 8   tipo_cartao              10127 non-null  object\n",
            " 9   meses_de_relacionamento  10127 non-null  int64 \n",
            " 10  qtd_produtos             10127 non-null  int64 \n",
            " 11  iteracoes_12m            10127 non-null  int64 \n",
            " 12  meses_inativo_12m        10127 non-null  int64 \n",
            " 13  limite_credito           10127 non-null  object\n",
            " 14  valor_transacoes_12m     10127 non-null  object\n",
            " 15  qtd_transacoes_12m       10127 non-null  int64 \n",
            "dtypes: int64(9), object(7)\n",
            "memory usage: 1.2+ MB\n"
          ]
        }
      ]
    },
    {
      "cell_type": "code",
      "source": [
        "# Visualização de alguns parâmetros médios estatísticos das colunas de dados\n",
        "dados.describe()"
      ],
      "metadata": {
        "colab": {
          "base_uri": "https://localhost:8080/",
          "height": 320
        },
        "id": "Cv6hZry6eqKG",
        "outputId": "f4447c84-6cdd-400b-b637-e752f327da4e"
      },
      "execution_count": 8,
      "outputs": [
        {
          "output_type": "execute_result",
          "data": {
            "text/plain": [
              "                 id       default         idade   dependentes  \\\n",
              "count  1.012700e+04  10127.000000  10127.000000  10127.000000   \n",
              "mean   7.391776e+08      0.160660     46.325960      2.346203   \n",
              "std    3.690378e+07      0.367235      8.016814      1.298908   \n",
              "min    7.080821e+08      0.000000     26.000000      0.000000   \n",
              "25%    7.130368e+08      0.000000     41.000000      1.000000   \n",
              "50%    7.179264e+08      0.000000     46.000000      2.000000   \n",
              "75%    7.731435e+08      0.000000     52.000000      3.000000   \n",
              "max    8.283431e+08      1.000000     73.000000      5.000000   \n",
              "\n",
              "       meses_de_relacionamento  qtd_produtos  iteracoes_12m  \\\n",
              "count             10127.000000  10127.000000   10127.000000   \n",
              "mean                 35.928409      3.812580       2.455317   \n",
              "std                   7.986416      1.554408       1.106225   \n",
              "min                  13.000000      1.000000       0.000000   \n",
              "25%                  31.000000      3.000000       2.000000   \n",
              "50%                  36.000000      4.000000       2.000000   \n",
              "75%                  40.000000      5.000000       3.000000   \n",
              "max                  56.000000      6.000000       6.000000   \n",
              "\n",
              "       meses_inativo_12m  qtd_transacoes_12m  \n",
              "count       10127.000000        10127.000000  \n",
              "mean            2.341167           64.858695  \n",
              "std             1.010622           23.472570  \n",
              "min             0.000000           10.000000  \n",
              "25%             2.000000           45.000000  \n",
              "50%             2.000000           67.000000  \n",
              "75%             3.000000           81.000000  \n",
              "max             6.000000          139.000000  "
            ],
            "text/html": [
              "\n",
              "  <div id=\"df-42597f34-13d6-4816-b7bf-f3a54be89927\" class=\"colab-df-container\">\n",
              "    <div>\n",
              "<style scoped>\n",
              "    .dataframe tbody tr th:only-of-type {\n",
              "        vertical-align: middle;\n",
              "    }\n",
              "\n",
              "    .dataframe tbody tr th {\n",
              "        vertical-align: top;\n",
              "    }\n",
              "\n",
              "    .dataframe thead th {\n",
              "        text-align: right;\n",
              "    }\n",
              "</style>\n",
              "<table border=\"1\" class=\"dataframe\">\n",
              "  <thead>\n",
              "    <tr style=\"text-align: right;\">\n",
              "      <th></th>\n",
              "      <th>id</th>\n",
              "      <th>default</th>\n",
              "      <th>idade</th>\n",
              "      <th>dependentes</th>\n",
              "      <th>meses_de_relacionamento</th>\n",
              "      <th>qtd_produtos</th>\n",
              "      <th>iteracoes_12m</th>\n",
              "      <th>meses_inativo_12m</th>\n",
              "      <th>qtd_transacoes_12m</th>\n",
              "    </tr>\n",
              "  </thead>\n",
              "  <tbody>\n",
              "    <tr>\n",
              "      <th>count</th>\n",
              "      <td>1.012700e+04</td>\n",
              "      <td>10127.000000</td>\n",
              "      <td>10127.000000</td>\n",
              "      <td>10127.000000</td>\n",
              "      <td>10127.000000</td>\n",
              "      <td>10127.000000</td>\n",
              "      <td>10127.000000</td>\n",
              "      <td>10127.000000</td>\n",
              "      <td>10127.000000</td>\n",
              "    </tr>\n",
              "    <tr>\n",
              "      <th>mean</th>\n",
              "      <td>7.391776e+08</td>\n",
              "      <td>0.160660</td>\n",
              "      <td>46.325960</td>\n",
              "      <td>2.346203</td>\n",
              "      <td>35.928409</td>\n",
              "      <td>3.812580</td>\n",
              "      <td>2.455317</td>\n",
              "      <td>2.341167</td>\n",
              "      <td>64.858695</td>\n",
              "    </tr>\n",
              "    <tr>\n",
              "      <th>std</th>\n",
              "      <td>3.690378e+07</td>\n",
              "      <td>0.367235</td>\n",
              "      <td>8.016814</td>\n",
              "      <td>1.298908</td>\n",
              "      <td>7.986416</td>\n",
              "      <td>1.554408</td>\n",
              "      <td>1.106225</td>\n",
              "      <td>1.010622</td>\n",
              "      <td>23.472570</td>\n",
              "    </tr>\n",
              "    <tr>\n",
              "      <th>min</th>\n",
              "      <td>7.080821e+08</td>\n",
              "      <td>0.000000</td>\n",
              "      <td>26.000000</td>\n",
              "      <td>0.000000</td>\n",
              "      <td>13.000000</td>\n",
              "      <td>1.000000</td>\n",
              "      <td>0.000000</td>\n",
              "      <td>0.000000</td>\n",
              "      <td>10.000000</td>\n",
              "    </tr>\n",
              "    <tr>\n",
              "      <th>25%</th>\n",
              "      <td>7.130368e+08</td>\n",
              "      <td>0.000000</td>\n",
              "      <td>41.000000</td>\n",
              "      <td>1.000000</td>\n",
              "      <td>31.000000</td>\n",
              "      <td>3.000000</td>\n",
              "      <td>2.000000</td>\n",
              "      <td>2.000000</td>\n",
              "      <td>45.000000</td>\n",
              "    </tr>\n",
              "    <tr>\n",
              "      <th>50%</th>\n",
              "      <td>7.179264e+08</td>\n",
              "      <td>0.000000</td>\n",
              "      <td>46.000000</td>\n",
              "      <td>2.000000</td>\n",
              "      <td>36.000000</td>\n",
              "      <td>4.000000</td>\n",
              "      <td>2.000000</td>\n",
              "      <td>2.000000</td>\n",
              "      <td>67.000000</td>\n",
              "    </tr>\n",
              "    <tr>\n",
              "      <th>75%</th>\n",
              "      <td>7.731435e+08</td>\n",
              "      <td>0.000000</td>\n",
              "      <td>52.000000</td>\n",
              "      <td>3.000000</td>\n",
              "      <td>40.000000</td>\n",
              "      <td>5.000000</td>\n",
              "      <td>3.000000</td>\n",
              "      <td>3.000000</td>\n",
              "      <td>81.000000</td>\n",
              "    </tr>\n",
              "    <tr>\n",
              "      <th>max</th>\n",
              "      <td>8.283431e+08</td>\n",
              "      <td>1.000000</td>\n",
              "      <td>73.000000</td>\n",
              "      <td>5.000000</td>\n",
              "      <td>56.000000</td>\n",
              "      <td>6.000000</td>\n",
              "      <td>6.000000</td>\n",
              "      <td>6.000000</td>\n",
              "      <td>139.000000</td>\n",
              "    </tr>\n",
              "  </tbody>\n",
              "</table>\n",
              "</div>\n",
              "    <div class=\"colab-df-buttons\">\n",
              "\n",
              "  <div class=\"colab-df-container\">\n",
              "    <button class=\"colab-df-convert\" onclick=\"convertToInteractive('df-42597f34-13d6-4816-b7bf-f3a54be89927')\"\n",
              "            title=\"Convert this dataframe to an interactive table.\"\n",
              "            style=\"display:none;\">\n",
              "\n",
              "  <svg xmlns=\"http://www.w3.org/2000/svg\" height=\"24px\" viewBox=\"0 -960 960 960\">\n",
              "    <path d=\"M120-120v-720h720v720H120Zm60-500h600v-160H180v160Zm220 220h160v-160H400v160Zm0 220h160v-160H400v160ZM180-400h160v-160H180v160Zm440 0h160v-160H620v160ZM180-180h160v-160H180v160Zm440 0h160v-160H620v160Z\"/>\n",
              "  </svg>\n",
              "    </button>\n",
              "\n",
              "  <style>\n",
              "    .colab-df-container {\n",
              "      display:flex;\n",
              "      gap: 12px;\n",
              "    }\n",
              "\n",
              "    .colab-df-convert {\n",
              "      background-color: #E8F0FE;\n",
              "      border: none;\n",
              "      border-radius: 50%;\n",
              "      cursor: pointer;\n",
              "      display: none;\n",
              "      fill: #1967D2;\n",
              "      height: 32px;\n",
              "      padding: 0 0 0 0;\n",
              "      width: 32px;\n",
              "    }\n",
              "\n",
              "    .colab-df-convert:hover {\n",
              "      background-color: #E2EBFA;\n",
              "      box-shadow: 0px 1px 2px rgba(60, 64, 67, 0.3), 0px 1px 3px 1px rgba(60, 64, 67, 0.15);\n",
              "      fill: #174EA6;\n",
              "    }\n",
              "\n",
              "    .colab-df-buttons div {\n",
              "      margin-bottom: 4px;\n",
              "    }\n",
              "\n",
              "    [theme=dark] .colab-df-convert {\n",
              "      background-color: #3B4455;\n",
              "      fill: #D2E3FC;\n",
              "    }\n",
              "\n",
              "    [theme=dark] .colab-df-convert:hover {\n",
              "      background-color: #434B5C;\n",
              "      box-shadow: 0px 1px 3px 1px rgba(0, 0, 0, 0.15);\n",
              "      filter: drop-shadow(0px 1px 2px rgba(0, 0, 0, 0.3));\n",
              "      fill: #FFFFFF;\n",
              "    }\n",
              "  </style>\n",
              "\n",
              "    <script>\n",
              "      const buttonEl =\n",
              "        document.querySelector('#df-42597f34-13d6-4816-b7bf-f3a54be89927 button.colab-df-convert');\n",
              "      buttonEl.style.display =\n",
              "        google.colab.kernel.accessAllowed ? 'block' : 'none';\n",
              "\n",
              "      async function convertToInteractive(key) {\n",
              "        const element = document.querySelector('#df-42597f34-13d6-4816-b7bf-f3a54be89927');\n",
              "        const dataTable =\n",
              "          await google.colab.kernel.invokeFunction('convertToInteractive',\n",
              "                                                    [key], {});\n",
              "        if (!dataTable) return;\n",
              "\n",
              "        const docLinkHtml = 'Like what you see? Visit the ' +\n",
              "          '<a target=\"_blank\" href=https://colab.research.google.com/notebooks/data_table.ipynb>data table notebook</a>'\n",
              "          + ' to learn more about interactive tables.';\n",
              "        element.innerHTML = '';\n",
              "        dataTable['output_type'] = 'display_data';\n",
              "        await google.colab.output.renderOutput(dataTable, element);\n",
              "        const docLink = document.createElement('div');\n",
              "        docLink.innerHTML = docLinkHtml;\n",
              "        element.appendChild(docLink);\n",
              "      }\n",
              "    </script>\n",
              "  </div>\n",
              "\n",
              "\n",
              "<div id=\"df-2f95c5ec-e5a2-4fc5-b501-1bb8845ae9e3\">\n",
              "  <button class=\"colab-df-quickchart\" onclick=\"quickchart('df-2f95c5ec-e5a2-4fc5-b501-1bb8845ae9e3')\"\n",
              "            title=\"Suggest charts\"\n",
              "            style=\"display:none;\">\n",
              "\n",
              "<svg xmlns=\"http://www.w3.org/2000/svg\" height=\"24px\"viewBox=\"0 0 24 24\"\n",
              "     width=\"24px\">\n",
              "    <g>\n",
              "        <path d=\"M19 3H5c-1.1 0-2 .9-2 2v14c0 1.1.9 2 2 2h14c1.1 0 2-.9 2-2V5c0-1.1-.9-2-2-2zM9 17H7v-7h2v7zm4 0h-2V7h2v10zm4 0h-2v-4h2v4z\"/>\n",
              "    </g>\n",
              "</svg>\n",
              "  </button>\n",
              "\n",
              "<style>\n",
              "  .colab-df-quickchart {\n",
              "      --bg-color: #E8F0FE;\n",
              "      --fill-color: #1967D2;\n",
              "      --hover-bg-color: #E2EBFA;\n",
              "      --hover-fill-color: #174EA6;\n",
              "      --disabled-fill-color: #AAA;\n",
              "      --disabled-bg-color: #DDD;\n",
              "  }\n",
              "\n",
              "  [theme=dark] .colab-df-quickchart {\n",
              "      --bg-color: #3B4455;\n",
              "      --fill-color: #D2E3FC;\n",
              "      --hover-bg-color: #434B5C;\n",
              "      --hover-fill-color: #FFFFFF;\n",
              "      --disabled-bg-color: #3B4455;\n",
              "      --disabled-fill-color: #666;\n",
              "  }\n",
              "\n",
              "  .colab-df-quickchart {\n",
              "    background-color: var(--bg-color);\n",
              "    border: none;\n",
              "    border-radius: 50%;\n",
              "    cursor: pointer;\n",
              "    display: none;\n",
              "    fill: var(--fill-color);\n",
              "    height: 32px;\n",
              "    padding: 0;\n",
              "    width: 32px;\n",
              "  }\n",
              "\n",
              "  .colab-df-quickchart:hover {\n",
              "    background-color: var(--hover-bg-color);\n",
              "    box-shadow: 0 1px 2px rgba(60, 64, 67, 0.3), 0 1px 3px 1px rgba(60, 64, 67, 0.15);\n",
              "    fill: var(--button-hover-fill-color);\n",
              "  }\n",
              "\n",
              "  .colab-df-quickchart-complete:disabled,\n",
              "  .colab-df-quickchart-complete:disabled:hover {\n",
              "    background-color: var(--disabled-bg-color);\n",
              "    fill: var(--disabled-fill-color);\n",
              "    box-shadow: none;\n",
              "  }\n",
              "\n",
              "  .colab-df-spinner {\n",
              "    border: 2px solid var(--fill-color);\n",
              "    border-color: transparent;\n",
              "    border-bottom-color: var(--fill-color);\n",
              "    animation:\n",
              "      spin 1s steps(1) infinite;\n",
              "  }\n",
              "\n",
              "  @keyframes spin {\n",
              "    0% {\n",
              "      border-color: transparent;\n",
              "      border-bottom-color: var(--fill-color);\n",
              "      border-left-color: var(--fill-color);\n",
              "    }\n",
              "    20% {\n",
              "      border-color: transparent;\n",
              "      border-left-color: var(--fill-color);\n",
              "      border-top-color: var(--fill-color);\n",
              "    }\n",
              "    30% {\n",
              "      border-color: transparent;\n",
              "      border-left-color: var(--fill-color);\n",
              "      border-top-color: var(--fill-color);\n",
              "      border-right-color: var(--fill-color);\n",
              "    }\n",
              "    40% {\n",
              "      border-color: transparent;\n",
              "      border-right-color: var(--fill-color);\n",
              "      border-top-color: var(--fill-color);\n",
              "    }\n",
              "    60% {\n",
              "      border-color: transparent;\n",
              "      border-right-color: var(--fill-color);\n",
              "    }\n",
              "    80% {\n",
              "      border-color: transparent;\n",
              "      border-right-color: var(--fill-color);\n",
              "      border-bottom-color: var(--fill-color);\n",
              "    }\n",
              "    90% {\n",
              "      border-color: transparent;\n",
              "      border-bottom-color: var(--fill-color);\n",
              "    }\n",
              "  }\n",
              "</style>\n",
              "\n",
              "  <script>\n",
              "    async function quickchart(key) {\n",
              "      const quickchartButtonEl =\n",
              "        document.querySelector('#' + key + ' button');\n",
              "      quickchartButtonEl.disabled = true;  // To prevent multiple clicks.\n",
              "      quickchartButtonEl.classList.add('colab-df-spinner');\n",
              "      try {\n",
              "        const charts = await google.colab.kernel.invokeFunction(\n",
              "            'suggestCharts', [key], {});\n",
              "      } catch (error) {\n",
              "        console.error('Error during call to suggestCharts:', error);\n",
              "      }\n",
              "      quickchartButtonEl.classList.remove('colab-df-spinner');\n",
              "      quickchartButtonEl.classList.add('colab-df-quickchart-complete');\n",
              "    }\n",
              "    (() => {\n",
              "      let quickchartButtonEl =\n",
              "        document.querySelector('#df-2f95c5ec-e5a2-4fc5-b501-1bb8845ae9e3 button');\n",
              "      quickchartButtonEl.style.display =\n",
              "        google.colab.kernel.accessAllowed ? 'block' : 'none';\n",
              "    })();\n",
              "  </script>\n",
              "</div>\n",
              "\n",
              "    </div>\n",
              "  </div>\n"
            ]
          },
          "metadata": {},
          "execution_count": 8
        }
      ]
    },
    {
      "cell_type": "code",
      "source": [
        "dados['idade']"
      ],
      "metadata": {
        "colab": {
          "base_uri": "https://localhost:8080/"
        },
        "id": "En5VgpHAe0b4",
        "outputId": "db255d17-240f-4947-ebaa-83d886afd3ee"
      },
      "execution_count": 9,
      "outputs": [
        {
          "output_type": "execute_result",
          "data": {
            "text/plain": [
              "0        45\n",
              "1        49\n",
              "2        51\n",
              "3        40\n",
              "4        40\n",
              "         ..\n",
              "10122    50\n",
              "10123    41\n",
              "10124    44\n",
              "10125    30\n",
              "10126    43\n",
              "Name: idade, Length: 10127, dtype: int64"
            ]
          },
          "metadata": {},
          "execution_count": 9
        }
      ]
    },
    {
      "cell_type": "code",
      "source": [
        "#Instalação da biblioteca de visualização dos cruzamentos de dados\n",
        "!pip install plotly_express"
      ],
      "metadata": {
        "colab": {
          "base_uri": "https://localhost:8080/"
        },
        "id": "DW_R7vj5f0yM",
        "outputId": "880e3a85-e3dc-4cba-963c-957dfc7c35bb"
      },
      "execution_count": 10,
      "outputs": [
        {
          "output_type": "stream",
          "name": "stdout",
          "text": [
            "Collecting plotly_express\n",
            "  Downloading plotly_express-0.4.1-py2.py3-none-any.whl (2.9 kB)\n",
            "Requirement already satisfied: pandas>=0.20.0 in /usr/local/lib/python3.10/dist-packages (from plotly_express) (1.5.3)\n",
            "Requirement already satisfied: plotly>=4.1.0 in /usr/local/lib/python3.10/dist-packages (from plotly_express) (5.15.0)\n",
            "Requirement already satisfied: statsmodels>=0.9.0 in /usr/local/lib/python3.10/dist-packages (from plotly_express) (0.14.1)\n",
            "Requirement already satisfied: scipy>=0.18 in /usr/local/lib/python3.10/dist-packages (from plotly_express) (1.11.4)\n",
            "Requirement already satisfied: patsy>=0.5 in /usr/local/lib/python3.10/dist-packages (from plotly_express) (0.5.6)\n",
            "Requirement already satisfied: numpy>=1.11 in /usr/local/lib/python3.10/dist-packages (from plotly_express) (1.23.5)\n",
            "Requirement already satisfied: python-dateutil>=2.8.1 in /usr/local/lib/python3.10/dist-packages (from pandas>=0.20.0->plotly_express) (2.8.2)\n",
            "Requirement already satisfied: pytz>=2020.1 in /usr/local/lib/python3.10/dist-packages (from pandas>=0.20.0->plotly_express) (2023.3.post1)\n",
            "Requirement already satisfied: six in /usr/local/lib/python3.10/dist-packages (from patsy>=0.5->plotly_express) (1.16.0)\n",
            "Requirement already satisfied: tenacity>=6.2.0 in /usr/local/lib/python3.10/dist-packages (from plotly>=4.1.0->plotly_express) (8.2.3)\n",
            "Requirement already satisfied: packaging in /usr/local/lib/python3.10/dist-packages (from plotly>=4.1.0->plotly_express) (23.2)\n",
            "Installing collected packages: plotly_express\n",
            "Successfully installed plotly_express-0.4.1\n"
          ]
        }
      ]
    },
    {
      "cell_type": "code",
      "source": [
        "import plotly_express as px"
      ],
      "metadata": {
        "id": "3QhaOETuggK_"
      },
      "execution_count": 11,
      "outputs": []
    },
    {
      "cell_type": "code",
      "source": [
        "import plotly.express as px\n",
        "\n",
        "#Análise referente ao sexo e escolaridade dos clientes\n",
        "px.histogram(dados, x='sexo',color='escolaridade', text_auto=True)"
      ],
      "metadata": {
        "colab": {
          "base_uri": "https://localhost:8080/",
          "height": 542
        },
        "id": "Klvb31RJgq5i",
        "outputId": "eacad8e9-1252-4c2b-9f8a-3bda4b2183fd"
      },
      "execution_count": 12,
      "outputs": [
        {
          "output_type": "display_data",
          "data": {
            "text/html": [
              "<html>\n",
              "<head><meta charset=\"utf-8\" /></head>\n",
              "<body>\n",
              "    <div>            <script src=\"https://cdnjs.cloudflare.com/ajax/libs/mathjax/2.7.5/MathJax.js?config=TeX-AMS-MML_SVG\"></script><script type=\"text/javascript\">if (window.MathJax && window.MathJax.Hub && window.MathJax.Hub.Config) {window.MathJax.Hub.Config({SVG: {font: \"STIX-Web\"}});}</script>                <script type=\"text/javascript\">window.PlotlyConfig = {MathJaxConfig: 'local'};</script>\n",
              "        <script charset=\"utf-8\" src=\"https://cdn.plot.ly/plotly-2.24.1.min.js\"></script>                <div id=\"a8d60436-c997-49b2-b122-35c567f869a8\" class=\"plotly-graph-div\" style=\"height:525px; width:100%;\"></div>            <script type=\"text/javascript\">                                    window.PLOTLYENV=window.PLOTLYENV || {};                                    if (document.getElementById(\"a8d60436-c997-49b2-b122-35c567f869a8\")) {                    Plotly.newPlot(                        \"a8d60436-c997-49b2-b122-35c567f869a8\",                        [{\"alignmentgroup\":\"True\",\"bingroup\":\"x\",\"hovertemplate\":\"escolaridade=ensino medio\\u003cbr\\u003esexo=%{x}\\u003cbr\\u003ecount=%{y}\\u003cextra\\u003e\\u003c\\u002fextra\\u003e\",\"legendgroup\":\"ensino medio\",\"marker\":{\"color\":\"#636efa\",\"pattern\":{\"shape\":\"\"}},\"name\":\"ensino medio\",\"offsetgroup\":\"ensino medio\",\"orientation\":\"v\",\"showlegend\":true,\"texttemplate\":\"%{value}\",\"x\":[\"M\",\"F\",\"M\",\"M\",\"M\",\"M\",\"M\",\"F\",\"M\",\"M\",\"F\",\"M\",\"M\",\"M\",\"M\",\"M\",\"F\",\"M\",\"M\",\"M\",\"M\",\"M\",\"F\",\"M\",\"F\",\"M\",\"M\",\"F\",\"M\",\"M\",\"F\",\"M\",\"M\",\"F\",\"M\",\"F\",\"F\",\"F\",\"M\",\"M\",\"F\",\"F\",\"M\",\"M\",\"M\",\"M\",\"M\",\"M\",\"M\",\"M\",\"M\",\"F\",\"F\",\"M\",\"F\",\"M\",\"F\",\"M\",\"M\",\"M\",\"F\",\"F\",\"M\",\"M\",\"F\",\"M\",\"M\",\"F\",\"M\",\"M\",\"M\",\"M\",\"F\",\"M\",\"M\",\"F\",\"M\",\"M\",\"F\",\"M\",\"M\",\"F\",\"F\",\"M\",\"F\",\"M\",\"F\",\"M\",\"M\",\"M\",\"M\",\"M\",\"M\",\"M\",\"M\",\"M\",\"M\",\"F\",\"F\",\"F\",\"M\",\"F\",\"M\",\"M\",\"M\",\"M\",\"F\",\"F\",\"M\",\"M\",\"M\",\"M\",\"F\",\"M\",\"M\",\"M\",\"M\",\"M\",\"M\",\"M\",\"F\",\"M\",\"F\",\"M\",\"M\",\"F\",\"M\",\"F\",\"M\",\"M\",\"F\",\"M\",\"M\",\"M\",\"M\",\"M\",\"F\",\"M\",\"M\",\"M\",\"M\",\"F\",\"M\",\"M\",\"M\",\"F\",\"M\",\"F\",\"F\",\"M\",\"M\",\"F\",\"F\",\"M\",\"M\",\"F\",\"F\",\"M\",\"F\",\"M\",\"F\",\"F\",\"M\",\"F\",\"M\",\"M\",\"F\",\"M\",\"M\",\"F\",\"M\",\"M\",\"M\",\"F\",\"M\",\"F\",\"M\",\"M\",\"F\",\"M\",\"F\",\"F\",\"M\",\"F\",\"M\",\"M\",\"F\",\"M\",\"M\",\"F\",\"F\",\"M\",\"F\",\"F\",\"F\",\"M\",\"F\",\"F\",\"M\",\"F\",\"M\",\"F\",\"M\",\"M\",\"M\",\"F\",\"M\",\"F\",\"M\",\"M\",\"M\",\"M\",\"M\",\"M\",\"F\",\"F\",\"F\",\"M\",\"M\",\"M\",\"F\",\"F\",\"F\",\"F\",\"F\",\"F\",\"M\",\"F\",\"F\",\"F\",\"M\",\"M\",\"M\",\"M\",\"M\",\"M\",\"M\",\"M\",\"M\",\"M\",\"F\",\"M\",\"M\",\"M\",\"M\",\"M\",\"F\",\"M\",\"M\",\"F\",\"M\",\"F\",\"M\",\"F\",\"F\",\"M\",\"M\",\"F\",\"F\",\"M\",\"F\",\"M\",\"M\",\"M\",\"M\",\"M\",\"F\",\"M\",\"M\",\"F\",\"F\",\"M\",\"M\",\"M\",\"M\",\"M\",\"F\",\"M\",\"F\",\"F\",\"M\",\"M\",\"M\",\"F\",\"F\",\"F\",\"F\",\"M\",\"F\",\"M\",\"M\",\"M\",\"M\",\"M\",\"M\",\"F\",\"M\",\"F\",\"F\",\"F\",\"F\",\"M\",\"M\",\"F\",\"M\",\"F\",\"M\",\"M\",\"F\",\"M\",\"M\",\"M\",\"F\",\"M\",\"M\",\"M\",\"M\",\"M\",\"F\",\"M\",\"F\",\"M\",\"M\",\"M\",\"M\",\"M\",\"F\",\"F\",\"M\",\"F\",\"M\",\"M\",\"M\",\"M\",\"M\",\"F\",\"M\",\"F\",\"F\",\"F\",\"M\",\"M\",\"M\",\"M\",\"M\",\"M\",\"M\",\"F\",\"M\",\"M\",\"M\",\"F\",\"M\",\"F\",\"F\",\"F\",\"M\",\"M\",\"F\",\"M\",\"M\",\"M\",\"M\",\"M\",\"M\",\"M\",\"M\",\"M\",\"F\",\"M\",\"M\",\"F\",\"F\",\"M\",\"M\",\"F\",\"M\",\"F\",\"M\",\"F\",\"M\",\"M\",\"F\",\"M\",\"M\",\"M\",\"M\",\"M\",\"M\",\"F\",\"F\",\"F\",\"M\",\"F\",\"F\",\"F\",\"M\",\"M\",\"M\",\"M\",\"M\",\"F\",\"M\",\"M\",\"M\",\"M\",\"F\",\"F\",\"M\",\"M\",\"F\",\"M\",\"F\",\"M\",\"F\",\"M\",\"F\",\"M\",\"M\",\"M\",\"F\",\"M\",\"M\",\"M\",\"M\",\"M\",\"M\",\"F\",\"M\",\"M\",\"M\",\"M\",\"F\",\"M\",\"F\",\"M\",\"M\",\"F\",\"M\",\"M\",\"F\",\"M\",\"F\",\"F\",\"F\",\"M\",\"M\",\"M\",\"M\",\"M\",\"F\",\"M\",\"M\",\"M\",\"F\",\"F\",\"M\",\"M\",\"M\",\"M\",\"M\",\"M\",\"M\",\"M\",\"F\",\"F\",\"M\",\"M\",\"F\",\"M\",\"M\",\"F\",\"M\",\"M\",\"M\",\"F\",\"M\",\"F\",\"M\",\"F\",\"F\",\"F\",\"M\",\"F\",\"M\",\"F\",\"M\",\"M\",\"F\",\"F\",\"M\",\"F\",\"F\",\"F\",\"F\",\"M\",\"M\",\"F\",\"F\",\"F\",\"M\",\"F\",\"M\",\"F\",\"F\",\"M\",\"M\",\"M\",\"F\",\"F\",\"F\",\"M\",\"M\",\"M\",\"M\",\"M\",\"M\",\"F\",\"M\",\"F\",\"M\",\"M\",\"M\",\"F\",\"M\",\"F\",\"F\",\"M\",\"M\",\"M\",\"M\",\"F\",\"M\",\"M\",\"M\",\"F\",\"M\",\"M\",\"M\",\"M\",\"F\",\"M\",\"M\",\"F\",\"M\",\"M\",\"F\",\"M\",\"M\",\"F\",\"F\",\"M\",\"M\",\"M\",\"M\",\"F\",\"M\",\"F\",\"F\",\"M\",\"F\",\"M\",\"M\",\"F\",\"M\",\"F\",\"F\",\"M\",\"F\",\"F\",\"F\",\"M\",\"M\",\"M\",\"M\",\"M\",\"M\",\"F\",\"F\",\"M\",\"F\",\"M\",\"F\",\"M\",\"F\",\"M\",\"F\",\"M\",\"F\",\"M\",\"F\",\"M\",\"M\",\"M\",\"F\",\"F\",\"M\",\"M\",\"M\",\"M\",\"M\",\"F\",\"M\",\"F\",\"F\",\"M\",\"F\",\"F\",\"F\",\"M\",\"M\",\"F\",\"F\",\"M\",\"M\",\"F\",\"M\",\"M\",\"F\",\"F\",\"M\",\"M\",\"M\",\"M\",\"M\",\"F\",\"M\",\"M\",\"F\",\"F\",\"F\",\"M\",\"M\",\"M\",\"M\",\"M\",\"F\",\"F\",\"M\",\"F\",\"F\",\"F\",\"F\",\"M\",\"M\",\"M\",\"M\",\"F\",\"M\",\"M\",\"M\",\"F\",\"M\",\"M\",\"M\",\"F\",\"F\",\"M\",\"M\",\"F\",\"M\",\"F\",\"M\",\"M\",\"F\",\"M\",\"M\",\"M\",\"M\",\"M\",\"M\",\"F\",\"F\",\"M\",\"M\",\"M\",\"M\",\"F\",\"M\",\"M\",\"F\",\"M\",\"F\",\"M\",\"M\",\"M\",\"F\",\"M\",\"M\",\"F\",\"F\",\"F\",\"F\",\"F\",\"M\",\"M\",\"M\",\"F\",\"M\",\"M\",\"F\",\"F\",\"M\",\"M\",\"M\",\"M\",\"M\",\"M\",\"F\",\"F\",\"F\",\"F\",\"M\",\"M\",\"F\",\"M\",\"M\",\"M\",\"M\",\"M\",\"F\",\"M\",\"M\",\"M\",\"M\",\"F\",\"M\",\"M\",\"F\",\"M\",\"F\",\"F\",\"M\",\"M\",\"F\",\"M\",\"F\",\"M\",\"M\",\"F\",\"M\",\"M\",\"F\",\"F\",\"F\",\"F\",\"M\",\"M\",\"M\",\"M\",\"F\",\"F\",\"M\",\"M\",\"M\",\"M\",\"F\",\"F\",\"F\",\"M\",\"M\",\"M\",\"M\",\"F\",\"M\",\"M\",\"M\",\"F\",\"M\",\"F\",\"F\",\"M\",\"M\",\"F\",\"M\",\"M\",\"F\",\"M\",\"F\",\"M\",\"M\",\"F\",\"M\",\"F\",\"F\",\"F\",\"M\",\"M\",\"M\",\"M\",\"F\",\"M\",\"F\",\"F\",\"F\",\"M\",\"F\",\"F\",\"F\",\"F\",\"M\",\"F\",\"F\",\"F\",\"F\",\"M\",\"M\",\"M\",\"F\",\"M\",\"M\",\"F\",\"F\",\"M\",\"F\",\"F\",\"M\",\"M\",\"F\",\"M\",\"M\",\"M\",\"M\",\"M\",\"M\",\"M\",\"M\",\"M\",\"M\",\"F\",\"F\",\"F\",\"M\",\"F\",\"M\",\"F\",\"F\",\"F\",\"M\",\"M\",\"F\",\"M\",\"F\",\"M\",\"M\",\"M\",\"M\",\"M\",\"M\",\"M\",\"M\",\"F\",\"M\",\"F\",\"F\",\"M\",\"F\",\"F\",\"M\",\"M\",\"M\",\"F\",\"M\",\"F\",\"F\",\"M\",\"F\",\"F\",\"F\",\"F\",\"M\",\"M\",\"M\",\"M\",\"F\",\"M\",\"M\",\"M\",\"F\",\"F\",\"M\",\"M\",\"F\",\"M\",\"F\",\"M\",\"F\",\"M\",\"M\",\"F\",\"M\",\"M\",\"F\",\"F\",\"F\",\"F\",\"F\",\"F\",\"M\",\"M\",\"M\",\"F\",\"F\",\"F\",\"F\",\"M\",\"F\",\"M\",\"F\",\"M\",\"M\",\"F\",\"F\",\"F\",\"F\",\"M\",\"M\",\"F\",\"F\",\"M\",\"M\",\"F\",\"F\",\"M\",\"M\",\"M\",\"F\",\"F\",\"M\",\"F\",\"M\",\"F\",\"M\",\"F\",\"M\",\"M\",\"F\",\"M\",\"F\",\"F\",\"M\",\"F\",\"M\",\"F\",\"F\",\"F\",\"M\",\"F\",\"M\",\"F\",\"M\",\"F\",\"F\",\"M\",\"F\",\"F\",\"M\",\"F\",\"F\",\"M\",\"M\",\"M\",\"M\",\"F\",\"F\",\"M\",\"F\",\"F\",\"F\",\"M\",\"F\",\"F\",\"M\",\"F\",\"F\",\"F\",\"M\",\"F\",\"M\",\"M\",\"F\",\"F\",\"F\",\"M\",\"M\",\"F\",\"M\",\"F\",\"F\",\"F\",\"F\",\"M\",\"F\",\"M\",\"F\",\"F\",\"F\",\"M\",\"F\",\"M\",\"F\",\"F\",\"M\",\"F\",\"M\",\"F\",\"F\",\"M\",\"F\",\"F\",\"M\",\"F\",\"M\",\"F\",\"M\",\"M\",\"F\",\"M\",\"M\",\"M\",\"M\",\"M\",\"F\",\"F\",\"F\",\"F\",\"M\",\"M\",\"F\",\"F\",\"F\",\"F\",\"F\",\"F\",\"F\",\"F\",\"F\",\"F\",\"M\",\"M\",\"F\",\"M\",\"F\",\"M\",\"M\",\"F\",\"M\",\"M\",\"F\",\"F\",\"F\",\"F\",\"F\",\"M\",\"M\",\"F\",\"F\",\"F\",\"F\",\"F\",\"F\",\"F\",\"F\",\"F\",\"F\",\"F\",\"F\",\"F\",\"F\",\"M\",\"F\",\"F\",\"M\",\"F\",\"F\",\"F\",\"F\",\"M\",\"M\",\"F\",\"F\",\"M\",\"F\",\"F\",\"F\",\"M\",\"F\",\"F\",\"F\",\"F\",\"F\",\"F\",\"M\",\"F\",\"F\",\"F\",\"F\",\"M\",\"M\",\"F\",\"F\",\"M\",\"F\",\"F\",\"F\",\"F\",\"F\",\"F\",\"F\",\"F\",\"M\",\"F\",\"F\",\"F\",\"F\",\"M\",\"F\",\"F\",\"F\",\"F\",\"F\",\"M\",\"F\",\"M\",\"F\",\"M\",\"F\",\"F\",\"M\",\"F\",\"M\",\"M\",\"F\",\"F\",\"F\",\"F\",\"F\",\"F\",\"F\",\"M\",\"M\",\"F\",\"F\",\"F\",\"M\",\"M\",\"F\",\"F\",\"F\",\"F\",\"F\",\"F\",\"M\",\"F\",\"F\",\"F\",\"M\",\"F\",\"M\",\"F\",\"M\",\"F\",\"M\",\"F\",\"F\",\"F\",\"F\",\"F\",\"F\",\"F\",\"F\",\"M\",\"M\",\"F\",\"F\",\"M\",\"M\",\"F\",\"F\",\"F\",\"F\",\"F\",\"M\",\"F\",\"M\",\"F\",\"F\",\"M\",\"F\",\"M\",\"F\",\"M\",\"F\",\"F\",\"F\",\"F\",\"F\",\"F\",\"M\",\"F\",\"F\",\"M\",\"M\",\"F\",\"F\",\"F\",\"F\",\"F\",\"F\",\"M\",\"M\",\"F\",\"F\",\"F\",\"M\",\"F\",\"F\",\"M\",\"M\",\"F\",\"F\",\"M\",\"F\",\"F\",\"M\",\"F\",\"M\",\"F\",\"M\",\"F\",\"F\",\"F\",\"F\",\"M\",\"F\",\"F\",\"F\",\"M\",\"F\",\"M\",\"F\",\"F\",\"F\",\"F\",\"F\",\"M\",\"F\",\"F\",\"F\",\"F\",\"F\",\"F\",\"F\",\"F\",\"F\",\"F\",\"F\",\"F\",\"M\",\"M\",\"F\",\"F\",\"F\",\"F\",\"F\",\"M\",\"F\",\"F\",\"M\",\"M\",\"F\",\"F\",\"F\",\"M\",\"F\",\"M\",\"M\",\"F\",\"M\",\"M\",\"M\",\"F\",\"F\",\"F\",\"F\",\"M\",\"F\",\"F\",\"F\",\"F\",\"F\",\"F\",\"F\",\"F\",\"M\",\"M\",\"M\",\"M\",\"F\",\"F\",\"M\",\"F\",\"F\",\"F\",\"F\",\"M\",\"F\",\"F\",\"F\",\"M\",\"F\",\"F\",\"M\",\"M\",\"F\",\"F\",\"M\",\"F\",\"F\",\"F\",\"F\",\"F\",\"F\",\"F\",\"F\",\"M\",\"F\",\"M\",\"F\",\"M\",\"F\",\"F\",\"F\",\"M\",\"M\",\"F\",\"F\",\"F\",\"M\",\"F\",\"F\",\"M\",\"F\",\"F\",\"F\",\"F\",\"F\",\"F\",\"F\",\"F\",\"F\",\"F\",\"F\",\"F\",\"M\",\"F\",\"F\",\"F\",\"F\",\"F\",\"F\",\"F\",\"F\",\"F\",\"F\",\"F\",\"F\",\"F\",\"F\",\"F\",\"F\",\"F\",\"F\",\"F\",\"F\",\"M\",\"F\",\"M\",\"F\",\"F\",\"M\",\"F\",\"F\",\"M\",\"F\",\"F\",\"F\",\"F\",\"F\",\"F\",\"M\",\"M\",\"M\",\"F\",\"F\",\"M\",\"F\",\"F\",\"F\",\"M\",\"F\",\"M\",\"F\",\"F\",\"F\",\"F\",\"F\",\"M\",\"F\",\"F\",\"F\",\"F\",\"M\",\"F\",\"F\",\"F\",\"F\",\"M\",\"F\",\"F\",\"F\",\"M\",\"F\",\"F\",\"F\",\"M\",\"M\",\"M\",\"F\",\"M\",\"F\",\"F\",\"F\",\"M\",\"F\",\"M\",\"M\",\"M\",\"F\",\"F\",\"M\",\"F\",\"F\",\"M\",\"F\",\"F\",\"M\",\"F\",\"F\",\"M\",\"F\",\"F\",\"F\",\"F\",\"F\",\"F\",\"F\",\"M\",\"F\",\"F\",\"F\",\"M\",\"F\",\"F\",\"M\",\"M\",\"F\",\"F\",\"M\",\"M\",\"F\",\"F\",\"M\",\"F\",\"F\",\"F\",\"F\",\"F\",\"F\",\"F\",\"F\",\"M\",\"M\",\"M\",\"F\",\"F\",\"F\",\"F\",\"F\",\"M\",\"M\",\"F\",\"F\",\"M\",\"F\",\"F\",\"F\",\"F\",\"M\",\"M\",\"F\",\"F\",\"F\",\"M\",\"F\",\"M\",\"F\",\"F\",\"F\",\"F\",\"F\",\"F\",\"F\",\"M\",\"F\",\"M\",\"M\",\"F\",\"F\",\"M\",\"F\",\"F\",\"F\",\"F\",\"F\",\"F\",\"F\",\"F\",\"M\",\"F\",\"F\",\"F\",\"M\",\"F\",\"M\",\"M\",\"F\",\"F\",\"F\",\"F\",\"F\",\"F\",\"M\",\"F\",\"M\",\"F\",\"F\",\"M\",\"F\",\"F\",\"M\",\"F\",\"M\",\"F\",\"M\",\"M\",\"M\",\"F\",\"M\",\"F\",\"M\",\"F\",\"M\",\"F\",\"F\",\"M\",\"F\",\"F\",\"F\",\"F\",\"M\",\"F\",\"F\",\"F\",\"F\",\"M\",\"F\",\"F\",\"F\",\"F\",\"F\",\"F\",\"F\",\"F\",\"F\",\"M\",\"F\",\"M\",\"F\",\"M\",\"M\",\"F\",\"M\",\"F\",\"F\",\"M\",\"F\",\"F\",\"F\",\"F\",\"F\",\"M\",\"M\",\"M\",\"F\",\"F\",\"F\",\"F\",\"M\",\"F\",\"F\",\"F\",\"F\",\"F\",\"F\",\"M\",\"F\",\"M\",\"F\",\"F\",\"M\",\"F\",\"F\",\"F\",\"M\",\"M\",\"M\",\"F\",\"F\",\"M\",\"M\",\"F\",\"F\",\"F\",\"F\",\"F\",\"F\",\"F\",\"F\",\"F\",\"F\",\"F\",\"F\",\"F\",\"F\",\"F\",\"M\",\"F\",\"F\",\"F\",\"F\",\"F\",\"M\",\"F\",\"M\",\"F\",\"M\",\"M\",\"F\",\"F\",\"M\",\"F\",\"M\",\"F\",\"F\",\"M\",\"F\",\"F\",\"F\",\"F\",\"F\",\"F\",\"F\",\"F\",\"M\",\"F\",\"F\",\"F\",\"F\",\"F\",\"M\",\"F\",\"F\",\"F\",\"F\",\"F\",\"F\",\"F\",\"F\",\"F\",\"F\",\"F\",\"F\",\"F\",\"F\",\"M\",\"F\",\"M\",\"F\",\"F\",\"F\",\"F\",\"M\",\"M\",\"F\",\"F\",\"F\",\"F\",\"M\",\"F\",\"F\",\"M\",\"M\",\"M\",\"M\",\"M\",\"M\",\"F\",\"F\",\"F\",\"F\",\"F\",\"M\",\"M\",\"F\",\"F\",\"F\",\"M\",\"F\",\"M\",\"M\",\"M\",\"M\",\"F\",\"F\",\"M\",\"F\",\"F\",\"F\",\"M\",\"M\",\"M\",\"M\",\"M\",\"M\",\"M\",\"F\",\"M\",\"F\",\"M\",\"F\",\"M\",\"M\",\"M\",\"M\",\"F\",\"F\",\"F\",\"M\",\"F\",\"F\",\"F\",\"M\",\"F\",\"M\",\"F\",\"M\",\"M\",\"M\",\"F\",\"F\",\"F\",\"M\",\"F\",\"M\",\"M\",\"F\",\"F\",\"M\",\"M\",\"M\",\"M\",\"M\",\"F\",\"F\",\"M\",\"M\",\"M\",\"M\",\"F\",\"M\",\"F\",\"M\",\"M\",\"M\",\"F\",\"F\",\"F\",\"M\",\"M\",\"F\",\"M\",\"M\",\"M\",\"M\",\"M\",\"M\",\"M\",\"M\",\"F\",\"M\",\"M\",\"F\",\"M\",\"M\",\"M\",\"M\",\"F\",\"M\",\"M\",\"F\",\"F\",\"M\",\"F\",\"F\",\"F\",\"M\",\"M\",\"F\",\"M\",\"M\",\"F\",\"F\",\"M\",\"M\",\"M\",\"M\",\"M\",\"F\",\"M\",\"F\",\"F\",\"F\",\"M\",\"F\",\"F\",\"F\",\"M\",\"M\",\"M\",\"M\",\"M\",\"F\",\"M\",\"M\",\"M\",\"F\",\"M\",\"F\",\"F\",\"M\",\"M\",\"F\",\"M\",\"M\",\"M\",\"M\",\"M\",\"M\",\"M\",\"F\",\"F\",\"M\",\"M\",\"M\",\"M\",\"M\",\"M\",\"M\",\"M\",\"F\",\"M\",\"F\",\"M\",\"M\",\"F\",\"M\",\"M\",\"F\",\"M\",\"F\",\"M\",\"F\",\"F\",\"F\",\"M\",\"F\",\"M\",\"M\",\"M\",\"F\",\"M\",\"F\",\"F\",\"M\",\"F\",\"M\",\"M\",\"F\",\"M\",\"F\",\"M\",\"F\",\"F\",\"M\",\"F\",\"F\",\"F\",\"F\",\"M\",\"M\",\"F\",\"F\",\"M\",\"M\",\"M\",\"F\",\"F\",\"F\",\"F\",\"M\",\"F\",\"F\",\"F\",\"M\",\"M\",\"M\",\"M\",\"M\",\"M\",\"M\",\"F\",\"F\",\"M\",\"M\",\"M\",\"F\",\"M\",\"F\",\"M\",\"F\",\"F\",\"M\",\"F\",\"M\",\"M\",\"M\",\"F\",\"M\",\"M\",\"M\",\"M\",\"M\",\"M\",\"F\",\"M\",\"M\",\"F\",\"M\",\"M\",\"M\",\"M\",\"F\",\"M\",\"M\",\"F\",\"M\",\"M\",\"M\",\"M\",\"F\",\"M\",\"M\",\"M\",\"M\",\"F\",\"M\",\"M\",\"M\",\"M\",\"F\",\"M\",\"F\",\"M\",\"M\",\"M\",\"F\",\"F\",\"M\",\"M\",\"M\",\"M\",\"F\",\"M\",\"M\",\"M\",\"M\",\"M\",\"F\",\"M\",\"M\",\"M\",\"F\"],\"xaxis\":\"x\",\"yaxis\":\"y\",\"type\":\"histogram\"},{\"alignmentgroup\":\"True\",\"bingroup\":\"x\",\"hovertemplate\":\"escolaridade=mestrado\\u003cbr\\u003esexo=%{x}\\u003cbr\\u003ecount=%{y}\\u003cextra\\u003e\\u003c\\u002fextra\\u003e\",\"legendgroup\":\"mestrado\",\"marker\":{\"color\":\"#EF553B\",\"pattern\":{\"shape\":\"\"}},\"name\":\"mestrado\",\"offsetgroup\":\"mestrado\",\"orientation\":\"v\",\"showlegend\":true,\"texttemplate\":\"%{value}\",\"x\":[\"F\",\"M\",\"M\",\"M\",\"M\",\"F\",\"F\",\"F\",\"F\",\"M\",\"M\",\"F\",\"F\",\"M\",\"F\",\"F\",\"M\",\"F\",\"F\",\"F\",\"M\",\"M\",\"M\",\"F\",\"M\",\"M\",\"F\",\"M\",\"M\",\"M\",\"F\",\"M\",\"M\",\"M\",\"M\",\"M\",\"M\",\"M\",\"F\",\"M\",\"M\",\"M\",\"M\",\"M\",\"M\",\"M\",\"F\",\"M\",\"M\",\"F\",\"M\",\"F\",\"F\",\"M\",\"F\",\"M\",\"F\",\"F\",\"M\",\"F\",\"F\",\"M\",\"M\",\"M\",\"M\",\"M\",\"F\",\"M\",\"M\",\"M\",\"F\",\"M\",\"M\",\"F\",\"M\",\"F\",\"F\",\"F\",\"M\",\"M\",\"M\",\"M\",\"M\",\"M\",\"F\",\"F\",\"M\",\"M\",\"M\",\"M\",\"M\",\"F\",\"F\",\"M\",\"M\",\"M\",\"M\",\"M\",\"M\",\"F\",\"M\",\"F\",\"M\",\"M\",\"F\",\"F\",\"F\",\"M\",\"F\",\"F\",\"M\",\"M\",\"M\",\"M\",\"F\",\"M\",\"F\",\"M\",\"F\",\"F\",\"F\",\"F\",\"F\",\"F\",\"M\",\"F\",\"M\",\"M\",\"M\",\"F\",\"M\",\"M\",\"M\",\"M\",\"F\",\"M\",\"F\",\"F\",\"M\",\"M\",\"F\",\"F\",\"F\",\"M\",\"M\",\"M\",\"F\",\"F\",\"M\",\"M\",\"F\",\"M\",\"M\",\"M\",\"M\",\"F\",\"M\",\"M\",\"F\",\"M\",\"M\",\"F\",\"F\",\"M\",\"F\",\"M\",\"M\",\"M\",\"M\",\"F\",\"M\",\"M\",\"F\",\"M\",\"M\",\"M\",\"M\",\"M\",\"M\",\"M\",\"M\",\"M\",\"F\",\"M\",\"M\",\"M\",\"M\",\"F\",\"F\",\"F\",\"M\",\"M\",\"F\",\"F\",\"F\",\"F\",\"F\",\"F\",\"M\",\"M\",\"F\",\"M\",\"F\",\"M\",\"M\",\"F\",\"M\",\"F\",\"M\",\"F\",\"M\",\"F\",\"F\",\"M\",\"M\",\"M\",\"M\",\"F\",\"M\",\"F\",\"M\",\"F\",\"M\",\"F\",\"F\",\"M\",\"M\",\"M\",\"M\",\"F\",\"F\",\"F\",\"M\",\"F\",\"M\",\"F\",\"M\",\"M\",\"M\",\"M\",\"M\",\"M\",\"F\",\"M\",\"M\",\"F\",\"F\",\"F\",\"F\",\"M\",\"F\",\"F\",\"F\",\"M\",\"F\",\"F\",\"F\",\"M\",\"M\",\"F\",\"F\",\"M\",\"F\",\"M\",\"M\",\"M\",\"F\",\"M\",\"M\",\"F\",\"F\",\"M\",\"M\",\"M\",\"F\",\"M\",\"F\",\"F\",\"M\",\"M\",\"M\",\"M\",\"M\",\"M\",\"M\",\"M\",\"M\",\"M\",\"M\",\"M\",\"F\",\"F\",\"F\",\"F\",\"F\",\"M\",\"M\",\"M\",\"F\",\"M\",\"F\",\"M\",\"M\",\"M\",\"M\",\"M\",\"M\",\"M\",\"M\",\"F\",\"M\",\"F\",\"F\",\"M\",\"F\",\"M\",\"M\",\"F\",\"M\",\"M\",\"M\",\"M\",\"F\",\"M\",\"F\",\"M\",\"M\",\"M\",\"F\",\"F\",\"F\",\"M\",\"M\",\"F\",\"M\",\"F\",\"F\",\"M\",\"M\",\"F\",\"F\",\"M\",\"M\",\"M\",\"F\",\"M\",\"M\",\"F\",\"M\",\"M\",\"F\",\"F\",\"M\",\"F\",\"F\",\"F\",\"M\",\"F\",\"M\",\"F\",\"M\",\"M\",\"M\",\"F\",\"M\",\"M\",\"M\",\"M\",\"M\",\"M\",\"F\",\"M\",\"F\",\"F\",\"F\",\"F\",\"F\",\"F\",\"F\",\"M\",\"F\",\"F\",\"F\",\"F\",\"M\",\"F\",\"M\",\"F\",\"M\",\"F\",\"F\",\"M\",\"F\",\"M\",\"M\",\"F\",\"M\",\"M\",\"F\",\"M\",\"M\",\"M\",\"M\",\"M\",\"F\",\"F\",\"M\",\"M\",\"F\",\"M\",\"M\",\"M\",\"F\",\"F\",\"M\",\"M\",\"M\",\"F\",\"M\",\"F\",\"F\",\"M\",\"M\",\"F\",\"M\",\"M\",\"F\",\"F\",\"M\",\"F\",\"M\",\"M\",\"F\",\"F\",\"M\",\"M\",\"F\",\"M\",\"M\",\"F\",\"M\",\"M\",\"M\",\"M\",\"M\",\"F\",\"M\",\"M\",\"F\",\"F\",\"M\",\"F\",\"F\",\"M\",\"M\",\"M\",\"F\",\"F\",\"M\",\"F\",\"F\",\"M\",\"F\",\"F\",\"F\",\"M\",\"M\",\"M\",\"M\",\"F\",\"M\",\"M\",\"F\",\"F\",\"M\",\"M\",\"F\",\"F\",\"F\",\"M\",\"M\",\"M\",\"M\",\"F\",\"M\",\"F\",\"F\",\"M\",\"F\",\"M\",\"M\",\"M\",\"M\",\"F\",\"M\",\"M\",\"F\",\"F\",\"M\",\"F\",\"F\",\"F\",\"F\",\"M\",\"F\",\"M\",\"M\",\"M\",\"M\",\"F\",\"F\",\"M\",\"F\",\"F\",\"M\",\"M\",\"M\",\"M\",\"M\",\"M\",\"M\",\"F\",\"F\",\"F\",\"M\",\"M\",\"F\",\"F\",\"M\",\"M\",\"M\",\"M\",\"M\",\"F\",\"F\",\"F\",\"F\",\"M\",\"F\",\"M\",\"M\",\"M\",\"F\",\"M\",\"F\",\"M\",\"M\",\"M\",\"F\",\"M\",\"M\",\"F\",\"F\",\"M\",\"F\",\"M\",\"M\",\"F\",\"F\",\"M\",\"M\",\"M\",\"M\",\"M\",\"M\",\"M\",\"M\",\"M\",\"M\",\"M\",\"M\",\"F\",\"M\",\"F\",\"M\",\"M\",\"M\",\"M\",\"M\",\"M\",\"F\",\"M\",\"M\",\"F\",\"M\",\"F\",\"F\",\"F\",\"F\",\"M\",\"F\",\"M\",\"F\",\"M\",\"M\",\"F\",\"M\",\"M\",\"M\",\"M\",\"M\",\"F\",\"M\",\"F\",\"M\",\"F\",\"M\",\"M\",\"M\",\"M\",\"M\",\"M\",\"M\",\"M\",\"M\",\"F\",\"M\",\"F\",\"F\",\"F\",\"M\",\"M\",\"F\",\"M\",\"F\",\"F\",\"F\",\"M\",\"M\",\"M\",\"F\",\"M\",\"M\",\"F\",\"M\",\"M\",\"M\",\"M\",\"F\",\"M\",\"M\",\"M\",\"F\",\"M\",\"M\",\"F\",\"M\",\"M\",\"M\",\"F\",\"M\",\"M\",\"F\",\"F\",\"F\",\"M\",\"F\",\"M\",\"F\",\"M\",\"M\",\"F\",\"F\",\"M\",\"F\",\"M\",\"F\",\"F\",\"F\",\"F\",\"M\",\"M\",\"F\",\"M\",\"M\",\"M\",\"M\",\"F\",\"M\",\"F\",\"F\",\"M\",\"F\",\"M\",\"M\",\"M\",\"M\",\"M\",\"F\",\"F\",\"M\",\"M\",\"M\",\"F\",\"M\",\"M\",\"M\",\"M\",\"F\",\"M\",\"M\",\"M\",\"F\",\"M\",\"M\",\"F\",\"F\",\"M\",\"F\",\"M\",\"M\",\"M\",\"M\",\"M\",\"M\",\"M\",\"F\",\"M\",\"F\",\"F\",\"M\",\"M\",\"M\",\"M\",\"F\",\"F\",\"M\",\"M\",\"M\",\"M\",\"F\",\"M\",\"M\",\"M\",\"M\",\"M\",\"F\",\"F\",\"M\",\"F\",\"M\",\"M\",\"M\",\"F\",\"F\",\"F\",\"F\",\"M\",\"M\",\"F\",\"M\",\"M\",\"F\",\"M\",\"M\",\"M\",\"M\",\"M\",\"M\",\"M\",\"F\",\"F\",\"F\",\"M\",\"F\",\"M\",\"M\",\"M\",\"M\",\"M\",\"F\",\"F\",\"F\",\"M\",\"F\",\"F\",\"M\",\"F\",\"M\",\"M\",\"F\",\"F\",\"M\",\"M\",\"M\",\"F\",\"F\",\"M\",\"F\",\"M\",\"M\",\"F\",\"F\",\"M\",\"M\",\"F\",\"M\",\"F\",\"M\",\"F\",\"F\",\"M\",\"M\",\"M\",\"M\",\"M\",\"M\",\"M\",\"M\",\"M\",\"M\",\"F\",\"M\",\"F\",\"M\",\"M\",\"F\",\"M\",\"M\",\"F\",\"M\",\"F\",\"M\",\"M\",\"M\",\"F\",\"M\",\"F\",\"F\",\"F\",\"M\",\"M\",\"M\",\"M\",\"M\",\"F\",\"M\",\"F\",\"M\",\"M\",\"M\",\"M\",\"F\",\"F\",\"F\",\"F\",\"M\",\"F\",\"M\",\"M\",\"M\",\"M\",\"F\",\"M\",\"M\",\"F\",\"M\",\"M\",\"M\",\"F\",\"F\",\"F\",\"F\",\"M\",\"F\",\"M\",\"M\",\"M\",\"F\",\"F\",\"M\",\"M\",\"M\",\"M\",\"F\",\"F\",\"M\",\"M\",\"M\",\"M\",\"F\",\"F\",\"M\",\"M\",\"M\",\"F\",\"F\",\"M\",\"F\",\"F\",\"M\",\"M\",\"M\",\"M\",\"M\",\"M\",\"F\",\"F\",\"M\",\"M\",\"F\",\"F\",\"M\",\"M\",\"M\",\"M\",\"F\",\"M\",\"M\",\"M\",\"F\",\"M\",\"M\",\"M\",\"F\",\"F\",\"M\",\"M\",\"F\",\"F\",\"M\",\"M\",\"M\",\"M\",\"M\",\"M\",\"M\",\"F\",\"M\",\"M\",\"M\",\"M\",\"M\",\"M\",\"F\",\"M\",\"F\",\"F\",\"F\",\"M\",\"F\",\"M\",\"F\",\"M\",\"M\",\"F\",\"F\",\"M\",\"M\",\"F\",\"M\",\"F\",\"M\",\"M\",\"M\",\"F\",\"M\",\"M\",\"F\",\"M\",\"M\",\"M\",\"F\",\"F\",\"M\",\"M\",\"M\",\"F\",\"F\",\"F\",\"M\",\"M\",\"M\",\"M\",\"F\",\"M\",\"M\",\"M\",\"F\",\"M\",\"M\",\"F\",\"M\",\"M\",\"F\",\"F\",\"F\",\"M\",\"M\",\"M\",\"F\",\"M\",\"F\",\"M\",\"M\",\"M\",\"M\",\"M\",\"F\",\"M\",\"F\",\"M\",\"M\",\"M\",\"F\",\"M\",\"M\",\"M\",\"M\",\"M\",\"M\",\"M\",\"F\",\"F\",\"M\",\"M\",\"F\",\"M\",\"M\",\"M\",\"M\",\"M\",\"M\",\"M\",\"F\",\"M\",\"F\",\"F\",\"M\",\"M\",\"F\",\"M\",\"M\",\"M\",\"M\",\"M\",\"M\",\"M\",\"F\",\"F\",\"F\",\"M\",\"M\",\"M\",\"M\",\"F\",\"M\",\"F\",\"F\",\"M\",\"M\",\"M\",\"F\",\"F\",\"F\",\"M\",\"M\",\"M\",\"F\",\"M\",\"F\",\"M\",\"M\",\"F\",\"F\",\"M\",\"F\",\"F\",\"M\",\"M\",\"F\",\"F\",\"M\",\"M\",\"F\",\"F\",\"M\",\"F\",\"F\",\"F\",\"F\",\"M\",\"M\",\"F\",\"M\",\"M\",\"F\",\"M\",\"F\",\"M\",\"M\",\"M\",\"M\",\"M\",\"M\",\"M\",\"M\",\"M\",\"F\",\"F\",\"F\",\"F\",\"M\",\"F\",\"M\",\"M\",\"M\",\"M\",\"M\",\"F\",\"M\",\"F\",\"M\",\"M\",\"M\",\"M\",\"M\",\"F\",\"M\",\"F\",\"F\",\"F\",\"F\",\"F\",\"F\",\"M\",\"F\",\"F\",\"M\",\"F\",\"M\",\"F\",\"M\",\"M\",\"F\",\"F\",\"F\",\"M\",\"F\",\"M\",\"M\",\"M\",\"F\",\"M\",\"F\",\"F\",\"M\",\"F\",\"F\",\"M\",\"F\",\"F\",\"M\",\"M\",\"F\",\"F\",\"M\",\"M\",\"M\",\"F\",\"M\",\"F\",\"F\",\"F\",\"F\",\"F\",\"M\",\"M\",\"M\",\"F\",\"F\",\"M\",\"M\",\"M\",\"M\",\"M\",\"M\",\"F\",\"M\",\"M\",\"M\",\"F\",\"F\",\"F\",\"F\",\"F\",\"M\",\"M\",\"M\",\"F\",\"F\",\"F\",\"M\",\"F\",\"M\",\"M\",\"F\",\"F\",\"M\",\"F\",\"F\",\"M\",\"F\",\"M\",\"F\",\"M\",\"F\",\"F\",\"M\",\"M\",\"F\",\"F\",\"F\",\"M\",\"F\",\"F\",\"F\",\"F\",\"F\",\"M\",\"F\",\"M\",\"M\",\"F\",\"F\",\"M\",\"F\",\"M\",\"M\",\"F\",\"M\",\"M\",\"M\",\"M\",\"M\",\"F\",\"M\",\"M\",\"M\",\"F\",\"F\",\"M\",\"F\",\"F\",\"M\",\"F\",\"F\",\"F\",\"F\",\"F\",\"M\",\"M\",\"M\",\"F\",\"F\",\"F\",\"F\",\"M\",\"F\",\"M\",\"F\",\"F\",\"M\",\"F\",\"F\",\"F\",\"M\",\"M\",\"F\",\"F\",\"M\",\"M\",\"F\",\"M\",\"F\",\"M\",\"M\",\"F\",\"F\",\"M\",\"M\",\"F\",\"F\",\"F\",\"F\",\"M\",\"F\",\"M\",\"F\",\"F\",\"F\",\"M\",\"M\",\"F\",\"M\",\"M\",\"F\",\"M\",\"M\",\"F\",\"F\",\"F\",\"M\",\"M\",\"F\",\"M\",\"M\",\"F\",\"F\",\"F\",\"F\",\"M\",\"M\",\"M\",\"F\",\"M\",\"M\",\"M\",\"M\",\"F\",\"F\",\"M\",\"M\",\"F\",\"F\",\"F\",\"M\",\"F\",\"M\",\"M\",\"F\",\"F\",\"M\",\"F\",\"M\",\"F\",\"F\",\"M\",\"M\",\"F\",\"F\",\"F\",\"F\",\"F\",\"F\",\"F\",\"F\",\"M\",\"M\",\"M\",\"M\",\"F\",\"F\",\"F\",\"F\",\"M\",\"M\",\"M\",\"M\",\"F\",\"F\",\"M\",\"M\",\"M\",\"F\",\"F\",\"F\",\"F\",\"F\",\"M\",\"M\",\"F\",\"M\",\"F\",\"F\",\"F\",\"F\",\"M\",\"F\",\"M\",\"F\",\"F\",\"M\",\"M\",\"M\",\"M\",\"M\",\"F\",\"M\",\"M\",\"F\",\"F\",\"F\",\"M\",\"F\",\"M\",\"F\",\"F\",\"M\",\"F\",\"F\",\"M\",\"F\",\"M\",\"M\",\"F\",\"F\",\"F\",\"F\",\"M\",\"F\",\"F\",\"M\",\"F\",\"F\",\"M\",\"F\",\"F\",\"M\",\"F\",\"F\",\"M\",\"F\",\"F\",\"F\",\"M\",\"F\",\"F\",\"F\",\"M\",\"M\",\"M\",\"M\",\"F\",\"F\",\"M\",\"F\",\"F\",\"F\",\"F\",\"F\",\"M\",\"F\",\"F\",\"F\",\"F\",\"M\",\"F\",\"F\",\"M\",\"F\",\"M\",\"M\",\"M\",\"F\",\"M\",\"F\",\"F\",\"M\",\"F\",\"F\",\"F\",\"M\",\"F\",\"M\",\"M\",\"M\",\"F\",\"M\",\"F\",\"F\",\"M\",\"F\",\"F\",\"F\",\"F\",\"M\",\"F\",\"F\",\"F\",\"F\",\"M\",\"F\",\"F\",\"F\",\"M\",\"F\",\"M\",\"M\",\"F\",\"F\",\"F\",\"M\",\"F\",\"F\",\"M\",\"F\",\"M\",\"M\",\"F\",\"F\",\"F\",\"F\",\"F\",\"F\",\"F\",\"F\",\"F\",\"M\",\"M\",\"M\",\"F\",\"F\",\"F\",\"F\",\"M\",\"M\",\"F\",\"F\",\"F\",\"F\",\"F\",\"F\",\"F\",\"F\",\"M\",\"F\",\"M\",\"F\",\"F\",\"F\",\"F\",\"F\",\"F\",\"M\",\"F\",\"F\",\"M\",\"F\",\"M\",\"M\",\"F\",\"F\",\"F\",\"F\",\"F\",\"M\",\"M\",\"F\",\"M\",\"M\",\"F\",\"F\",\"M\",\"M\",\"M\",\"F\",\"F\",\"F\",\"F\",\"M\",\"M\",\"F\",\"M\",\"M\",\"F\",\"M\",\"F\",\"F\",\"M\",\"F\",\"F\",\"F\",\"F\",\"M\",\"M\",\"M\",\"F\",\"F\",\"F\",\"F\",\"F\",\"F\",\"F\",\"F\",\"F\",\"F\",\"F\",\"M\",\"F\",\"F\",\"F\",\"M\",\"M\",\"F\",\"M\",\"F\",\"F\",\"F\",\"F\",\"F\",\"F\",\"M\",\"F\",\"F\",\"M\",\"M\",\"F\",\"F\",\"F\",\"M\",\"F\",\"F\",\"M\",\"F\",\"F\",\"F\",\"F\",\"F\",\"F\",\"F\",\"M\",\"F\",\"F\",\"M\",\"F\",\"F\",\"M\",\"F\",\"M\",\"F\",\"M\",\"F\",\"F\",\"M\",\"F\",\"F\",\"F\",\"M\",\"F\",\"F\",\"M\",\"F\",\"F\",\"F\",\"M\",\"F\",\"F\",\"F\",\"M\",\"M\",\"F\",\"F\",\"F\",\"F\",\"F\",\"F\",\"F\",\"M\",\"M\",\"M\",\"F\",\"F\",\"F\",\"F\",\"F\",\"M\",\"F\",\"M\",\"F\",\"F\",\"M\",\"F\",\"F\",\"F\",\"F\",\"F\",\"F\",\"F\",\"M\",\"F\",\"F\",\"F\",\"F\",\"F\",\"F\",\"F\",\"F\",\"F\",\"F\",\"F\",\"F\",\"F\",\"F\",\"F\",\"F\",\"M\",\"M\",\"F\",\"M\",\"M\",\"F\",\"F\",\"F\",\"F\",\"F\",\"M\",\"M\",\"F\",\"F\",\"F\",\"M\",\"F\",\"F\",\"F\",\"M\",\"F\",\"M\",\"F\",\"F\",\"F\",\"M\",\"M\",\"M\",\"M\",\"F\",\"F\",\"F\",\"F\",\"F\",\"M\",\"F\",\"F\",\"F\",\"F\",\"F\",\"M\",\"F\",\"F\",\"F\",\"M\",\"F\",\"F\",\"F\",\"F\",\"F\",\"F\",\"M\",\"F\",\"M\",\"F\",\"M\",\"F\",\"F\",\"F\",\"F\",\"F\",\"M\",\"F\",\"F\",\"F\",\"F\",\"F\",\"F\",\"F\",\"M\",\"F\",\"F\",\"F\",\"F\",\"M\",\"F\",\"F\",\"F\",\"F\",\"M\",\"F\",\"F\",\"M\",\"F\",\"M\",\"F\",\"M\",\"F\",\"M\",\"M\",\"F\",\"F\",\"F\",\"F\",\"F\",\"F\",\"F\",\"M\",\"M\",\"F\",\"F\",\"F\",\"F\",\"F\",\"M\",\"M\",\"F\",\"F\",\"M\",\"M\",\"M\",\"F\",\"F\",\"M\",\"F\",\"F\",\"F\",\"F\",\"M\",\"F\",\"F\",\"F\",\"F\",\"F\",\"F\",\"F\",\"F\",\"F\",\"F\",\"F\",\"F\",\"F\",\"F\",\"F\",\"F\",\"F\",\"F\",\"M\",\"F\",\"F\",\"F\",\"M\",\"F\",\"F\",\"F\",\"F\",\"F\",\"M\",\"M\",\"F\",\"F\",\"M\",\"M\",\"M\",\"M\",\"M\",\"F\",\"M\",\"M\",\"F\",\"F\",\"F\",\"F\",\"F\",\"M\",\"F\",\"F\",\"F\",\"F\",\"F\",\"F\",\"M\",\"F\",\"F\",\"F\",\"F\",\"F\",\"F\",\"F\",\"F\",\"M\",\"F\",\"M\",\"M\",\"F\",\"F\",\"F\",\"M\",\"M\",\"F\",\"M\",\"F\",\"F\",\"F\",\"F\",\"F\",\"F\",\"F\",\"F\",\"F\",\"F\",\"M\",\"F\",\"F\",\"F\",\"F\",\"F\",\"F\",\"M\",\"M\",\"M\",\"F\",\"F\",\"F\",\"F\",\"F\",\"F\",\"F\",\"F\",\"F\",\"F\",\"F\",\"F\",\"F\",\"F\",\"M\",\"F\",\"F\",\"F\",\"F\",\"F\",\"M\",\"F\",\"F\",\"F\",\"F\",\"F\",\"F\",\"M\",\"F\",\"F\",\"F\",\"F\",\"F\",\"M\",\"M\",\"M\",\"F\",\"M\",\"F\",\"F\",\"M\",\"F\",\"F\",\"M\",\"F\",\"F\",\"M\",\"M\",\"F\",\"F\",\"M\",\"F\",\"F\",\"F\",\"M\",\"F\",\"F\",\"M\",\"F\",\"M\",\"F\",\"M\",\"M\",\"F\",\"F\",\"M\",\"F\",\"M\",\"F\",\"F\",\"M\",\"F\",\"F\",\"F\",\"M\",\"F\",\"F\",\"F\",\"M\",\"F\",\"F\",\"F\",\"F\",\"F\",\"F\",\"F\",\"M\",\"M\",\"F\",\"M\",\"F\",\"F\",\"F\",\"F\",\"F\",\"F\",\"F\",\"F\",\"F\",\"F\",\"M\",\"M\",\"F\",\"F\",\"F\",\"M\",\"F\",\"F\",\"M\",\"M\",\"M\",\"F\",\"M\",\"F\",\"F\",\"M\",\"M\",\"F\",\"F\",\"M\",\"M\",\"F\",\"M\",\"F\",\"F\",\"F\",\"M\",\"F\",\"F\",\"F\",\"F\",\"F\",\"F\",\"F\",\"F\",\"F\",\"F\",\"F\",\"M\",\"M\",\"F\",\"F\",\"F\",\"M\",\"F\",\"F\",\"M\",\"F\",\"F\",\"M\",\"M\",\"F\",\"F\",\"M\",\"M\",\"M\",\"F\",\"F\",\"F\",\"F\",\"F\",\"M\",\"F\",\"M\",\"M\",\"F\",\"M\",\"F\",\"F\",\"F\",\"M\",\"F\",\"F\",\"F\",\"M\",\"F\",\"F\",\"F\",\"F\",\"F\",\"F\",\"F\",\"F\",\"F\",\"M\",\"F\",\"F\",\"F\",\"F\",\"F\",\"F\",\"F\",\"M\",\"M\",\"F\",\"F\",\"F\",\"F\",\"F\",\"F\",\"M\",\"F\",\"F\",\"M\",\"F\",\"F\",\"F\",\"F\",\"F\",\"F\",\"F\",\"F\",\"F\",\"F\",\"M\",\"F\",\"F\",\"F\",\"F\",\"F\",\"F\",\"M\",\"F\",\"F\",\"F\",\"F\",\"F\",\"M\",\"M\",\"M\",\"M\",\"F\",\"F\",\"F\",\"M\",\"F\",\"M\",\"F\",\"F\",\"F\",\"F\",\"M\",\"M\",\"M\",\"F\",\"F\",\"M\",\"M\",\"M\",\"F\",\"M\",\"F\",\"F\",\"M\",\"F\",\"F\",\"F\",\"F\",\"M\",\"F\",\"F\",\"F\",\"F\",\"F\",\"F\",\"F\",\"F\",\"F\",\"M\",\"F\",\"M\",\"M\",\"M\",\"M\",\"M\",\"M\",\"F\",\"M\",\"M\",\"F\",\"M\",\"F\",\"F\",\"F\",\"M\",\"M\",\"F\",\"F\",\"F\",\"F\",\"M\",\"F\",\"F\",\"M\",\"F\",\"F\",\"F\",\"F\",\"M\",\"F\",\"F\",\"M\",\"F\",\"F\",\"M\",\"F\",\"F\",\"F\",\"M\",\"M\",\"F\",\"F\",\"M\",\"F\",\"F\",\"F\",\"M\",\"M\",\"F\",\"F\",\"F\",\"F\",\"M\",\"F\",\"F\",\"F\",\"F\",\"F\",\"F\",\"F\",\"F\",\"M\",\"M\",\"F\",\"M\",\"M\",\"F\",\"F\",\"F\",\"F\",\"M\",\"F\",\"F\",\"M\",\"F\",\"M\",\"F\",\"M\",\"M\",\"F\",\"F\",\"F\",\"F\",\"F\",\"M\",\"F\",\"F\",\"M\",\"F\",\"F\",\"F\",\"F\",\"M\",\"F\",\"F\",\"M\",\"F\",\"F\",\"F\",\"F\",\"F\",\"F\",\"M\",\"F\",\"F\",\"F\",\"F\",\"F\",\"M\",\"F\",\"F\",\"M\",\"F\",\"F\",\"F\",\"F\",\"F\",\"M\",\"F\",\"F\",\"F\",\"F\",\"F\",\"F\",\"F\",\"F\",\"F\",\"F\",\"F\",\"M\",\"F\",\"F\",\"F\",\"F\",\"F\",\"F\",\"F\",\"M\",\"F\",\"F\",\"F\",\"F\",\"F\",\"M\",\"F\",\"F\",\"M\",\"M\",\"M\",\"F\",\"M\",\"M\",\"F\",\"F\",\"M\",\"F\",\"F\",\"F\",\"F\",\"F\",\"M\",\"F\",\"F\",\"F\",\"F\",\"F\",\"F\",\"F\",\"M\",\"M\",\"M\",\"F\",\"M\",\"F\",\"M\",\"F\",\"F\",\"F\",\"M\",\"M\",\"F\",\"F\",\"F\",\"F\",\"M\",\"F\",\"M\",\"F\",\"F\",\"F\",\"F\",\"F\",\"F\",\"F\",\"F\",\"M\",\"F\",\"F\",\"F\",\"F\",\"F\",\"F\",\"F\",\"F\",\"M\",\"F\",\"M\",\"F\",\"F\",\"F\",\"F\",\"F\",\"F\",\"F\",\"F\",\"M\",\"F\",\"F\",\"F\",\"F\",\"F\",\"M\",\"F\",\"F\",\"F\",\"M\",\"F\",\"F\",\"F\",\"F\",\"F\",\"F\",\"F\",\"F\",\"M\",\"M\",\"M\",\"M\",\"F\",\"F\",\"F\",\"F\",\"F\",\"F\",\"M\",\"F\",\"F\",\"F\",\"F\",\"F\",\"M\",\"F\",\"M\",\"F\",\"M\",\"M\",\"F\",\"M\",\"M\",\"F\",\"F\",\"F\",\"F\",\"F\",\"F\",\"F\",\"M\",\"F\",\"F\",\"F\",\"F\",\"F\",\"F\",\"F\",\"F\",\"F\",\"M\",\"F\",\"F\",\"F\",\"F\",\"F\",\"F\",\"M\",\"M\",\"F\",\"F\",\"F\",\"F\",\"F\",\"F\",\"F\",\"F\",\"M\",\"M\",\"F\",\"F\",\"M\",\"F\",\"F\",\"F\",\"F\",\"F\",\"F\",\"F\",\"F\",\"M\",\"F\",\"F\",\"F\",\"F\",\"F\",\"F\",\"F\",\"F\",\"M\",\"F\",\"F\",\"F\",\"F\",\"F\",\"F\",\"M\",\"F\",\"M\",\"F\",\"M\",\"M\",\"F\",\"F\",\"F\",\"F\",\"M\",\"F\",\"F\",\"M\",\"F\",\"F\",\"F\",\"F\",\"F\",\"F\",\"F\",\"M\",\"M\",\"M\",\"F\",\"F\",\"F\",\"F\",\"F\",\"F\",\"F\",\"F\",\"F\",\"F\",\"F\",\"M\",\"F\",\"F\",\"F\",\"F\",\"F\",\"F\",\"F\",\"F\",\"M\",\"F\",\"M\",\"F\",\"M\",\"F\",\"F\",\"M\",\"M\",\"F\",\"F\",\"F\",\"F\",\"F\",\"F\",\"M\",\"F\",\"M\",\"M\",\"M\",\"F\",\"M\",\"F\",\"F\",\"F\",\"F\",\"F\",\"F\",\"M\",\"F\",\"M\",\"F\",\"M\",\"F\",\"F\",\"F\",\"F\",\"F\",\"F\",\"F\",\"F\",\"F\",\"F\",\"F\",\"F\",\"M\",\"F\",\"F\",\"F\",\"F\",\"F\",\"F\",\"F\",\"F\",\"F\",\"F\",\"M\",\"M\",\"F\",\"F\",\"M\",\"M\",\"M\",\"F\",\"F\",\"F\",\"F\",\"F\",\"F\",\"F\",\"M\",\"F\",\"F\",\"M\",\"F\",\"F\",\"F\",\"M\",\"F\",\"F\",\"F\",\"F\",\"F\",\"F\",\"F\",\"F\",\"F\",\"F\",\"M\",\"F\",\"F\",\"F\",\"M\",\"F\",\"F\",\"M\",\"M\",\"M\",\"F\",\"M\",\"F\",\"F\",\"M\",\"M\",\"F\",\"M\",\"M\",\"M\",\"M\",\"M\",\"M\",\"M\",\"F\",\"M\",\"F\",\"M\",\"M\",\"M\",\"F\",\"M\",\"M\",\"M\",\"M\",\"M\",\"M\",\"M\",\"M\",\"F\",\"F\",\"F\",\"F\",\"F\",\"M\",\"F\",\"F\",\"F\",\"M\",\"F\",\"F\",\"M\",\"M\",\"M\",\"M\",\"M\",\"F\",\"F\",\"M\",\"F\",\"F\",\"F\",\"M\",\"M\",\"M\",\"M\",\"M\",\"M\",\"M\",\"F\",\"F\",\"M\",\"F\",\"F\",\"F\",\"F\",\"F\",\"M\",\"M\",\"F\",\"F\",\"M\",\"F\",\"F\",\"F\",\"M\",\"F\",\"F\",\"M\",\"F\",\"M\",\"F\",\"M\",\"M\",\"M\",\"M\",\"M\",\"F\",\"M\",\"M\",\"F\",\"M\",\"M\",\"M\",\"F\",\"M\",\"M\",\"F\",\"M\",\"M\",\"M\",\"M\",\"M\",\"M\",\"M\",\"M\",\"M\",\"F\",\"M\",\"F\",\"M\",\"F\",\"F\",\"M\",\"F\",\"M\",\"F\",\"F\",\"F\",\"M\",\"M\",\"M\",\"M\",\"F\",\"F\",\"M\",\"M\",\"M\",\"M\",\"F\",\"M\",\"M\",\"M\",\"F\",\"M\",\"M\",\"M\",\"F\",\"M\",\"M\",\"M\",\"M\",\"F\",\"M\",\"M\",\"M\",\"M\",\"M\",\"F\",\"M\",\"F\",\"M\",\"M\",\"M\",\"F\",\"F\",\"F\",\"F\",\"M\",\"F\",\"M\",\"M\",\"F\",\"M\",\"M\",\"M\",\"M\",\"F\",\"M\",\"F\",\"F\",\"M\",\"M\",\"F\",\"F\",\"M\",\"F\",\"F\",\"M\",\"F\",\"F\",\"M\",\"M\",\"M\",\"F\",\"M\",\"F\",\"F\",\"F\",\"M\",\"F\",\"M\",\"M\",\"M\",\"F\",\"M\",\"F\",\"F\",\"M\",\"F\",\"M\",\"M\",\"F\",\"F\",\"M\",\"F\",\"F\",\"M\",\"F\",\"F\",\"M\",\"F\",\"M\",\"M\",\"M\",\"F\",\"F\",\"F\",\"M\",\"M\",\"M\",\"F\",\"M\",\"F\",\"M\",\"F\",\"F\",\"M\",\"M\",\"M\",\"F\",\"M\",\"M\",\"F\",\"M\",\"F\",\"M\",\"F\",\"M\",\"F\",\"F\",\"F\",\"M\",\"M\",\"F\",\"M\",\"F\",\"F\",\"F\",\"M\",\"M\",\"F\",\"M\",\"F\",\"F\",\"M\",\"M\",\"M\",\"M\",\"F\",\"M\",\"M\",\"F\",\"M\",\"M\",\"M\",\"M\",\"M\",\"M\",\"M\",\"M\",\"M\",\"M\",\"M\",\"F\",\"M\",\"M\",\"F\",\"F\",\"M\",\"M\",\"F\",\"M\",\"M\",\"F\",\"M\",\"F\",\"M\",\"M\",\"F\",\"F\",\"M\",\"F\",\"M\",\"M\",\"F\",\"M\",\"F\",\"M\",\"M\",\"M\",\"M\",\"M\",\"M\",\"F\",\"F\",\"M\",\"M\",\"F\",\"M\",\"M\",\"F\",\"F\",\"M\",\"M\",\"M\",\"M\",\"M\",\"M\",\"M\",\"F\",\"F\",\"F\",\"M\",\"F\",\"M\",\"M\",\"M\",\"M\",\"M\",\"M\",\"F\",\"M\",\"M\",\"M\",\"M\",\"M\",\"F\",\"F\",\"F\",\"M\",\"M\",\"M\",\"M\",\"F\",\"M\",\"M\",\"M\",\"F\",\"F\",\"F\",\"M\",\"M\",\"M\",\"M\",\"M\",\"M\",\"M\",\"F\",\"F\",\"M\",\"F\",\"F\",\"M\",\"M\",\"M\",\"F\",\"M\",\"F\",\"F\",\"M\",\"M\",\"F\",\"M\",\"F\",\"M\",\"M\",\"M\",\"M\",\"M\",\"F\",\"F\",\"M\",\"F\",\"M\",\"M\",\"M\",\"F\",\"M\",\"F\",\"M\",\"M\",\"M\",\"M\",\"F\",\"M\",\"F\",\"M\",\"F\",\"F\",\"F\",\"M\",\"F\",\"M\",\"F\",\"F\",\"M\",\"M\",\"M\",\"M\",\"M\",\"M\",\"M\",\"F\",\"M\",\"M\",\"M\",\"F\",\"F\",\"M\",\"F\",\"F\",\"M\",\"M\",\"M\",\"M\",\"F\",\"F\",\"F\",\"F\",\"M\",\"M\",\"F\",\"M\",\"M\",\"M\",\"F\",\"M\",\"M\",\"M\",\"F\",\"M\",\"F\",\"F\",\"M\",\"F\",\"F\",\"F\",\"M\",\"F\",\"M\",\"M\",\"F\",\"M\",\"M\",\"M\",\"M\",\"M\",\"M\",\"M\",\"M\",\"M\",\"M\",\"M\",\"F\",\"M\",\"M\",\"F\",\"M\",\"M\",\"F\",\"M\",\"F\",\"M\",\"M\",\"M\",\"F\",\"M\",\"M\",\"M\",\"M\",\"M\",\"M\",\"F\",\"M\",\"M\",\"F\"],\"xaxis\":\"x\",\"yaxis\":\"y\",\"type\":\"histogram\"},{\"alignmentgroup\":\"True\",\"bingroup\":\"x\",\"hovertemplate\":\"escolaridade=sem educacao formal\\u003cbr\\u003esexo=%{x}\\u003cbr\\u003ecount=%{y}\\u003cextra\\u003e\\u003c\\u002fextra\\u003e\",\"legendgroup\":\"sem educacao formal\",\"marker\":{\"color\":\"#00cc96\",\"pattern\":{\"shape\":\"\"}},\"name\":\"sem educacao formal\",\"offsetgroup\":\"sem educacao formal\",\"orientation\":\"v\",\"showlegend\":true,\"texttemplate\":\"%{value}\",\"x\":[\"M\",\"M\",\"M\",\"F\",\"M\",\"M\",\"M\",\"M\",\"F\",\"M\",\"F\",\"F\",\"M\",\"F\",\"F\",\"F\",\"M\",\"F\",\"M\",\"F\",\"F\",\"F\",\"F\",\"F\",\"M\",\"F\",\"F\",\"M\",\"F\",\"F\",\"M\",\"F\",\"F\",\"F\",\"F\",\"M\",\"M\",\"M\",\"M\",\"F\",\"M\",\"M\",\"M\",\"F\",\"F\",\"M\",\"F\",\"M\",\"M\",\"M\",\"F\",\"M\",\"F\",\"F\",\"M\",\"F\",\"M\",\"M\",\"F\",\"M\",\"M\",\"M\",\"M\",\"F\",\"M\",\"M\",\"M\",\"M\",\"M\",\"M\",\"M\",\"M\",\"M\",\"M\",\"F\",\"F\",\"F\",\"M\",\"M\",\"M\",\"F\",\"M\",\"M\",\"M\",\"F\",\"M\",\"F\",\"F\",\"M\",\"F\",\"M\",\"M\",\"M\",\"M\",\"M\",\"F\",\"M\",\"M\",\"M\",\"M\",\"F\",\"M\",\"M\",\"M\",\"F\",\"F\",\"F\",\"M\",\"M\",\"F\",\"M\",\"M\",\"M\",\"M\",\"M\",\"F\",\"M\",\"M\",\"M\",\"F\",\"F\",\"M\",\"F\",\"M\",\"M\",\"M\",\"M\",\"M\",\"F\",\"M\",\"F\",\"F\",\"M\",\"M\",\"M\",\"M\",\"F\",\"M\",\"F\",\"M\",\"F\",\"M\",\"M\",\"M\",\"M\",\"M\",\"M\",\"M\",\"M\",\"F\",\"M\",\"M\",\"F\",\"F\",\"M\",\"F\",\"M\",\"M\",\"F\",\"M\",\"M\",\"F\",\"F\",\"M\",\"M\",\"F\",\"F\",\"F\",\"F\",\"F\",\"M\",\"M\",\"M\",\"M\",\"M\",\"F\",\"F\",\"M\",\"F\",\"F\",\"F\",\"F\",\"F\",\"M\",\"M\",\"F\",\"M\",\"F\",\"M\",\"M\",\"M\",\"M\",\"M\",\"F\",\"M\",\"M\",\"M\",\"F\",\"M\",\"F\",\"F\",\"F\",\"F\",\"M\",\"F\",\"M\",\"F\",\"M\",\"F\",\"F\",\"M\",\"M\",\"F\",\"M\",\"F\",\"F\",\"M\",\"F\",\"M\",\"M\",\"F\",\"M\",\"F\",\"M\",\"M\",\"M\",\"M\",\"M\",\"F\",\"M\",\"M\",\"M\",\"F\",\"F\",\"F\",\"F\",\"F\",\"F\",\"F\",\"M\",\"M\",\"M\",\"M\",\"M\",\"F\",\"F\",\"F\",\"F\",\"F\",\"F\",\"F\",\"M\",\"F\",\"M\",\"F\",\"M\",\"F\",\"F\",\"M\",\"M\",\"M\",\"M\",\"F\",\"M\",\"F\",\"M\",\"F\",\"F\",\"M\",\"F\",\"M\",\"M\",\"F\",\"M\",\"M\",\"F\",\"M\",\"M\",\"M\",\"M\",\"F\",\"M\",\"M\",\"M\",\"F\",\"M\",\"F\",\"M\",\"F\",\"M\",\"F\",\"F\",\"F\",\"F\",\"M\",\"M\",\"M\",\"F\",\"M\",\"F\",\"M\",\"F\",\"F\",\"M\",\"M\",\"F\",\"M\",\"M\",\"M\",\"M\",\"M\",\"M\",\"F\",\"F\",\"F\",\"F\",\"M\",\"M\",\"F\",\"F\",\"M\",\"F\",\"F\",\"M\",\"M\",\"M\",\"M\",\"F\",\"F\",\"F\",\"M\",\"F\",\"F\",\"M\",\"F\",\"F\",\"M\",\"F\",\"F\",\"F\",\"M\",\"M\",\"M\",\"M\",\"F\",\"M\",\"M\",\"M\",\"F\",\"F\",\"M\",\"M\",\"F\",\"M\",\"M\",\"M\",\"M\",\"M\",\"M\",\"F\",\"F\",\"M\",\"F\",\"F\",\"M\",\"M\",\"M\",\"M\",\"F\",\"M\",\"M\",\"F\",\"F\",\"M\",\"M\",\"F\",\"M\",\"M\",\"M\",\"M\",\"M\",\"M\",\"M\",\"F\",\"F\",\"M\",\"M\",\"F\",\"F\",\"M\",\"F\",\"M\",\"M\",\"M\",\"F\",\"M\",\"F\",\"M\",\"F\",\"M\",\"F\",\"M\",\"M\",\"F\",\"F\",\"F\",\"M\",\"M\",\"F\",\"M\",\"M\",\"F\",\"M\",\"F\",\"M\",\"M\",\"F\",\"M\",\"M\",\"M\",\"M\",\"M\",\"F\",\"M\",\"M\",\"M\",\"M\",\"M\",\"M\",\"M\",\"F\",\"M\",\"M\",\"F\",\"F\",\"F\",\"M\",\"M\",\"M\",\"F\",\"M\",\"M\",\"M\",\"F\",\"F\",\"F\",\"F\",\"F\",\"F\",\"F\",\"F\",\"F\",\"M\",\"M\",\"F\",\"F\",\"M\",\"F\",\"M\",\"M\",\"M\",\"F\",\"M\",\"M\",\"M\",\"M\",\"M\",\"F\",\"F\",\"F\",\"M\",\"F\",\"F\",\"M\",\"F\",\"F\",\"M\",\"F\",\"M\",\"M\",\"M\",\"F\",\"M\",\"F\",\"M\",\"F\",\"F\",\"F\",\"F\",\"F\",\"M\",\"F\",\"M\",\"M\",\"F\",\"M\",\"M\",\"M\",\"F\",\"F\",\"F\",\"F\",\"M\",\"M\",\"F\",\"M\",\"M\",\"F\",\"F\",\"F\",\"M\",\"M\",\"F\",\"M\",\"M\",\"M\",\"M\",\"M\",\"F\",\"M\",\"M\",\"M\",\"F\",\"F\",\"M\",\"F\",\"M\",\"M\",\"M\",\"M\",\"F\",\"M\",\"M\",\"F\",\"F\",\"M\",\"M\",\"F\",\"M\",\"M\",\"M\",\"F\",\"M\",\"F\",\"F\",\"M\",\"F\",\"F\",\"M\",\"F\",\"M\",\"M\",\"F\",\"F\",\"F\",\"M\",\"M\",\"M\",\"M\",\"M\",\"F\",\"F\",\"M\",\"F\",\"M\",\"M\",\"F\",\"M\",\"M\",\"M\",\"M\",\"M\",\"F\",\"F\",\"M\",\"M\",\"F\",\"F\",\"F\",\"M\",\"F\",\"F\",\"F\",\"M\",\"M\",\"M\",\"F\",\"F\",\"M\",\"F\",\"M\",\"M\",\"F\",\"M\",\"F\",\"M\",\"F\",\"F\",\"M\",\"F\",\"F\",\"M\",\"M\",\"M\",\"F\",\"M\",\"F\",\"M\",\"M\",\"F\",\"M\",\"F\",\"M\",\"M\",\"F\",\"F\",\"F\",\"F\",\"M\",\"F\",\"F\",\"F\",\"F\",\"M\",\"M\",\"M\",\"M\",\"F\",\"M\",\"M\",\"M\",\"M\",\"M\",\"F\",\"F\",\"F\",\"M\",\"M\",\"F\",\"M\",\"F\",\"F\",\"F\",\"F\",\"M\",\"M\",\"M\",\"M\",\"F\",\"M\",\"F\",\"F\",\"F\",\"F\",\"M\",\"F\",\"F\",\"F\",\"M\",\"F\",\"F\",\"M\",\"M\",\"F\",\"M\",\"F\",\"F\",\"M\",\"M\",\"F\",\"F\",\"F\",\"F\",\"F\",\"F\",\"F\",\"F\",\"F\",\"F\",\"M\",\"M\",\"F\",\"M\",\"F\",\"M\",\"F\",\"M\",\"F\",\"F\",\"F\",\"M\",\"F\",\"F\",\"M\",\"M\",\"F\",\"F\",\"F\",\"F\",\"F\",\"F\",\"M\",\"F\",\"F\",\"F\",\"M\",\"F\",\"F\",\"M\",\"F\",\"M\",\"M\",\"M\",\"M\",\"M\",\"M\",\"F\",\"M\",\"F\",\"F\",\"F\",\"F\",\"F\",\"M\",\"F\",\"F\",\"M\",\"M\",\"M\",\"F\",\"M\",\"F\",\"F\",\"F\",\"M\",\"F\",\"F\",\"F\",\"F\",\"F\",\"M\",\"F\",\"F\",\"M\",\"M\",\"F\",\"F\",\"M\",\"M\",\"F\",\"F\",\"F\",\"F\",\"F\",\"M\",\"M\",\"M\",\"M\",\"F\",\"F\",\"M\",\"F\",\"M\",\"M\",\"F\",\"F\",\"F\",\"F\",\"M\",\"F\",\"F\",\"M\",\"F\",\"F\",\"F\",\"F\",\"F\",\"F\",\"F\",\"F\",\"M\",\"M\",\"F\",\"M\",\"F\",\"F\",\"F\",\"F\",\"M\",\"M\",\"M\",\"F\",\"F\",\"M\",\"F\",\"F\",\"F\",\"F\",\"F\",\"F\",\"F\",\"F\",\"F\",\"F\",\"F\",\"M\",\"F\",\"M\",\"F\",\"F\",\"F\",\"F\",\"M\",\"F\",\"F\",\"F\",\"F\",\"F\",\"F\",\"F\",\"M\",\"F\",\"F\",\"F\",\"M\",\"F\",\"F\",\"F\",\"M\",\"F\",\"F\",\"F\",\"F\",\"M\",\"M\",\"M\",\"F\",\"F\",\"F\",\"M\",\"F\",\"F\",\"F\",\"F\",\"F\",\"F\",\"M\",\"M\",\"F\",\"M\",\"F\",\"M\",\"F\",\"F\",\"M\",\"F\",\"F\",\"F\",\"M\",\"F\",\"F\",\"F\",\"F\",\"F\",\"M\",\"M\",\"F\",\"F\",\"F\",\"M\",\"F\",\"M\",\"F\",\"F\",\"F\",\"F\",\"M\",\"M\",\"F\",\"M\",\"F\",\"F\",\"F\",\"F\",\"F\",\"F\",\"M\",\"F\",\"M\",\"M\",\"M\",\"M\",\"M\",\"M\",\"F\",\"F\",\"M\",\"M\",\"F\",\"M\",\"M\",\"M\",\"F\",\"F\",\"F\",\"F\",\"M\",\"M\",\"F\",\"M\",\"F\",\"F\",\"M\",\"F\",\"F\",\"M\",\"M\",\"F\",\"M\",\"F\",\"F\",\"M\",\"F\",\"F\",\"F\",\"M\",\"F\",\"F\",\"F\",\"M\",\"M\",\"F\",\"M\",\"M\",\"F\",\"M\",\"M\",\"F\",\"M\",\"F\",\"F\",\"F\",\"F\",\"F\",\"F\",\"M\",\"M\",\"F\",\"M\",\"M\",\"F\",\"M\",\"M\",\"M\",\"M\",\"F\",\"F\",\"F\",\"M\",\"F\",\"F\",\"M\",\"M\",\"M\",\"F\",\"F\",\"F\",\"F\",\"F\",\"F\",\"M\",\"M\",\"F\",\"F\",\"M\",\"F\",\"M\",\"F\",\"F\",\"M\",\"M\",\"M\",\"F\",\"F\",\"F\",\"F\",\"F\",\"F\",\"F\",\"F\",\"F\",\"F\",\"F\",\"F\",\"F\",\"F\",\"M\",\"F\",\"F\",\"F\",\"F\",\"M\",\"F\",\"F\",\"F\",\"F\",\"F\",\"F\",\"F\",\"F\",\"M\",\"F\",\"F\",\"F\",\"M\",\"F\",\"F\",\"F\",\"M\",\"M\",\"M\",\"F\",\"F\",\"M\",\"F\",\"F\",\"F\",\"F\",\"F\",\"F\",\"F\",\"F\",\"F\",\"F\",\"F\",\"F\",\"F\",\"F\",\"F\",\"M\",\"F\",\"F\",\"F\",\"F\",\"M\",\"F\",\"F\",\"F\",\"M\",\"F\",\"F\",\"F\",\"F\",\"F\",\"F\",\"F\",\"F\",\"F\",\"F\",\"F\",\"F\",\"F\",\"F\",\"M\",\"F\",\"F\",\"F\",\"F\",\"F\",\"F\",\"F\",\"F\",\"F\",\"F\",\"F\",\"F\",\"F\",\"F\",\"M\",\"F\",\"F\",\"F\",\"F\",\"F\",\"F\",\"F\",\"M\",\"F\",\"F\",\"F\",\"F\",\"F\",\"F\",\"F\",\"F\",\"F\",\"F\",\"F\",\"F\",\"F\",\"M\",\"M\",\"F\",\"F\",\"F\",\"M\",\"F\",\"F\",\"M\",\"F\",\"M\",\"F\",\"F\",\"F\",\"M\",\"F\",\"F\",\"F\",\"F\",\"F\",\"F\",\"M\",\"F\",\"F\",\"F\",\"F\",\"F\",\"M\",\"M\",\"F\",\"F\",\"M\",\"F\",\"F\",\"F\",\"F\",\"F\",\"M\",\"M\",\"M\",\"F\",\"F\",\"F\",\"F\",\"F\",\"F\",\"F\",\"F\",\"F\",\"F\",\"M\",\"F\",\"M\",\"F\",\"M\",\"F\",\"F\",\"F\",\"F\",\"M\",\"F\",\"F\",\"M\",\"M\",\"F\",\"F\",\"F\",\"F\",\"F\",\"F\",\"F\",\"M\",\"M\",\"F\",\"F\",\"F\",\"M\",\"F\",\"F\",\"F\",\"M\",\"F\",\"F\",\"F\",\"M\",\"F\",\"M\",\"M\",\"F\",\"F\",\"F\",\"F\",\"M\",\"F\",\"M\",\"F\",\"F\",\"F\",\"F\",\"F\",\"M\",\"F\",\"M\",\"F\",\"F\",\"F\",\"F\",\"M\",\"F\",\"M\",\"F\",\"F\",\"M\",\"F\",\"F\",\"F\",\"F\",\"F\",\"M\",\"F\",\"F\",\"F\",\"F\",\"F\",\"F\",\"F\",\"M\",\"F\",\"F\",\"F\",\"F\",\"M\",\"M\",\"F\",\"F\",\"F\",\"F\",\"F\",\"F\",\"F\",\"F\",\"F\",\"F\",\"F\",\"M\",\"M\",\"F\",\"F\",\"M\",\"M\",\"F\",\"M\",\"M\",\"M\",\"F\",\"F\",\"F\",\"F\",\"M\",\"M\",\"M\",\"M\",\"M\",\"M\",\"M\",\"M\",\"M\",\"F\",\"M\",\"M\",\"M\",\"F\",\"M\",\"M\",\"M\",\"F\",\"F\",\"M\",\"M\",\"F\",\"F\",\"F\",\"M\",\"M\",\"M\",\"M\",\"M\",\"M\",\"M\",\"M\",\"M\",\"F\",\"F\",\"M\",\"M\",\"M\",\"F\",\"M\",\"F\",\"M\",\"F\",\"M\",\"M\",\"M\",\"M\",\"F\",\"F\",\"M\",\"M\",\"M\",\"M\",\"M\",\"F\",\"M\",\"M\",\"F\",\"F\",\"M\",\"M\",\"F\",\"M\",\"M\",\"F\",\"M\",\"F\",\"M\",\"F\",\"F\",\"F\",\"F\",\"F\",\"M\",\"F\",\"M\",\"M\",\"M\",\"M\",\"F\",\"F\",\"M\",\"F\",\"M\",\"F\",\"F\",\"M\",\"F\",\"M\",\"F\",\"M\",\"M\",\"M\",\"M\",\"M\",\"M\",\"M\",\"F\",\"F\",\"F\",\"M\",\"F\",\"M\",\"M\",\"F\",\"M\",\"F\",\"M\",\"M\",\"M\",\"M\",\"M\",\"F\",\"M\",\"M\",\"M\",\"M\",\"M\",\"M\",\"F\",\"F\",\"F\",\"M\",\"F\",\"M\",\"M\",\"M\",\"F\",\"M\",\"M\",\"M\",\"M\",\"M\",\"M\",\"M\",\"M\",\"M\",\"F\",\"M\",\"M\",\"M\",\"M\",\"F\",\"F\",\"M\",\"F\",\"M\",\"M\",\"F\",\"F\",\"M\",\"F\",\"M\",\"F\",\"M\",\"F\",\"F\",\"M\",\"F\",\"M\",\"F\",\"M\",\"M\",\"F\",\"M\",\"F\",\"M\",\"M\",\"F\",\"M\",\"M\",\"F\",\"F\",\"M\",\"M\",\"F\",\"M\",\"M\",\"M\",\"M\",\"F\",\"F\",\"M\",\"M\",\"F\",\"M\",\"F\",\"F\",\"M\",\"F\",\"M\",\"M\",\"M\",\"F\",\"M\",\"M\",\"F\",\"F\",\"F\",\"F\",\"M\",\"M\",\"M\",\"M\",\"M\",\"M\",\"M\",\"F\",\"M\",\"M\",\"F\",\"F\",\"M\",\"M\",\"M\",\"M\",\"F\",\"F\",\"M\",\"F\",\"M\",\"F\",\"F\",\"F\",\"F\",\"M\",\"F\",\"M\",\"F\"],\"xaxis\":\"x\",\"yaxis\":\"y\",\"type\":\"histogram\"},{\"alignmentgroup\":\"True\",\"bingroup\":\"x\",\"hovertemplate\":\"escolaridade=na\\u003cbr\\u003esexo=%{x}\\u003cbr\\u003ecount=%{y}\\u003cextra\\u003e\\u003c\\u002fextra\\u003e\",\"legendgroup\":\"na\",\"marker\":{\"color\":\"#ab63fa\",\"pattern\":{\"shape\":\"\"}},\"name\":\"na\",\"offsetgroup\":\"na\",\"orientation\":\"v\",\"showlegend\":true,\"texttemplate\":\"%{value}\",\"x\":[\"M\",\"M\",\"M\",\"M\",\"F\",\"M\",\"M\",\"M\",\"M\",\"F\",\"M\",\"M\",\"M\",\"F\",\"M\",\"F\",\"M\",\"F\",\"F\",\"M\",\"M\",\"M\",\"M\",\"F\",\"F\",\"M\",\"M\",\"M\",\"M\",\"M\",\"M\",\"M\",\"F\",\"M\",\"M\",\"M\",\"F\",\"F\",\"M\",\"F\",\"F\",\"M\",\"M\",\"M\",\"M\",\"F\",\"M\",\"F\",\"M\",\"M\",\"F\",\"F\",\"F\",\"F\",\"M\",\"M\",\"M\",\"F\",\"M\",\"M\",\"M\",\"M\",\"M\",\"M\",\"M\",\"F\",\"F\",\"F\",\"M\",\"F\",\"M\",\"M\",\"F\",\"M\",\"M\",\"M\",\"F\",\"M\",\"F\",\"M\",\"F\",\"M\",\"F\",\"M\",\"M\",\"F\",\"F\",\"F\",\"F\",\"M\",\"F\",\"M\",\"F\",\"F\",\"M\",\"M\",\"M\",\"F\",\"F\",\"M\",\"M\",\"F\",\"M\",\"M\",\"M\",\"F\",\"M\",\"M\",\"M\",\"F\",\"M\",\"M\",\"F\",\"F\",\"F\",\"M\",\"M\",\"M\",\"M\",\"M\",\"M\",\"M\",\"M\",\"F\",\"M\",\"F\",\"F\",\"M\",\"M\",\"F\",\"M\",\"M\",\"M\",\"F\",\"M\",\"M\",\"M\",\"M\",\"M\",\"F\",\"F\",\"M\",\"M\",\"M\",\"M\",\"M\",\"F\",\"M\",\"F\",\"M\",\"M\",\"F\",\"F\",\"M\",\"M\",\"M\",\"F\",\"M\",\"M\",\"M\",\"M\",\"M\",\"M\",\"F\",\"F\",\"M\",\"M\",\"F\",\"F\",\"F\",\"M\",\"M\",\"M\",\"F\",\"M\",\"F\",\"M\",\"F\",\"M\",\"M\",\"M\",\"F\",\"F\",\"M\",\"F\",\"F\",\"F\",\"M\",\"F\",\"F\",\"M\",\"M\",\"F\",\"F\",\"M\",\"F\",\"M\",\"F\",\"M\",\"F\",\"M\",\"F\",\"M\",\"F\",\"F\",\"F\",\"F\",\"M\",\"M\",\"M\",\"M\",\"F\",\"M\",\"F\",\"M\",\"F\",\"F\",\"M\",\"M\",\"F\",\"F\",\"M\",\"M\",\"F\",\"F\",\"M\",\"F\",\"F\",\"F\",\"M\",\"M\",\"F\",\"F\",\"F\",\"M\",\"F\",\"F\",\"F\",\"M\",\"M\",\"M\",\"M\",\"F\",\"M\",\"M\",\"F\",\"M\",\"M\",\"F\",\"M\",\"F\",\"F\",\"M\",\"M\",\"M\",\"M\",\"M\",\"F\",\"M\",\"M\",\"F\",\"F\",\"M\",\"M\",\"M\",\"M\",\"F\",\"M\",\"M\",\"F\",\"M\",\"M\",\"M\",\"F\",\"M\",\"M\",\"M\",\"M\",\"F\",\"M\",\"M\",\"M\",\"M\",\"F\",\"M\",\"M\",\"M\",\"M\",\"M\",\"F\",\"M\",\"M\",\"F\",\"M\",\"M\",\"M\",\"M\",\"M\",\"M\",\"F\",\"M\",\"F\",\"M\",\"M\",\"M\",\"F\",\"M\",\"F\",\"M\",\"M\",\"M\",\"M\",\"F\",\"F\",\"F\",\"M\",\"M\",\"M\",\"M\",\"F\",\"M\",\"M\",\"M\",\"F\",\"F\",\"F\",\"F\",\"M\",\"F\",\"M\",\"M\",\"F\",\"F\",\"M\",\"M\",\"M\",\"F\",\"M\",\"F\",\"M\",\"M\",\"M\",\"M\",\"M\",\"M\",\"F\",\"M\",\"M\",\"M\",\"F\",\"M\",\"M\",\"F\",\"M\",\"F\",\"M\",\"M\",\"M\",\"M\",\"M\",\"M\",\"F\",\"M\",\"F\",\"M\",\"M\",\"M\",\"F\",\"M\",\"M\",\"M\",\"M\",\"M\",\"F\",\"F\",\"M\",\"M\",\"M\",\"F\",\"F\",\"F\",\"F\",\"M\",\"M\",\"M\",\"M\",\"M\",\"F\",\"M\",\"F\",\"M\",\"M\",\"M\",\"M\",\"F\",\"M\",\"F\",\"F\",\"M\",\"M\",\"F\",\"F\",\"M\",\"M\",\"F\",\"M\",\"F\",\"M\",\"F\",\"M\",\"M\",\"M\",\"M\",\"M\",\"F\",\"M\",\"M\",\"M\",\"M\",\"M\",\"M\",\"F\",\"M\",\"M\",\"M\",\"M\",\"M\",\"M\",\"F\",\"F\",\"M\",\"M\",\"M\",\"F\",\"M\",\"F\",\"M\",\"M\",\"M\",\"M\",\"F\",\"M\",\"M\",\"M\",\"M\",\"M\",\"M\",\"F\",\"F\",\"M\",\"M\",\"M\",\"F\",\"F\",\"M\",\"F\",\"F\",\"M\",\"M\",\"M\",\"F\",\"F\",\"M\",\"M\",\"M\",\"F\",\"M\",\"M\",\"F\",\"M\",\"F\",\"F\",\"F\",\"F\",\"M\",\"F\",\"M\",\"M\",\"M\",\"F\",\"M\",\"M\",\"F\",\"M\",\"M\",\"M\",\"M\",\"F\",\"M\",\"M\",\"F\",\"M\",\"M\",\"F\",\"M\",\"F\",\"F\",\"F\",\"F\",\"M\",\"F\",\"F\",\"M\",\"M\",\"M\",\"F\",\"M\",\"M\",\"M\",\"F\",\"F\",\"F\",\"M\",\"F\",\"F\",\"M\",\"M\",\"M\",\"F\",\"F\",\"F\",\"M\",\"F\",\"M\",\"F\",\"M\",\"F\",\"M\",\"M\",\"F\",\"M\",\"F\",\"M\",\"F\",\"F\",\"M\",\"F\",\"M\",\"F\",\"M\",\"F\",\"M\",\"F\",\"M\",\"F\",\"M\",\"M\",\"F\",\"M\",\"F\",\"M\",\"F\",\"M\",\"M\",\"F\",\"F\",\"F\",\"M\",\"F\",\"M\",\"F\",\"F\",\"F\",\"M\",\"F\",\"F\",\"F\",\"F\",\"M\",\"F\",\"F\",\"M\",\"M\",\"F\",\"F\",\"F\",\"F\",\"M\",\"F\",\"M\",\"F\",\"F\",\"F\",\"F\",\"F\",\"M\",\"F\",\"M\",\"M\",\"F\",\"F\",\"M\",\"F\",\"M\",\"F\",\"F\",\"M\",\"F\",\"M\",\"M\",\"M\",\"F\",\"M\",\"M\",\"F\",\"M\",\"F\",\"M\",\"F\",\"M\",\"F\",\"F\",\"M\",\"F\",\"M\",\"M\",\"M\",\"F\",\"F\",\"F\",\"F\",\"M\",\"M\",\"F\",\"F\",\"F\",\"M\",\"M\",\"F\",\"F\",\"M\",\"F\",\"M\",\"F\",\"F\",\"M\",\"F\",\"M\",\"F\",\"M\",\"F\",\"F\",\"M\",\"F\",\"F\",\"M\",\"M\",\"M\",\"M\",\"F\",\"M\",\"F\",\"F\",\"F\",\"M\",\"F\",\"M\",\"F\",\"F\",\"F\",\"F\",\"F\",\"F\",\"M\",\"F\",\"M\",\"F\",\"M\",\"M\",\"M\",\"F\",\"M\",\"M\",\"M\",\"F\",\"F\",\"F\",\"M\",\"M\",\"F\",\"M\",\"F\",\"M\",\"F\",\"F\",\"F\",\"F\",\"F\",\"F\",\"F\",\"M\",\"F\",\"F\",\"M\",\"M\",\"M\",\"F\",\"M\",\"M\",\"M\",\"F\",\"F\",\"F\",\"F\",\"F\",\"F\",\"M\",\"F\",\"M\",\"F\",\"M\",\"F\",\"F\",\"F\",\"F\",\"M\",\"M\",\"F\",\"F\",\"F\",\"F\",\"F\",\"M\",\"M\",\"F\",\"M\",\"M\",\"F\",\"M\",\"F\",\"F\",\"F\",\"M\",\"M\",\"F\",\"F\",\"M\",\"F\",\"M\",\"M\",\"F\",\"M\",\"F\",\"F\",\"F\",\"F\",\"M\",\"F\",\"M\",\"M\",\"M\",\"M\",\"F\",\"F\",\"F\",\"F\",\"F\",\"F\",\"M\",\"M\",\"M\",\"F\",\"F\",\"M\",\"M\",\"M\",\"F\",\"F\",\"F\",\"F\",\"M\",\"M\",\"F\",\"F\",\"F\",\"F\",\"F\",\"F\",\"F\",\"F\",\"F\",\"M\",\"M\",\"M\",\"F\",\"F\",\"F\",\"F\",\"F\",\"M\",\"M\",\"M\",\"F\",\"M\",\"F\",\"F\",\"F\",\"F\",\"F\",\"F\",\"F\",\"F\",\"F\",\"F\",\"F\",\"M\",\"F\",\"F\",\"F\",\"F\",\"F\",\"F\",\"F\",\"M\",\"F\",\"F\",\"M\",\"F\",\"F\",\"F\",\"M\",\"F\",\"F\",\"F\",\"F\",\"M\",\"F\",\"F\",\"F\",\"F\",\"F\",\"F\",\"F\",\"M\",\"F\",\"F\",\"F\",\"M\",\"M\",\"M\",\"M\",\"F\",\"F\",\"M\",\"M\",\"F\",\"M\",\"F\",\"M\",\"F\",\"M\",\"M\",\"F\",\"F\",\"F\",\"F\",\"F\",\"F\",\"M\",\"F\",\"F\",\"F\",\"M\",\"F\",\"F\",\"F\",\"F\",\"F\",\"F\",\"M\",\"F\",\"F\",\"F\",\"M\",\"M\",\"F\",\"F\",\"M\",\"F\",\"F\",\"F\",\"F\",\"M\",\"F\",\"F\",\"M\",\"F\",\"F\",\"F\",\"M\",\"F\",\"F\",\"F\",\"M\",\"M\",\"F\",\"F\",\"F\",\"F\",\"F\",\"F\",\"F\",\"M\",\"F\",\"F\",\"M\",\"F\",\"F\",\"F\",\"F\",\"F\",\"F\",\"F\",\"F\",\"M\",\"M\",\"F\",\"F\",\"F\",\"M\",\"F\",\"F\",\"F\",\"F\",\"F\",\"F\",\"F\",\"F\",\"M\",\"M\",\"M\",\"F\",\"F\",\"M\",\"F\",\"M\",\"F\",\"F\",\"F\",\"M\",\"F\",\"F\",\"F\",\"F\",\"M\",\"F\",\"F\",\"F\",\"F\",\"F\",\"F\",\"M\",\"F\",\"F\",\"F\",\"M\",\"M\",\"F\",\"F\",\"F\",\"F\",\"F\",\"F\",\"M\",\"F\",\"M\",\"M\",\"F\",\"F\",\"F\",\"F\",\"F\",\"F\",\"F\",\"F\",\"F\",\"F\",\"F\",\"F\",\"M\",\"F\",\"M\",\"M\",\"F\",\"F\",\"M\",\"F\",\"M\",\"F\",\"M\",\"F\",\"F\",\"F\",\"M\",\"F\",\"F\",\"F\",\"F\",\"M\",\"M\",\"M\",\"F\",\"F\",\"F\",\"F\",\"M\",\"F\",\"F\",\"M\",\"M\",\"F\",\"M\",\"M\",\"F\",\"F\",\"F\",\"F\",\"M\",\"F\",\"F\",\"F\",\"F\",\"F\",\"F\",\"F\",\"M\",\"F\",\"F\",\"M\",\"F\",\"F\",\"F\",\"F\",\"M\",\"M\",\"M\",\"F\",\"F\",\"M\",\"F\",\"F\",\"F\",\"F\",\"M\",\"F\",\"M\",\"M\",\"M\",\"M\",\"F\",\"F\",\"M\",\"F\",\"F\",\"F\",\"M\",\"F\",\"F\",\"F\",\"F\",\"F\",\"F\",\"F\",\"F\",\"F\",\"F\",\"F\",\"F\",\"M\",\"F\",\"F\",\"F\",\"F\",\"F\",\"M\",\"F\",\"M\",\"F\",\"F\",\"F\",\"M\",\"F\",\"M\",\"M\",\"F\",\"F\",\"M\",\"F\",\"F\",\"F\",\"F\",\"F\",\"M\",\"M\",\"M\",\"F\",\"F\",\"M\",\"F\",\"M\",\"F\",\"F\",\"F\",\"M\",\"M\",\"F\",\"F\",\"M\",\"F\",\"M\",\"M\",\"F\",\"F\",\"F\",\"F\",\"F\",\"M\",\"F\",\"F\",\"M\",\"F\",\"F\",\"F\",\"M\",\"F\",\"M\",\"F\",\"M\",\"F\",\"F\",\"F\",\"M\",\"F\",\"F\",\"F\",\"M\",\"F\",\"F\",\"F\",\"F\",\"F\",\"F\",\"F\",\"F\",\"M\",\"F\",\"F\",\"F\",\"F\",\"M\",\"M\",\"F\",\"F\",\"F\",\"F\",\"M\",\"M\",\"F\",\"M\",\"F\",\"F\",\"F\",\"F\",\"F\",\"F\",\"F\",\"F\",\"F\",\"F\",\"F\",\"F\",\"F\",\"F\",\"F\",\"F\",\"M\",\"F\",\"M\",\"F\",\"F\",\"M\",\"F\",\"F\",\"F\",\"F\",\"M\",\"F\",\"M\",\"F\",\"F\",\"F\",\"F\",\"F\",\"F\",\"M\",\"F\",\"F\",\"F\",\"F\",\"M\",\"F\",\"F\",\"M\",\"F\",\"F\",\"F\",\"F\",\"F\",\"F\",\"M\",\"F\",\"F\",\"F\",\"M\",\"M\",\"M\",\"F\",\"F\",\"F\",\"M\",\"F\",\"M\",\"F\",\"F\",\"F\",\"F\",\"M\",\"M\",\"F\",\"F\",\"F\",\"F\",\"F\",\"F\",\"F\",\"F\",\"F\",\"F\",\"F\",\"F\",\"M\",\"M\",\"M\",\"F\",\"F\",\"F\",\"F\",\"F\",\"F\",\"F\",\"F\",\"F\",\"F\",\"F\",\"M\",\"F\",\"F\",\"F\",\"M\",\"F\",\"F\",\"F\",\"F\",\"F\",\"F\",\"M\",\"M\",\"M\",\"F\",\"F\",\"F\",\"F\",\"F\",\"F\",\"F\",\"M\",\"F\",\"F\",\"F\",\"F\",\"M\",\"F\",\"F\",\"M\",\"F\",\"F\",\"M\",\"M\",\"F\",\"M\",\"M\",\"M\",\"M\",\"F\",\"F\",\"F\",\"F\",\"M\",\"M\",\"F\",\"F\",\"M\",\"M\",\"M\",\"F\",\"F\",\"F\",\"F\",\"F\",\"M\",\"M\",\"M\",\"M\",\"M\",\"M\",\"M\",\"F\",\"F\",\"M\",\"F\",\"F\",\"M\",\"F\",\"M\",\"M\",\"M\",\"M\",\"M\",\"M\",\"M\",\"M\",\"M\",\"F\",\"F\",\"M\",\"F\",\"M\",\"M\",\"F\",\"F\",\"M\",\"F\",\"F\",\"M\",\"M\",\"M\",\"M\",\"M\",\"F\",\"M\",\"M\",\"M\",\"F\",\"F\",\"F\",\"F\",\"M\",\"M\",\"F\",\"M\",\"F\",\"F\",\"M\",\"F\",\"M\",\"M\",\"M\",\"F\",\"M\",\"M\",\"F\",\"F\",\"F\",\"M\",\"M\",\"F\",\"F\",\"F\",\"M\",\"M\",\"F\",\"F\",\"M\",\"M\",\"F\",\"F\",\"F\",\"F\",\"F\",\"M\",\"M\",\"M\",\"M\",\"M\",\"M\",\"M\",\"F\",\"M\",\"F\",\"M\",\"M\",\"M\",\"F\",\"M\",\"M\",\"F\",\"F\",\"M\",\"M\",\"M\",\"F\",\"F\",\"F\",\"F\",\"M\",\"M\",\"M\",\"M\",\"F\",\"F\",\"M\",\"F\",\"M\",\"M\",\"M\",\"F\",\"F\",\"M\",\"F\",\"F\",\"M\",\"F\",\"M\",\"F\",\"F\",\"F\",\"M\",\"F\",\"M\",\"M\",\"F\",\"F\",\"M\",\"M\",\"M\",\"M\",\"F\",\"M\",\"F\",\"M\",\"F\",\"M\",\"M\",\"M\",\"M\",\"M\",\"F\",\"F\",\"M\",\"F\",\"M\",\"F\",\"F\",\"F\",\"F\",\"M\",\"M\",\"M\",\"M\",\"F\",\"F\",\"F\",\"M\",\"M\",\"M\",\"M\",\"F\",\"M\",\"F\",\"M\",\"M\",\"M\",\"F\",\"F\",\"M\",\"M\",\"M\",\"F\",\"M\",\"M\",\"M\",\"M\",\"F\",\"M\",\"F\",\"M\",\"F\",\"F\",\"M\",\"M\",\"M\",\"F\",\"F\",\"F\",\"M\",\"M\",\"M\",\"F\",\"M\",\"M\",\"F\",\"M\",\"M\",\"F\",\"F\",\"M\",\"M\",\"M\",\"M\"],\"xaxis\":\"x\",\"yaxis\":\"y\",\"type\":\"histogram\"},{\"alignmentgroup\":\"True\",\"bingroup\":\"x\",\"hovertemplate\":\"escolaridade=graduacao\\u003cbr\\u003esexo=%{x}\\u003cbr\\u003ecount=%{y}\\u003cextra\\u003e\\u003c\\u002fextra\\u003e\",\"legendgroup\":\"graduacao\",\"marker\":{\"color\":\"#FFA15A\",\"pattern\":{\"shape\":\"\"}},\"name\":\"graduacao\",\"offsetgroup\":\"graduacao\",\"orientation\":\"v\",\"showlegend\":true,\"texttemplate\":\"%{value}\",\"x\":[\"M\",\"F\",\"F\",\"F\",\"M\",\"M\",\"M\",\"M\",\"F\",\"M\",\"M\",\"F\",\"M\",\"F\",\"F\",\"F\",\"M\",\"M\",\"M\",\"M\",\"M\",\"M\",\"M\",\"M\",\"F\",\"M\",\"M\",\"M\",\"F\",\"M\",\"M\",\"M\",\"M\",\"F\",\"F\",\"F\",\"M\",\"F\",\"M\",\"F\",\"M\",\"F\",\"F\",\"F\",\"F\",\"M\",\"M\",\"M\",\"F\",\"M\",\"M\",\"M\",\"M\",\"F\",\"M\",\"F\",\"M\",\"M\",\"M\",\"F\",\"M\",\"F\",\"M\",\"F\",\"M\",\"M\",\"M\",\"F\",\"F\",\"M\",\"M\",\"F\",\"F\",\"M\",\"F\",\"F\",\"M\",\"M\",\"M\",\"M\",\"F\",\"M\",\"M\",\"M\",\"F\",\"M\",\"F\",\"M\",\"M\",\"M\",\"M\",\"F\",\"F\",\"F\",\"F\",\"F\",\"M\",\"M\",\"M\",\"F\",\"M\",\"F\",\"F\",\"M\",\"M\",\"M\",\"F\",\"M\",\"M\",\"F\",\"M\",\"M\",\"F\",\"M\",\"F\",\"M\",\"M\",\"F\",\"M\",\"M\",\"F\",\"F\",\"M\",\"F\",\"F\",\"M\",\"F\",\"M\",\"M\",\"F\",\"M\",\"F\",\"F\",\"M\",\"F\",\"M\",\"M\",\"F\",\"F\",\"M\",\"F\",\"F\",\"M\",\"M\",\"M\",\"M\",\"M\",\"M\",\"M\",\"F\",\"F\",\"M\",\"F\",\"M\",\"M\",\"F\",\"F\",\"F\",\"M\",\"M\",\"M\",\"F\",\"M\",\"M\",\"M\",\"M\",\"F\",\"M\",\"M\",\"F\",\"M\",\"F\",\"M\",\"M\",\"M\",\"M\",\"M\",\"F\",\"M\",\"M\",\"M\",\"F\",\"M\",\"M\",\"M\",\"M\",\"F\",\"M\",\"M\",\"M\",\"M\",\"F\",\"M\",\"M\",\"M\",\"F\",\"M\",\"M\",\"M\",\"M\",\"F\",\"M\",\"M\",\"M\",\"M\",\"M\",\"F\",\"M\",\"F\",\"M\",\"M\",\"F\",\"M\",\"F\",\"M\",\"M\",\"M\",\"M\",\"M\",\"F\",\"F\",\"M\",\"M\",\"M\",\"F\",\"M\",\"M\",\"F\",\"M\",\"F\",\"M\",\"M\",\"F\",\"M\",\"M\",\"M\",\"M\",\"M\",\"M\",\"M\",\"M\",\"F\",\"F\",\"F\",\"M\",\"M\",\"M\",\"M\",\"M\",\"F\",\"M\",\"M\",\"F\",\"M\",\"F\",\"F\",\"F\",\"M\",\"F\",\"M\",\"M\",\"M\",\"M\",\"F\",\"M\",\"M\",\"F\",\"M\",\"M\",\"F\",\"M\",\"M\",\"F\",\"M\",\"F\",\"F\",\"M\",\"F\",\"M\",\"M\",\"M\",\"F\",\"M\",\"F\",\"F\",\"F\",\"M\",\"F\",\"M\",\"F\",\"M\",\"F\",\"M\",\"F\",\"M\",\"F\",\"F\",\"F\",\"M\",\"F\",\"F\",\"F\",\"M\",\"F\",\"M\",\"F\",\"M\",\"M\",\"M\",\"F\",\"M\",\"M\",\"M\",\"M\",\"F\",\"M\",\"M\",\"F\",\"F\",\"F\",\"F\",\"F\",\"M\",\"F\",\"M\",\"F\",\"M\",\"M\",\"M\",\"M\",\"M\",\"M\",\"F\",\"M\",\"M\",\"F\",\"F\",\"M\",\"M\",\"F\",\"M\",\"M\",\"M\",\"M\",\"M\",\"F\",\"M\",\"M\",\"F\",\"M\",\"F\",\"F\",\"F\",\"M\",\"F\",\"M\",\"F\",\"M\",\"M\",\"M\",\"M\",\"F\",\"F\",\"F\",\"M\",\"F\",\"M\",\"M\",\"F\",\"F\",\"F\",\"M\",\"F\",\"F\",\"M\",\"M\",\"F\",\"M\",\"F\",\"F\",\"F\",\"F\",\"F\",\"F\",\"M\",\"M\",\"F\",\"M\",\"M\",\"M\",\"M\",\"F\",\"M\",\"F\",\"M\",\"F\",\"F\",\"F\",\"F\",\"M\",\"F\",\"M\",\"M\",\"M\",\"M\",\"F\",\"F\",\"M\",\"M\",\"F\",\"M\",\"F\",\"M\",\"M\",\"M\",\"F\",\"F\",\"M\",\"F\",\"F\",\"M\",\"F\",\"M\",\"M\",\"F\",\"M\",\"M\",\"M\",\"F\",\"F\",\"F\",\"F\",\"F\",\"F\",\"F\",\"F\",\"M\",\"M\",\"F\",\"M\",\"F\",\"M\",\"M\",\"M\",\"F\",\"F\",\"M\",\"F\",\"M\",\"M\",\"M\",\"M\",\"F\",\"M\",\"F\",\"M\",\"M\",\"F\",\"M\",\"F\",\"F\",\"F\",\"F\",\"F\",\"M\",\"M\",\"F\",\"F\",\"M\",\"F\",\"F\",\"F\",\"F\",\"F\",\"M\",\"M\",\"F\",\"F\",\"M\",\"M\",\"M\",\"F\",\"F\",\"F\",\"F\",\"M\",\"F\",\"M\",\"F\",\"M\",\"F\",\"F\",\"F\",\"M\",\"F\",\"M\",\"F\",\"M\",\"F\",\"F\",\"F\",\"M\",\"F\",\"F\",\"F\",\"M\",\"F\",\"F\",\"M\",\"F\",\"M\",\"M\",\"F\",\"M\",\"F\",\"M\",\"F\",\"F\",\"F\",\"F\",\"F\",\"M\",\"F\",\"F\",\"M\",\"F\",\"M\",\"F\",\"M\",\"F\",\"F\",\"F\",\"M\",\"F\",\"M\",\"F\",\"M\",\"F\",\"F\",\"F\",\"M\",\"M\",\"M\",\"M\",\"M\",\"M\",\"F\",\"F\",\"F\",\"F\",\"F\",\"M\",\"F\",\"F\",\"F\",\"M\",\"F\",\"F\",\"F\",\"F\",\"M\",\"M\",\"F\",\"F\",\"F\",\"F\",\"F\",\"F\",\"F\",\"F\",\"F\",\"F\",\"F\",\"F\",\"F\",\"F\",\"M\",\"F\",\"F\",\"F\",\"M\",\"F\",\"M\",\"F\",\"M\",\"F\",\"F\",\"M\",\"F\",\"M\",\"F\",\"M\",\"M\",\"F\",\"F\",\"F\",\"F\",\"F\",\"M\",\"F\",\"F\",\"M\",\"F\",\"F\",\"M\",\"M\",\"F\",\"F\",\"F\",\"F\",\"F\",\"F\",\"F\",\"M\",\"F\",\"F\",\"F\",\"F\",\"F\",\"F\",\"F\",\"F\",\"F\",\"F\",\"F\",\"M\",\"M\",\"F\",\"M\",\"F\",\"F\",\"F\",\"F\",\"F\",\"F\",\"F\",\"F\",\"F\",\"F\",\"F\",\"M\",\"M\",\"F\",\"F\",\"F\",\"F\",\"M\",\"M\",\"F\",\"F\",\"F\",\"F\",\"F\",\"M\",\"M\",\"F\",\"F\",\"F\",\"F\",\"M\",\"M\",\"F\",\"F\",\"M\",\"M\",\"F\",\"F\",\"M\",\"F\",\"F\",\"F\",\"F\",\"M\",\"F\",\"M\",\"M\",\"F\",\"F\",\"M\",\"F\",\"F\",\"F\",\"M\",\"F\",\"F\",\"F\",\"F\",\"M\",\"F\",\"F\",\"F\",\"F\",\"F\",\"M\",\"F\",\"M\",\"F\",\"F\",\"F\",\"F\",\"M\",\"M\",\"M\",\"F\",\"F\",\"F\",\"M\",\"F\",\"F\",\"M\",\"F\",\"F\",\"F\",\"F\",\"M\",\"F\",\"F\",\"F\",\"M\",\"F\",\"F\",\"F\",\"F\",\"F\",\"F\",\"F\",\"F\",\"M\",\"F\",\"F\",\"F\",\"F\",\"F\",\"F\",\"F\",\"F\",\"M\",\"F\",\"F\",\"F\",\"M\",\"F\",\"F\",\"M\",\"F\",\"M\",\"M\",\"F\",\"F\",\"F\",\"M\",\"M\",\"F\",\"F\",\"M\",\"F\",\"F\",\"F\",\"F\",\"M\",\"F\",\"M\",\"F\",\"F\",\"F\",\"F\",\"F\",\"F\",\"F\",\"F\",\"F\",\"F\",\"F\",\"M\",\"F\",\"F\",\"F\",\"M\",\"F\",\"F\",\"M\",\"F\",\"F\",\"F\",\"F\",\"M\",\"F\",\"F\",\"F\",\"F\",\"M\",\"F\",\"F\",\"M\",\"M\",\"F\",\"F\",\"F\",\"F\",\"F\",\"F\",\"F\",\"M\",\"M\",\"F\",\"F\",\"M\",\"M\",\"F\",\"F\",\"F\",\"F\",\"F\",\"F\",\"F\",\"F\",\"F\",\"M\",\"F\",\"F\",\"F\",\"M\",\"F\",\"F\",\"F\",\"M\",\"M\",\"M\",\"F\",\"F\",\"M\",\"F\",\"F\",\"F\",\"F\",\"M\",\"F\",\"M\",\"M\",\"F\",\"M\",\"F\",\"F\",\"F\",\"F\",\"M\",\"F\",\"M\",\"F\",\"M\",\"F\",\"F\",\"M\",\"F\",\"F\",\"F\",\"F\",\"F\",\"F\",\"F\",\"F\",\"M\",\"F\",\"M\",\"F\",\"F\",\"M\",\"F\",\"F\",\"F\",\"F\",\"F\",\"M\",\"F\",\"F\",\"F\",\"F\",\"M\",\"F\",\"M\",\"F\",\"F\",\"F\",\"F\",\"F\",\"M\",\"M\",\"M\",\"M\",\"M\",\"M\",\"F\",\"M\",\"F\",\"F\",\"M\",\"F\",\"F\",\"F\",\"F\",\"F\",\"M\",\"F\",\"M\",\"M\",\"M\",\"M\",\"F\",\"F\",\"M\",\"M\",\"F\",\"F\",\"M\",\"M\",\"M\",\"M\",\"M\",\"M\",\"M\",\"M\",\"M\",\"M\",\"M\",\"F\",\"F\",\"F\",\"F\",\"F\",\"M\",\"F\",\"M\",\"M\",\"M\",\"M\",\"F\",\"M\",\"M\",\"M\",\"M\",\"M\",\"M\",\"F\",\"M\",\"M\",\"M\",\"F\",\"M\",\"M\",\"M\",\"M\",\"M\",\"F\",\"F\",\"M\",\"M\",\"F\",\"M\",\"M\",\"M\",\"F\",\"F\",\"F\",\"M\",\"M\",\"M\",\"M\",\"F\",\"M\",\"M\",\"M\",\"M\",\"M\",\"F\",\"M\",\"M\",\"F\",\"M\",\"M\",\"M\",\"F\",\"M\",\"F\",\"M\",\"M\",\"M\",\"M\",\"M\",\"F\",\"M\",\"M\",\"F\",\"M\",\"F\",\"M\",\"M\",\"F\",\"F\",\"M\",\"M\",\"M\",\"M\",\"M\",\"F\",\"M\",\"F\",\"M\",\"M\",\"M\",\"M\",\"M\",\"M\",\"M\"],\"xaxis\":\"x\",\"yaxis\":\"y\",\"type\":\"histogram\"},{\"alignmentgroup\":\"True\",\"bingroup\":\"x\",\"hovertemplate\":\"escolaridade=doutorado\\u003cbr\\u003esexo=%{x}\\u003cbr\\u003ecount=%{y}\\u003cextra\\u003e\\u003c\\u002fextra\\u003e\",\"legendgroup\":\"doutorado\",\"marker\":{\"color\":\"#19d3f3\",\"pattern\":{\"shape\":\"\"}},\"name\":\"doutorado\",\"offsetgroup\":\"doutorado\",\"orientation\":\"v\",\"showlegend\":true,\"texttemplate\":\"%{value}\",\"x\":[\"M\",\"M\",\"F\",\"M\",\"M\",\"M\",\"M\",\"M\",\"F\",\"M\",\"M\",\"F\",\"M\",\"F\",\"M\",\"M\",\"F\",\"M\",\"F\",\"M\",\"M\",\"F\",\"M\",\"M\",\"F\",\"F\",\"F\",\"M\",\"M\",\"F\",\"M\",\"F\",\"M\",\"F\",\"M\",\"M\",\"M\",\"F\",\"M\",\"M\",\"F\",\"F\",\"F\",\"F\",\"M\",\"M\",\"F\",\"F\",\"F\",\"F\",\"F\",\"F\",\"M\",\"F\",\"F\",\"M\",\"M\",\"F\",\"M\",\"M\",\"M\",\"F\",\"M\",\"M\",\"F\",\"M\",\"M\",\"M\",\"F\",\"M\",\"F\",\"M\",\"M\",\"M\",\"M\",\"M\",\"M\",\"M\",\"M\",\"M\",\"M\",\"M\",\"M\",\"M\",\"F\",\"M\",\"F\",\"F\",\"F\",\"M\",\"M\",\"F\",\"F\",\"M\",\"M\",\"M\",\"M\",\"F\",\"F\",\"F\",\"M\",\"F\",\"F\",\"F\",\"M\",\"F\",\"F\",\"F\",\"F\",\"M\",\"M\",\"M\",\"M\",\"F\",\"M\",\"M\",\"M\",\"F\",\"F\",\"M\",\"F\",\"M\",\"F\",\"F\",\"M\",\"F\",\"M\",\"F\",\"M\",\"M\",\"F\",\"F\",\"M\",\"F\",\"M\",\"M\",\"M\",\"F\",\"M\",\"M\",\"M\",\"M\",\"M\",\"M\",\"F\",\"M\",\"M\",\"M\",\"M\",\"M\",\"M\",\"M\",\"M\",\"M\",\"F\",\"M\",\"M\",\"F\",\"M\",\"M\",\"F\",\"F\",\"M\",\"F\",\"F\",\"F\",\"M\",\"F\",\"M\",\"M\",\"M\",\"F\",\"M\",\"M\",\"M\",\"F\",\"F\",\"M\",\"M\",\"F\",\"M\",\"M\",\"F\",\"F\",\"F\",\"F\",\"M\",\"M\",\"F\",\"F\",\"F\",\"M\",\"M\",\"F\",\"F\",\"M\",\"M\",\"F\",\"M\",\"F\",\"F\",\"M\",\"F\",\"M\",\"F\",\"F\",\"F\",\"M\",\"M\",\"M\",\"M\",\"M\",\"M\",\"M\",\"M\",\"F\",\"M\",\"F\",\"F\",\"F\",\"F\",\"M\",\"M\",\"M\",\"F\",\"F\",\"M\",\"M\",\"M\",\"F\",\"M\",\"F\",\"M\",\"F\",\"M\",\"M\",\"F\",\"F\",\"F\",\"F\",\"M\",\"M\",\"M\",\"M\",\"F\",\"F\",\"M\",\"M\",\"F\",\"F\",\"M\",\"F\",\"M\",\"M\",\"M\",\"M\",\"M\",\"F\",\"M\",\"F\",\"M\",\"M\",\"M\",\"F\",\"M\",\"M\",\"F\",\"M\",\"M\",\"M\",\"M\",\"M\",\"M\",\"F\",\"F\",\"M\",\"F\",\"F\",\"M\",\"M\",\"M\",\"F\",\"M\",\"F\",\"M\",\"M\",\"F\",\"F\",\"M\",\"F\",\"M\",\"M\",\"M\",\"F\",\"M\",\"M\",\"F\",\"M\",\"M\",\"M\",\"F\",\"M\",\"M\",\"F\",\"M\",\"M\",\"F\",\"F\",\"F\",\"F\",\"M\",\"M\",\"M\",\"F\",\"F\",\"M\",\"M\",\"F\",\"M\",\"F\",\"M\",\"M\",\"M\",\"M\",\"F\",\"F\",\"M\",\"F\",\"M\",\"M\",\"M\",\"M\",\"F\",\"F\",\"M\",\"M\",\"F\",\"M\",\"M\",\"F\",\"M\",\"M\",\"F\",\"F\",\"F\",\"F\",\"F\",\"F\",\"F\",\"F\",\"F\",\"M\",\"M\",\"F\",\"M\",\"F\",\"F\",\"M\",\"M\",\"F\",\"M\",\"F\",\"M\",\"M\",\"F\",\"F\",\"F\",\"M\",\"M\",\"M\",\"F\",\"F\",\"M\",\"M\",\"M\",\"F\",\"F\",\"F\",\"M\",\"M\",\"F\",\"F\",\"F\",\"F\",\"M\",\"F\",\"M\",\"F\",\"F\",\"F\",\"M\",\"M\",\"F\",\"F\",\"M\",\"F\",\"M\",\"F\",\"F\",\"F\",\"M\",\"F\",\"F\",\"F\",\"F\",\"F\",\"M\",\"M\",\"M\",\"M\",\"F\",\"M\",\"F\",\"F\",\"F\",\"F\",\"M\",\"M\",\"M\",\"M\",\"F\",\"M\",\"F\",\"F\",\"F\",\"F\",\"M\",\"M\",\"F\",\"M\",\"M\",\"F\",\"M\",\"F\",\"F\",\"F\",\"M\",\"F\",\"F\",\"F\",\"F\",\"F\",\"M\",\"F\",\"F\",\"F\",\"F\",\"F\",\"F\",\"F\",\"M\",\"F\",\"F\",\"M\",\"F\",\"F\",\"F\",\"F\",\"F\",\"F\",\"F\",\"F\",\"F\",\"F\",\"M\",\"F\",\"M\",\"F\",\"M\",\"M\",\"F\",\"M\",\"F\",\"F\",\"F\",\"F\",\"F\",\"F\",\"F\",\"F\",\"M\",\"F\",\"F\",\"F\",\"M\",\"F\",\"F\",\"M\",\"F\",\"F\",\"F\",\"F\",\"F\",\"F\",\"F\",\"M\",\"M\",\"F\",\"F\",\"F\",\"F\",\"M\",\"M\",\"F\",\"M\",\"M\",\"M\",\"F\",\"M\",\"F\",\"M\",\"M\",\"M\",\"F\",\"M\",\"F\",\"F\",\"M\",\"F\",\"F\",\"F\",\"F\",\"M\",\"M\",\"F\",\"M\",\"F\",\"F\",\"F\",\"F\",\"F\",\"M\",\"F\",\"F\",\"M\",\"F\",\"F\",\"F\",\"F\",\"M\",\"F\",\"M\",\"M\",\"F\",\"M\",\"F\",\"F\",\"F\",\"F\",\"M\",\"F\",\"F\",\"F\",\"F\",\"F\",\"F\",\"F\",\"F\",\"F\",\"F\",\"F\",\"M\",\"M\",\"M\",\"M\",\"F\",\"F\",\"F\",\"F\",\"F\",\"F\",\"F\",\"M\",\"F\",\"F\",\"F\",\"F\",\"M\",\"F\",\"M\",\"M\",\"F\",\"M\",\"F\",\"M\",\"F\",\"M\",\"F\",\"F\",\"F\",\"F\",\"M\",\"M\",\"M\",\"F\",\"F\",\"F\",\"F\",\"F\",\"F\",\"F\",\"M\",\"M\",\"F\",\"M\",\"M\",\"F\",\"F\",\"F\",\"F\",\"F\",\"F\",\"F\",\"F\",\"F\",\"M\",\"F\",\"M\",\"F\",\"F\",\"M\",\"F\",\"F\",\"F\",\"F\",\"M\",\"F\",\"F\",\"F\",\"M\",\"F\",\"M\",\"F\",\"F\",\"M\",\"F\",\"F\",\"M\",\"M\",\"M\",\"M\",\"F\",\"F\",\"F\",\"F\",\"M\",\"F\",\"M\",\"F\",\"M\",\"F\",\"F\",\"M\",\"M\",\"F\",\"M\",\"F\",\"F\",\"F\",\"M\",\"F\",\"F\",\"F\",\"F\",\"M\",\"F\",\"M\",\"F\",\"F\",\"F\",\"F\",\"M\",\"M\",\"F\",\"F\",\"M\",\"F\",\"F\",\"F\",\"M\",\"F\",\"F\",\"F\",\"M\",\"M\",\"M\",\"F\",\"F\",\"M\",\"F\",\"F\",\"M\",\"M\",\"F\",\"F\",\"M\",\"M\",\"F\",\"F\",\"F\",\"M\",\"F\",\"F\",\"F\",\"F\",\"F\",\"F\",\"F\",\"M\",\"M\",\"F\",\"F\",\"M\",\"F\",\"F\",\"F\",\"F\",\"F\",\"F\",\"M\",\"F\",\"M\",\"M\",\"F\",\"F\",\"F\",\"F\",\"M\",\"F\",\"F\",\"F\",\"F\",\"F\",\"F\",\"M\",\"F\",\"F\",\"F\",\"F\",\"F\",\"F\",\"F\",\"F\",\"F\",\"F\",\"F\",\"F\",\"F\",\"M\",\"F\",\"F\",\"M\",\"F\",\"M\",\"F\",\"F\",\"F\",\"F\",\"F\",\"F\",\"F\",\"M\",\"F\",\"M\",\"F\",\"F\",\"F\",\"F\",\"F\",\"F\",\"F\",\"F\",\"F\",\"F\",\"F\",\"F\",\"F\",\"F\",\"F\",\"F\",\"F\",\"F\",\"F\",\"F\",\"M\",\"M\",\"F\",\"F\",\"F\",\"F\",\"F\",\"M\",\"M\",\"M\",\"M\",\"F\",\"F\",\"F\",\"F\",\"F\",\"M\",\"M\",\"F\",\"M\",\"F\",\"F\",\"F\",\"M\",\"M\",\"F\",\"F\",\"F\",\"F\",\"M\",\"M\",\"F\",\"M\",\"M\",\"M\",\"F\",\"F\",\"F\",\"M\",\"M\",\"M\",\"M\",\"F\",\"F\",\"F\",\"F\",\"M\",\"F\",\"F\",\"F\",\"M\",\"F\",\"M\",\"M\",\"F\",\"M\",\"M\",\"M\",\"M\",\"F\",\"M\",\"M\",\"F\",\"F\",\"M\",\"M\",\"M\",\"M\",\"F\",\"M\",\"F\",\"M\",\"M\",\"F\",\"M\",\"F\",\"M\",\"M\",\"M\",\"M\",\"F\",\"M\",\"M\",\"M\",\"M\",\"M\",\"F\",\"M\",\"M\",\"M\",\"F\",\"M\",\"M\",\"F\",\"M\",\"M\",\"M\",\"M\",\"M\",\"M\",\"M\",\"M\",\"M\",\"M\",\"F\",\"M\",\"M\",\"M\",\"M\",\"M\",\"F\",\"M\",\"M\",\"M\",\"F\",\"M\",\"F\",\"F\",\"F\",\"F\",\"F\",\"M\",\"F\",\"M\",\"M\",\"F\",\"M\",\"M\",\"M\",\"F\",\"M\",\"M\",\"F\",\"F\",\"F\",\"M\",\"F\",\"M\",\"F\",\"M\",\"M\",\"M\",\"M\",\"F\",\"M\",\"F\",\"F\",\"F\",\"M\",\"M\",\"F\",\"M\",\"M\",\"M\",\"F\",\"M\",\"F\",\"M\",\"F\",\"M\",\"F\",\"M\",\"F\",\"F\",\"M\",\"M\",\"M\",\"M\",\"M\",\"M\",\"F\",\"M\",\"F\",\"M\",\"F\",\"F\",\"M\",\"F\",\"F\",\"M\",\"F\",\"M\",\"M\"],\"xaxis\":\"x\",\"yaxis\":\"y\",\"type\":\"histogram\"}],                        {\"template\":{\"data\":{\"histogram2dcontour\":[{\"type\":\"histogram2dcontour\",\"colorbar\":{\"outlinewidth\":0,\"ticks\":\"\"},\"colorscale\":[[0.0,\"#0d0887\"],[0.1111111111111111,\"#46039f\"],[0.2222222222222222,\"#7201a8\"],[0.3333333333333333,\"#9c179e\"],[0.4444444444444444,\"#bd3786\"],[0.5555555555555556,\"#d8576b\"],[0.6666666666666666,\"#ed7953\"],[0.7777777777777778,\"#fb9f3a\"],[0.8888888888888888,\"#fdca26\"],[1.0,\"#f0f921\"]]}],\"choropleth\":[{\"type\":\"choropleth\",\"colorbar\":{\"outlinewidth\":0,\"ticks\":\"\"}}],\"histogram2d\":[{\"type\":\"histogram2d\",\"colorbar\":{\"outlinewidth\":0,\"ticks\":\"\"},\"colorscale\":[[0.0,\"#0d0887\"],[0.1111111111111111,\"#46039f\"],[0.2222222222222222,\"#7201a8\"],[0.3333333333333333,\"#9c179e\"],[0.4444444444444444,\"#bd3786\"],[0.5555555555555556,\"#d8576b\"],[0.6666666666666666,\"#ed7953\"],[0.7777777777777778,\"#fb9f3a\"],[0.8888888888888888,\"#fdca26\"],[1.0,\"#f0f921\"]]}],\"heatmap\":[{\"type\":\"heatmap\",\"colorbar\":{\"outlinewidth\":0,\"ticks\":\"\"},\"colorscale\":[[0.0,\"#0d0887\"],[0.1111111111111111,\"#46039f\"],[0.2222222222222222,\"#7201a8\"],[0.3333333333333333,\"#9c179e\"],[0.4444444444444444,\"#bd3786\"],[0.5555555555555556,\"#d8576b\"],[0.6666666666666666,\"#ed7953\"],[0.7777777777777778,\"#fb9f3a\"],[0.8888888888888888,\"#fdca26\"],[1.0,\"#f0f921\"]]}],\"heatmapgl\":[{\"type\":\"heatmapgl\",\"colorbar\":{\"outlinewidth\":0,\"ticks\":\"\"},\"colorscale\":[[0.0,\"#0d0887\"],[0.1111111111111111,\"#46039f\"],[0.2222222222222222,\"#7201a8\"],[0.3333333333333333,\"#9c179e\"],[0.4444444444444444,\"#bd3786\"],[0.5555555555555556,\"#d8576b\"],[0.6666666666666666,\"#ed7953\"],[0.7777777777777778,\"#fb9f3a\"],[0.8888888888888888,\"#fdca26\"],[1.0,\"#f0f921\"]]}],\"contourcarpet\":[{\"type\":\"contourcarpet\",\"colorbar\":{\"outlinewidth\":0,\"ticks\":\"\"}}],\"contour\":[{\"type\":\"contour\",\"colorbar\":{\"outlinewidth\":0,\"ticks\":\"\"},\"colorscale\":[[0.0,\"#0d0887\"],[0.1111111111111111,\"#46039f\"],[0.2222222222222222,\"#7201a8\"],[0.3333333333333333,\"#9c179e\"],[0.4444444444444444,\"#bd3786\"],[0.5555555555555556,\"#d8576b\"],[0.6666666666666666,\"#ed7953\"],[0.7777777777777778,\"#fb9f3a\"],[0.8888888888888888,\"#fdca26\"],[1.0,\"#f0f921\"]]}],\"surface\":[{\"type\":\"surface\",\"colorbar\":{\"outlinewidth\":0,\"ticks\":\"\"},\"colorscale\":[[0.0,\"#0d0887\"],[0.1111111111111111,\"#46039f\"],[0.2222222222222222,\"#7201a8\"],[0.3333333333333333,\"#9c179e\"],[0.4444444444444444,\"#bd3786\"],[0.5555555555555556,\"#d8576b\"],[0.6666666666666666,\"#ed7953\"],[0.7777777777777778,\"#fb9f3a\"],[0.8888888888888888,\"#fdca26\"],[1.0,\"#f0f921\"]]}],\"mesh3d\":[{\"type\":\"mesh3d\",\"colorbar\":{\"outlinewidth\":0,\"ticks\":\"\"}}],\"scatter\":[{\"fillpattern\":{\"fillmode\":\"overlay\",\"size\":10,\"solidity\":0.2},\"type\":\"scatter\"}],\"parcoords\":[{\"type\":\"parcoords\",\"line\":{\"colorbar\":{\"outlinewidth\":0,\"ticks\":\"\"}}}],\"scatterpolargl\":[{\"type\":\"scatterpolargl\",\"marker\":{\"colorbar\":{\"outlinewidth\":0,\"ticks\":\"\"}}}],\"bar\":[{\"error_x\":{\"color\":\"#2a3f5f\"},\"error_y\":{\"color\":\"#2a3f5f\"},\"marker\":{\"line\":{\"color\":\"#E5ECF6\",\"width\":0.5},\"pattern\":{\"fillmode\":\"overlay\",\"size\":10,\"solidity\":0.2}},\"type\":\"bar\"}],\"scattergeo\":[{\"type\":\"scattergeo\",\"marker\":{\"colorbar\":{\"outlinewidth\":0,\"ticks\":\"\"}}}],\"scatterpolar\":[{\"type\":\"scatterpolar\",\"marker\":{\"colorbar\":{\"outlinewidth\":0,\"ticks\":\"\"}}}],\"histogram\":[{\"marker\":{\"pattern\":{\"fillmode\":\"overlay\",\"size\":10,\"solidity\":0.2}},\"type\":\"histogram\"}],\"scattergl\":[{\"type\":\"scattergl\",\"marker\":{\"colorbar\":{\"outlinewidth\":0,\"ticks\":\"\"}}}],\"scatter3d\":[{\"type\":\"scatter3d\",\"line\":{\"colorbar\":{\"outlinewidth\":0,\"ticks\":\"\"}},\"marker\":{\"colorbar\":{\"outlinewidth\":0,\"ticks\":\"\"}}}],\"scattermapbox\":[{\"type\":\"scattermapbox\",\"marker\":{\"colorbar\":{\"outlinewidth\":0,\"ticks\":\"\"}}}],\"scatterternary\":[{\"type\":\"scatterternary\",\"marker\":{\"colorbar\":{\"outlinewidth\":0,\"ticks\":\"\"}}}],\"scattercarpet\":[{\"type\":\"scattercarpet\",\"marker\":{\"colorbar\":{\"outlinewidth\":0,\"ticks\":\"\"}}}],\"carpet\":[{\"aaxis\":{\"endlinecolor\":\"#2a3f5f\",\"gridcolor\":\"white\",\"linecolor\":\"white\",\"minorgridcolor\":\"white\",\"startlinecolor\":\"#2a3f5f\"},\"baxis\":{\"endlinecolor\":\"#2a3f5f\",\"gridcolor\":\"white\",\"linecolor\":\"white\",\"minorgridcolor\":\"white\",\"startlinecolor\":\"#2a3f5f\"},\"type\":\"carpet\"}],\"table\":[{\"cells\":{\"fill\":{\"color\":\"#EBF0F8\"},\"line\":{\"color\":\"white\"}},\"header\":{\"fill\":{\"color\":\"#C8D4E3\"},\"line\":{\"color\":\"white\"}},\"type\":\"table\"}],\"barpolar\":[{\"marker\":{\"line\":{\"color\":\"#E5ECF6\",\"width\":0.5},\"pattern\":{\"fillmode\":\"overlay\",\"size\":10,\"solidity\":0.2}},\"type\":\"barpolar\"}],\"pie\":[{\"automargin\":true,\"type\":\"pie\"}]},\"layout\":{\"autotypenumbers\":\"strict\",\"colorway\":[\"#636efa\",\"#EF553B\",\"#00cc96\",\"#ab63fa\",\"#FFA15A\",\"#19d3f3\",\"#FF6692\",\"#B6E880\",\"#FF97FF\",\"#FECB52\"],\"font\":{\"color\":\"#2a3f5f\"},\"hovermode\":\"closest\",\"hoverlabel\":{\"align\":\"left\"},\"paper_bgcolor\":\"white\",\"plot_bgcolor\":\"#E5ECF6\",\"polar\":{\"bgcolor\":\"#E5ECF6\",\"angularaxis\":{\"gridcolor\":\"white\",\"linecolor\":\"white\",\"ticks\":\"\"},\"radialaxis\":{\"gridcolor\":\"white\",\"linecolor\":\"white\",\"ticks\":\"\"}},\"ternary\":{\"bgcolor\":\"#E5ECF6\",\"aaxis\":{\"gridcolor\":\"white\",\"linecolor\":\"white\",\"ticks\":\"\"},\"baxis\":{\"gridcolor\":\"white\",\"linecolor\":\"white\",\"ticks\":\"\"},\"caxis\":{\"gridcolor\":\"white\",\"linecolor\":\"white\",\"ticks\":\"\"}},\"coloraxis\":{\"colorbar\":{\"outlinewidth\":0,\"ticks\":\"\"}},\"colorscale\":{\"sequential\":[[0.0,\"#0d0887\"],[0.1111111111111111,\"#46039f\"],[0.2222222222222222,\"#7201a8\"],[0.3333333333333333,\"#9c179e\"],[0.4444444444444444,\"#bd3786\"],[0.5555555555555556,\"#d8576b\"],[0.6666666666666666,\"#ed7953\"],[0.7777777777777778,\"#fb9f3a\"],[0.8888888888888888,\"#fdca26\"],[1.0,\"#f0f921\"]],\"sequentialminus\":[[0.0,\"#0d0887\"],[0.1111111111111111,\"#46039f\"],[0.2222222222222222,\"#7201a8\"],[0.3333333333333333,\"#9c179e\"],[0.4444444444444444,\"#bd3786\"],[0.5555555555555556,\"#d8576b\"],[0.6666666666666666,\"#ed7953\"],[0.7777777777777778,\"#fb9f3a\"],[0.8888888888888888,\"#fdca26\"],[1.0,\"#f0f921\"]],\"diverging\":[[0,\"#8e0152\"],[0.1,\"#c51b7d\"],[0.2,\"#de77ae\"],[0.3,\"#f1b6da\"],[0.4,\"#fde0ef\"],[0.5,\"#f7f7f7\"],[0.6,\"#e6f5d0\"],[0.7,\"#b8e186\"],[0.8,\"#7fbc41\"],[0.9,\"#4d9221\"],[1,\"#276419\"]]},\"xaxis\":{\"gridcolor\":\"white\",\"linecolor\":\"white\",\"ticks\":\"\",\"title\":{\"standoff\":15},\"zerolinecolor\":\"white\",\"automargin\":true,\"zerolinewidth\":2},\"yaxis\":{\"gridcolor\":\"white\",\"linecolor\":\"white\",\"ticks\":\"\",\"title\":{\"standoff\":15},\"zerolinecolor\":\"white\",\"automargin\":true,\"zerolinewidth\":2},\"scene\":{\"xaxis\":{\"backgroundcolor\":\"#E5ECF6\",\"gridcolor\":\"white\",\"linecolor\":\"white\",\"showbackground\":true,\"ticks\":\"\",\"zerolinecolor\":\"white\",\"gridwidth\":2},\"yaxis\":{\"backgroundcolor\":\"#E5ECF6\",\"gridcolor\":\"white\",\"linecolor\":\"white\",\"showbackground\":true,\"ticks\":\"\",\"zerolinecolor\":\"white\",\"gridwidth\":2},\"zaxis\":{\"backgroundcolor\":\"#E5ECF6\",\"gridcolor\":\"white\",\"linecolor\":\"white\",\"showbackground\":true,\"ticks\":\"\",\"zerolinecolor\":\"white\",\"gridwidth\":2}},\"shapedefaults\":{\"line\":{\"color\":\"#2a3f5f\"}},\"annotationdefaults\":{\"arrowcolor\":\"#2a3f5f\",\"arrowhead\":0,\"arrowwidth\":1},\"geo\":{\"bgcolor\":\"white\",\"landcolor\":\"#E5ECF6\",\"subunitcolor\":\"white\",\"showland\":true,\"showlakes\":true,\"lakecolor\":\"white\"},\"title\":{\"x\":0.05},\"mapbox\":{\"style\":\"light\"}}},\"xaxis\":{\"anchor\":\"y\",\"domain\":[0.0,1.0],\"title\":{\"text\":\"sexo\"}},\"yaxis\":{\"anchor\":\"x\",\"domain\":[0.0,1.0],\"title\":{\"text\":\"count\"}},\"legend\":{\"title\":{\"text\":\"escolaridade\"},\"tracegroupgap\":0},\"margin\":{\"t\":60},\"barmode\":\"relative\"},                        {\"responsive\": true}                    ).then(function(){\n",
              "                            \n",
              "var gd = document.getElementById('a8d60436-c997-49b2-b122-35c567f869a8');\n",
              "var x = new MutationObserver(function (mutations, observer) {{\n",
              "        var display = window.getComputedStyle(gd).display;\n",
              "        if (!display || display === 'none') {{\n",
              "            console.log([gd, 'removed!']);\n",
              "            Plotly.purge(gd);\n",
              "            observer.disconnect();\n",
              "        }}\n",
              "}});\n",
              "\n",
              "// Listen for the removal of the full notebook cells\n",
              "var notebookContainer = gd.closest('#notebook-container');\n",
              "if (notebookContainer) {{\n",
              "    x.observe(notebookContainer, {childList: true});\n",
              "}}\n",
              "\n",
              "// Listen for the clearing of the current output cell\n",
              "var outputEl = gd.closest('.output');\n",
              "if (outputEl) {{\n",
              "    x.observe(outputEl, {childList: true});\n",
              "}}\n",
              "\n",
              "                        })                };                            </script>        </div>\n",
              "</body>\n",
              "</html>"
            ]
          },
          "metadata": {}
        }
      ]
    },
    {
      "cell_type": "code",
      "source": [
        "#Analisando a quantidade mais representativa em Masculino\n",
        "masculino= dados.query('sexo==\"M\"')\n",
        "#Analisando o total de clientes M\n",
        "masculino.shape"
      ],
      "metadata": {
        "colab": {
          "base_uri": "https://localhost:8080/"
        },
        "id": "QN39iLVHT6Th",
        "outputId": "281839ac-dda9-4eb4-d42a-263cdcb745b4"
      },
      "execution_count": 13,
      "outputs": [
        {
          "output_type": "execute_result",
          "data": {
            "text/plain": [
              "(4769, 16)"
            ]
          },
          "metadata": {},
          "execution_count": 13
        }
      ]
    },
    {
      "cell_type": "code",
      "source": [
        "#Criando variavel Total\n",
        "Total_clientes=len(masculino)\n",
        "print(Total_clientes)\n"
      ],
      "metadata": {
        "colab": {
          "base_uri": "https://localhost:8080/"
        },
        "id": "W0TH9f-MYKSD",
        "outputId": "5dfad839-7028-44cd-c3d2-782bd6a92576"
      },
      "execution_count": 14,
      "outputs": [
        {
          "output_type": "stream",
          "name": "stdout",
          "text": [
            "4769\n"
          ]
        }
      ]
    },
    {
      "cell_type": "code",
      "source": [
        "#Analisando grupo mais representativo M\n",
        "masculino_maior=dados.query(\"escolaridade=='mestrado' and sexo=='M'\")"
      ],
      "metadata": {
        "id": "lIbTuI5oVoz5"
      },
      "execution_count": 15,
      "outputs": []
    },
    {
      "cell_type": "code",
      "source": [
        "#representatividade do grupo\n",
        "Total_masculino_maior=len(masculino_maior)\n",
        "print(Total_masculino_maior)"
      ],
      "metadata": {
        "colab": {
          "base_uri": "https://localhost:8080/"
        },
        "id": "gKnH1drKW49s",
        "outputId": "dd91808d-3a77-4447-c118-914aa624a189"
      },
      "execution_count": 16,
      "outputs": [
        {
          "output_type": "stream",
          "name": "stdout",
          "text": [
            "1458\n"
          ]
        }
      ]
    },
    {
      "cell_type": "code",
      "source": [
        "#Representatividade masculino com mestrado\n",
        "Representatividade=(Total_masculino_maior/Total_clientes)*100\n",
        "print(Representatividade)"
      ],
      "metadata": {
        "colab": {
          "base_uri": "https://localhost:8080/"
        },
        "id": "sHBV3nBbZyzb",
        "outputId": "def85909-205c-48fb-d4fa-02e978960370"
      },
      "execution_count": 17,
      "outputs": [
        {
          "output_type": "stream",
          "name": "stdout",
          "text": [
            "30.572447053889707\n"
          ]
        }
      ]
    },
    {
      "cell_type": "markdown",
      "source": [
        "*Primeira análise: Perfil de clientes masculinos com mestrado representam 30,57%*\n"
      ],
      "metadata": {
        "id": "TrFjhoQbTp_n"
      }
    },
    {
      "cell_type": "code",
      "source": [
        "#Analisando a quantidade mais representativa em Feminino\n",
        "feminino= dados.query('sexo==\"F\"')\n",
        "#Analisando o total de clientes F\n",
        "feminino.shape"
      ],
      "metadata": {
        "colab": {
          "base_uri": "https://localhost:8080/"
        },
        "id": "UkCxgGi-kazA",
        "outputId": "4adc7429-f294-44c1-f214-b04d9ed22e2c"
      },
      "execution_count": 18,
      "outputs": [
        {
          "output_type": "execute_result",
          "data": {
            "text/plain": [
              "(5358, 16)"
            ]
          },
          "metadata": {},
          "execution_count": 18
        }
      ]
    },
    {
      "cell_type": "code",
      "source": [
        "#Criando variavel Total Feminino\n",
        "Total_clientesF=len(feminino)\n",
        "print(Total_clientesF)"
      ],
      "metadata": {
        "colab": {
          "base_uri": "https://localhost:8080/"
        },
        "id": "Zk1goGt3kNtP",
        "outputId": "aab0e3e4-1033-465e-a31c-9a0a7d15ac96"
      },
      "execution_count": 19,
      "outputs": [
        {
          "output_type": "stream",
          "name": "stdout",
          "text": [
            "5358\n"
          ]
        }
      ]
    },
    {
      "cell_type": "code",
      "source": [
        "#Analisando grupo mais representativo Feminino\n",
        "feminino_maior=dados.query(\"escolaridade=='mestrado' and sexo=='F'\")"
      ],
      "metadata": {
        "id": "oJqXazZDkcGe"
      },
      "execution_count": 20,
      "outputs": []
    },
    {
      "cell_type": "code",
      "source": [
        "#representatividade do grupo Feminino com mestrado\n",
        "Total_feminino_maior=len(feminino_maior)\n",
        "print(Total_feminino_maior)"
      ],
      "metadata": {
        "colab": {
          "base_uri": "https://localhost:8080/"
        },
        "id": "EEj83D8xkmkR",
        "outputId": "6bd6b4af-9425-4ef3-82f2-1fd6388f7f3a"
      },
      "execution_count": 21,
      "outputs": [
        {
          "output_type": "stream",
          "name": "stdout",
          "text": [
            "1670\n"
          ]
        }
      ]
    },
    {
      "cell_type": "code",
      "source": [
        "Representatividade_feminino=(Total_feminino_maior/Total_clientesF)*100\n",
        "print(Representatividade_feminino)"
      ],
      "metadata": {
        "colab": {
          "base_uri": "https://localhost:8080/"
        },
        "id": "4BV1z0P1k9i2",
        "outputId": "de4ad952-a7b1-4e33-fc00-2ced36853f3a"
      },
      "execution_count": 22,
      "outputs": [
        {
          "output_type": "stream",
          "name": "stdout",
          "text": [
            "31.16834639790967\n"
          ]
        }
      ]
    },
    {
      "cell_type": "markdown",
      "source": [
        "Segunda análise: Perfil de clientes femininos com mestrado representam 31,16%"
      ],
      "metadata": {
        "id": "8EXpyRTElMsI"
      }
    },
    {
      "cell_type": "code",
      "source": [
        "#Análise renda Masculino com mestrado\n",
        "px.histogram(masculino_maior, x='salario_anual',color='tipo_cartao', text_auto=True)"
      ],
      "metadata": {
        "colab": {
          "base_uri": "https://localhost:8080/",
          "height": 542
        },
        "id": "yUO0yDZrADnu",
        "outputId": "28be2555-4cf6-445b-852a-a79ee2de0a09"
      },
      "execution_count": 23,
      "outputs": [
        {
          "output_type": "display_data",
          "data": {
            "text/html": [
              "<html>\n",
              "<head><meta charset=\"utf-8\" /></head>\n",
              "<body>\n",
              "    <div>            <script src=\"https://cdnjs.cloudflare.com/ajax/libs/mathjax/2.7.5/MathJax.js?config=TeX-AMS-MML_SVG\"></script><script type=\"text/javascript\">if (window.MathJax && window.MathJax.Hub && window.MathJax.Hub.Config) {window.MathJax.Hub.Config({SVG: {font: \"STIX-Web\"}});}</script>                <script type=\"text/javascript\">window.PlotlyConfig = {MathJaxConfig: 'local'};</script>\n",
              "        <script charset=\"utf-8\" src=\"https://cdn.plot.ly/plotly-2.24.1.min.js\"></script>                <div id=\"15875e3d-6b46-4f57-b5a7-907889b5bd1d\" class=\"plotly-graph-div\" style=\"height:525px; width:100%;\"></div>            <script type=\"text/javascript\">                                    window.PLOTLYENV=window.PLOTLYENV || {};                                    if (document.getElementById(\"15875e3d-6b46-4f57-b5a7-907889b5bd1d\")) {                    Plotly.newPlot(                        \"15875e3d-6b46-4f57-b5a7-907889b5bd1d\",                        [{\"alignmentgroup\":\"True\",\"bingroup\":\"x\",\"hovertemplate\":\"tipo_cartao=blue\\u003cbr\\u003esalario_anual=%{x}\\u003cbr\\u003ecount=%{y}\\u003cextra\\u003e\\u003c\\u002fextra\\u003e\",\"legendgroup\":\"blue\",\"marker\":{\"color\":\"#636efa\",\"pattern\":{\"shape\":\"\"}},\"name\":\"blue\",\"offsetgroup\":\"blue\",\"orientation\":\"v\",\"showlegend\":true,\"texttemplate\":\"%{value}\",\"x\":[\"$80K - $120K\",\"$40K - $60K\",\"$80K - $120K\",\"$60K - $80K\",\"$60K - $80K\",\"$80K - $120K\",\"$80K - $120K\",\"$120K +\",\"$60K - $80K\",\"$120K +\",\"$60K - $80K\",\"$80K - $120K\",\"$60K - $80K\",\"$80K - $120K\",\"$60K - $80K\",\"$80K - $120K\",\"$60K - $80K\",\"$40K - $60K\",\"$80K - $120K\",\"menos que $40K\",\"$40K - $60K\",\"$120K +\",\"$60K - $80K\",\"$80K - $120K\",\"$80K - $120K\",\"$120K +\",\"$60K - $80K\",\"$120K +\",\"$80K - $120K\",\"$80K - $120K\",\"$80K - $120K\",\"$80K - $120K\",\"$120K +\",\"na\",\"$80K - $120K\",\"$80K - $120K\",\"$60K - $80K\",\"$60K - $80K\",\"$80K - $120K\",\"$80K - $120K\",\"$60K - $80K\",\"$40K - $60K\",\"$120K +\",\"$80K - $120K\",\"$120K +\",\"$120K +\",\"$80K - $120K\",\"$80K - $120K\",\"$60K - $80K\",\"$40K - $60K\",\"$60K - $80K\",\"$80K - $120K\",\"$60K - $80K\",\"$40K - $60K\",\"$60K - $80K\",\"$40K - $60K\",\"$120K +\",\"$80K - $120K\",\"$120K +\",\"$60K - $80K\",\"$120K +\",\"$40K - $60K\",\"$80K - $120K\",\"$120K +\",\"menos que $40K\",\"$80K - $120K\",\"$60K - $80K\",\"$80K - $120K\",\"$40K - $60K\",\"$80K - $120K\",\"$80K - $120K\",\"$60K - $80K\",\"$60K - $80K\",\"$40K - $60K\",\"$60K - $80K\",\"$80K - $120K\",\"$80K - $120K\",\"$40K - $60K\",\"$80K - $120K\",\"$60K - $80K\",\"$80K - $120K\",\"$60K - $80K\",\"$60K - $80K\",\"$60K - $80K\",\"$40K - $60K\",\"$80K - $120K\",\"$80K - $120K\",\"$80K - $120K\",\"$60K - $80K\",\"$60K - $80K\",\"$60K - $80K\",\"menos que $40K\",\"$80K - $120K\",\"$60K - $80K\",\"$60K - $80K\",\"$80K - $120K\",\"$120K +\",\"$40K - $60K\",\"$60K - $80K\",\"$80K - $120K\",\"$40K - $60K\",\"$60K - $80K\",\"$40K - $60K\",\"$60K - $80K\",\"$60K - $80K\",\"$80K - $120K\",\"$120K +\",\"menos que $40K\",\"$80K - $120K\",\"$60K - $80K\",\"$40K - $60K\",\"$80K - $120K\",\"$40K - $60K\",\"$80K - $120K\",\"$80K - $120K\",\"$80K - $120K\",\"$80K - $120K\",\"$60K - $80K\",\"$120K +\",\"$60K - $80K\",\"$80K - $120K\",\"$60K - $80K\",\"$60K - $80K\",\"$60K - $80K\",\"$80K - $120K\",\"$40K - $60K\",\"$40K - $60K\",\"$80K - $120K\",\"$60K - $80K\",\"$40K - $60K\",\"$60K - $80K\",\"$120K +\",\"$120K +\",\"$120K +\",\"$40K - $60K\",\"$80K - $120K\",\"$40K - $60K\",\"$80K - $120K\",\"$60K - $80K\",\"$80K - $120K\",\"$80K - $120K\",\"$60K - $80K\",\"$120K +\",\"$80K - $120K\",\"$80K - $120K\",\"$60K - $80K\",\"$80K - $120K\",\"$60K - $80K\",\"na\",\"$60K - $80K\",\"$80K - $120K\",\"$80K - $120K\",\"$80K - $120K\",\"$80K - $120K\",\"$40K - $60K\",\"$120K +\",\"$80K - $120K\",\"$60K - $80K\",\"$60K - $80K\",\"$120K +\",\"menos que $40K\",\"$60K - $80K\",\"$60K - $80K\",\"$60K - $80K\",\"$60K - $80K\",\"$80K - $120K\",\"$120K +\",\"$80K - $120K\",\"$120K +\",\"$120K +\",\"menos que $40K\",\"$80K - $120K\",\"$120K +\",\"$120K +\",\"$40K - $60K\",\"$80K - $120K\",\"$80K - $120K\",\"$80K - $120K\",\"$80K - $120K\",\"$80K - $120K\",\"$80K - $120K\",\"menos que $40K\",\"$80K - $120K\",\"menos que $40K\",\"$80K - $120K\",\"$80K - $120K\",\"$80K - $120K\",\"$120K +\",\"na\",\"$120K +\",\"$80K - $120K\",\"$80K - $120K\",\"menos que $40K\",\"$40K - $60K\",\"$40K - $60K\",\"$40K - $60K\",\"$80K - $120K\",\"$80K - $120K\",\"$120K +\",\"$80K - $120K\",\"menos que $40K\",\"$60K - $80K\",\"$40K - $60K\",\"$60K - $80K\",\"na\",\"$60K - $80K\",\"$80K - $120K\",\"menos que $40K\",\"$120K +\",\"$60K - $80K\",\"$60K - $80K\",\"$80K - $120K\",\"$60K - $80K\",\"menos que $40K\",\"menos que $40K\",\"$40K - $60K\",\"$40K - $60K\",\"$40K - $60K\",\"menos que $40K\",\"$60K - $80K\",\"$60K - $80K\",\"$80K - $120K\",\"$60K - $80K\",\"$60K - $80K\",\"$80K - $120K\",\"$120K +\",\"$80K - $120K\",\"$80K - $120K\",\"$60K - $80K\",\"$120K +\",\"$60K - $80K\",\"$40K - $60K\",\"$40K - $60K\",\"$80K - $120K\",\"$60K - $80K\",\"$60K - $80K\",\"$60K - $80K\",\"$60K - $80K\",\"$60K - $80K\",\"$60K - $80K\",\"$80K - $120K\",\"$60K - $80K\",\"$80K - $120K\",\"$60K - $80K\",\"$120K +\",\"menos que $40K\",\"$40K - $60K\",\"$80K - $120K\",\"$40K - $60K\",\"$120K +\",\"$120K +\",\"$80K - $120K\",\"$60K - $80K\",\"$40K - $60K\",\"$80K - $120K\",\"$60K - $80K\",\"$40K - $60K\",\"$60K - $80K\",\"$60K - $80K\",\"$40K - $60K\",\"$80K - $120K\",\"$40K - $60K\",\"$60K - $80K\",\"$60K - $80K\",\"$80K - $120K\",\"menos que $40K\",\"menos que $40K\",\"$80K - $120K\",\"$80K - $120K\",\"$60K - $80K\",\"$60K - $80K\",\"$80K - $120K\",\"$60K - $80K\",\"$120K +\",\"$80K - $120K\",\"$40K - $60K\",\"$60K - $80K\",\"$40K - $60K\",\"$80K - $120K\",\"$60K - $80K\",\"$60K - $80K\",\"$60K - $80K\",\"$120K +\",\"$40K - $60K\",\"$60K - $80K\",\"$40K - $60K\",\"menos que $40K\",\"$40K - $60K\",\"$60K - $80K\",\"$60K - $80K\",\"$40K - $60K\",\"menos que $40K\",\"$40K - $60K\",\"$80K - $120K\",\"$120K +\",\"$80K - $120K\",\"$80K - $120K\",\"$80K - $120K\",\"menos que $40K\",\"$120K +\",\"$80K - $120K\",\"menos que $40K\",\"$80K - $120K\",\"$120K +\",\"$40K - $60K\",\"$40K - $60K\",\"$60K - $80K\",\"menos que $40K\",\"$80K - $120K\",\"$40K - $60K\",\"$60K - $80K\",\"menos que $40K\",\"$80K - $120K\",\"$40K - $60K\",\"menos que $40K\",\"menos que $40K\",\"$60K - $80K\",\"$60K - $80K\",\"$80K - $120K\",\"$120K +\",\"$80K - $120K\",\"$80K - $120K\",\"menos que $40K\",\"$40K - $60K\",\"$60K - $80K\",\"$80K - $120K\",\"$80K - $120K\",\"$120K +\",\"$80K - $120K\",\"$80K - $120K\",\"$80K - $120K\",\"$120K +\",\"$40K - $60K\",\"$60K - $80K\",\"$60K - $80K\",\"$80K - $120K\",\"$80K - $120K\",\"$60K - $80K\",\"$40K - $60K\",\"$80K - $120K\",\"$120K +\",\"$80K - $120K\",\"$80K - $120K\",\"$80K - $120K\",\"$60K - $80K\",\"$40K - $60K\",\"$40K - $60K\",\"$120K +\",\"menos que $40K\",\"menos que $40K\",\"$60K - $80K\",\"na\",\"menos que $40K\",\"$80K - $120K\",\"$40K - $60K\",\"$80K - $120K\",\"$80K - $120K\",\"menos que $40K\",\"$40K - $60K\",\"$60K - $80K\",\"$80K - $120K\",\"$40K - $60K\",\"$80K - $120K\",\"$40K - $60K\",\"$80K - $120K\",\"$40K - $60K\",\"$80K - $120K\",\"$40K - $60K\",\"$60K - $80K\",\"$120K +\",\"$40K - $60K\",\"$60K - $80K\",\"$120K +\",\"$60K - $80K\",\"$60K - $80K\",\"$60K - $80K\",\"$60K - $80K\",\"$120K +\",\"$80K - $120K\",\"$60K - $80K\",\"$80K - $120K\",\"$80K - $120K\",\"$80K - $120K\",\"$40K - $60K\",\"$80K - $120K\",\"$120K +\",\"$60K - $80K\",\"menos que $40K\",\"$120K +\",\"$80K - $120K\",\"$40K - $60K\",\"$60K - $80K\",\"$40K - $60K\",\"$40K - $60K\",\"$40K - $60K\",\"$40K - $60K\",\"menos que $40K\",\"$40K - $60K\",\"$80K - $120K\",\"$120K +\",\"$80K - $120K\",\"na\",\"$80K - $120K\",\"$40K - $60K\",\"$40K - $60K\",\"$60K - $80K\",\"$120K +\",\"menos que $40K\",\"$120K +\",\"$40K - $60K\",\"menos que $40K\",\"$80K - $120K\",\"$40K - $60K\",\"na\",\"$40K - $60K\",\"$60K - $80K\",\"$120K +\",\"$120K +\",\"$80K - $120K\",\"$120K +\",\"menos que $40K\",\"$60K - $80K\",\"$80K - $120K\",\"$80K - $120K\",\"$40K - $60K\",\"$80K - $120K\",\"$60K - $80K\",\"$60K - $80K\",\"$40K - $60K\",\"$40K - $60K\",\"menos que $40K\",\"$60K - $80K\",\"$60K - $80K\",\"$80K - $120K\",\"$60K - $80K\",\"$80K - $120K\",\"$80K - $120K\",\"$60K - $80K\",\"$120K +\",\"$60K - $80K\",\"$80K - $120K\",\"$60K - $80K\",\"$120K +\",\"$80K - $120K\",\"$80K - $120K\",\"$40K - $60K\",\"$60K - $80K\",\"$60K - $80K\",\"$80K - $120K\",\"$60K - $80K\",\"$60K - $80K\",\"$80K - $120K\",\"$60K - $80K\",\"$80K - $120K\",\"$120K +\",\"$120K +\",\"$40K - $60K\",\"$40K - $60K\",\"$80K - $120K\",\"$60K - $80K\",\"$80K - $120K\",\"$80K - $120K\",\"$120K +\",\"$80K - $120K\",\"menos que $40K\",\"$60K - $80K\",\"$60K - $80K\",\"$60K - $80K\",\"$80K - $120K\",\"$60K - $80K\",\"$120K +\",\"$120K +\",\"$60K - $80K\",\"$40K - $60K\",\"$60K - $80K\",\"$40K - $60K\",\"$80K - $120K\",\"$80K - $120K\",\"$80K - $120K\",\"$40K - $60K\",\"$80K - $120K\",\"$40K - $60K\",\"$40K - $60K\",\"$40K - $60K\",\"$60K - $80K\",\"$80K - $120K\",\"$60K - $80K\",\"$60K - $80K\",\"$60K - $80K\",\"$60K - $80K\",\"$40K - $60K\",\"menos que $40K\",\"$60K - $80K\",\"$120K +\",\"$80K - $120K\",\"menos que $40K\",\"$120K +\",\"$120K +\",\"$80K - $120K\",\"$80K - $120K\",\"$80K - $120K\",\"$80K - $120K\",\"$120K +\",\"$80K - $120K\",\"$80K - $120K\",\"$80K - $120K\",\"$80K - $120K\",\"$40K - $60K\",\"$120K +\",\"$120K +\",\"$80K - $120K\",\"$60K - $80K\",\"$60K - $80K\",\"$40K - $60K\",\"$40K - $60K\",\"$80K - $120K\",\"$60K - $80K\",\"$80K - $120K\",\"$80K - $120K\",\"$80K - $120K\",\"$80K - $120K\",\"$60K - $80K\",\"$60K - $80K\",\"$120K +\",\"$40K - $60K\",\"$120K +\",\"$60K - $80K\",\"na\",\"$80K - $120K\",\"$80K - $120K\",\"$60K - $80K\",\"menos que $40K\",\"$80K - $120K\",\"$60K - $80K\",\"$80K - $120K\",\"$60K - $80K\",\"$80K - $120K\",\"$60K - $80K\",\"$80K - $120K\",\"$120K +\",\"$60K - $80K\",\"$80K - $120K\",\"$40K - $60K\",\"$60K - $80K\",\"$80K - $120K\",\"$80K - $120K\",\"$60K - $80K\",\"$120K +\",\"$60K - $80K\",\"$80K - $120K\",\"$80K - $120K\",\"$60K - $80K\",\"$60K - $80K\",\"$60K - $80K\",\"$80K - $120K\",\"$60K - $80K\",\"$80K - $120K\",\"$60K - $80K\",\"$60K - $80K\",\"$40K - $60K\",\"$120K +\",\"$60K - $80K\",\"$80K - $120K\",\"$80K - $120K\",\"menos que $40K\",\"$80K - $120K\",\"$40K - $60K\",\"na\",\"$60K - $80K\",\"$40K - $60K\",\"menos que $40K\",\"$60K - $80K\",\"$40K - $60K\",\"$80K - $120K\",\"$40K - $60K\",\"$80K - $120K\",\"$40K - $60K\",\"$60K - $80K\",\"$60K - $80K\",\"$60K - $80K\",\"$120K +\",\"$60K - $80K\",\"$120K +\",\"$40K - $60K\",\"$80K - $120K\",\"$40K - $60K\",\"$40K - $60K\",\"$80K - $120K\",\"$60K - $80K\",\"$40K - $60K\",\"$80K - $120K\",\"$40K - $60K\",\"$120K +\",\"menos que $40K\",\"$80K - $120K\",\"$80K - $120K\",\"$40K - $60K\",\"menos que $40K\",\"$60K - $80K\",\"$80K - $120K\",\"$80K - $120K\",\"$40K - $60K\",\"$80K - $120K\",\"$80K - $120K\",\"$40K - $60K\",\"$80K - $120K\",\"$40K - $60K\",\"$60K - $80K\",\"menos que $40K\",\"$60K - $80K\",\"$60K - $80K\",\"$40K - $60K\",\"$80K - $120K\",\"$60K - $80K\",\"$80K - $120K\",\"menos que $40K\",\"$120K +\",\"$80K - $120K\",\"$40K - $60K\",\"$60K - $80K\",\"$80K - $120K\",\"$60K - $80K\",\"$80K - $120K\",\"$60K - $80K\",\"$80K - $120K\",\"$60K - $80K\",\"$120K +\",\"$60K - $80K\",\"$80K - $120K\",\"$120K +\",\"menos que $40K\",\"$120K +\",\"$60K - $80K\",\"$80K - $120K\",\"$120K +\",\"menos que $40K\",\"menos que $40K\",\"$40K - $60K\",\"$60K - $80K\",\"$80K - $120K\",\"$60K - $80K\",\"$80K - $120K\",\"$80K - $120K\",\"$40K - $60K\",\"na\",\"$80K - $120K\",\"$80K - $120K\",\"$80K - $120K\",\"$60K - $80K\",\"$80K - $120K\",\"$60K - $80K\",\"$40K - $60K\",\"menos que $40K\",\"$80K - $120K\",\"$60K - $80K\",\"$120K +\",\"$60K - $80K\",\"$80K - $120K\",\"$80K - $120K\",\"$60K - $80K\",\"$40K - $60K\",\"$60K - $80K\",\"$120K +\",\"$40K - $60K\",\"$40K - $60K\",\"$120K +\",\"$60K - $80K\",\"$60K - $80K\",\"$80K - $120K\",\"$80K - $120K\",\"$120K +\",\"$60K - $80K\",\"menos que $40K\",\"$120K +\",\"menos que $40K\",\"menos que $40K\",\"$60K - $80K\",\"$60K - $80K\",\"$60K - $80K\",\"$120K +\",\"$60K - $80K\",\"$80K - $120K\",\"$120K +\",\"$80K - $120K\",\"$80K - $120K\",\"menos que $40K\",\"$60K - $80K\",\"$80K - $120K\",\"$60K - $80K\",\"$60K - $80K\",\"na\",\"$60K - $80K\",\"menos que $40K\",\"$80K - $120K\",\"$60K - $80K\",\"$80K - $120K\",\"$120K +\",\"$120K +\",\"$60K - $80K\",\"$40K - $60K\",\"$80K - $120K\",\"$120K +\",\"$60K - $80K\",\"$60K - $80K\",\"$60K - $80K\",\"$80K - $120K\",\"$80K - $120K\",\"$60K - $80K\",\"$80K - $120K\",\"menos que $40K\",\"$80K - $120K\",\"$60K - $80K\",\"$60K - $80K\",\"$60K - $80K\",\"$120K +\",\"$60K - $80K\",\"$40K - $60K\",\"$60K - $80K\",\"$80K - $120K\",\"$60K - $80K\",\"$80K - $120K\",\"$120K +\",\"$120K +\",\"$60K - $80K\",\"$80K - $120K\",\"$80K - $120K\",\"$80K - $120K\",\"$120K +\",\"$60K - $80K\",\"$80K - $120K\",\"$60K - $80K\",\"$60K - $80K\",\"$40K - $60K\",\"$80K - $120K\",\"$60K - $80K\",\"$80K - $120K\",\"$120K +\",\"$40K - $60K\",\"$80K - $120K\",\"$80K - $120K\",\"$60K - $80K\",\"$60K - $80K\",\"$120K +\",\"menos que $40K\",\"$80K - $120K\",\"menos que $40K\",\"$80K - $120K\",\"$60K - $80K\",\"$80K - $120K\",\"$80K - $120K\",\"$120K +\",\"$60K - $80K\",\"$60K - $80K\",\"$120K +\",\"$80K - $120K\",\"$80K - $120K\",\"$120K +\",\"$60K - $80K\",\"$80K - $120K\",\"$40K - $60K\",\"$60K - $80K\",\"$120K +\",\"$80K - $120K\",\"$80K - $120K\",\"$80K - $120K\",\"$60K - $80K\",\"$60K - $80K\",\"$40K - $60K\",\"$80K - $120K\",\"na\",\"$60K - $80K\",\"$80K - $120K\",\"$80K - $120K\",\"$80K - $120K\",\"$60K - $80K\",\"$80K - $120K\",\"$80K - $120K\",\"$80K - $120K\",\"$40K - $60K\",\"$60K - $80K\",\"$60K - $80K\",\"$80K - $120K\",\"$80K - $120K\",\"$80K - $120K\",\"$80K - $120K\",\"$40K - $60K\",\"$120K +\",\"$60K - $80K\",\"$60K - $80K\",\"$80K - $120K\",\"$80K - $120K\",\"$80K - $120K\",\"$60K - $80K\",\"$60K - $80K\",\"$40K - $60K\",\"$60K - $80K\",\"$120K +\",\"$120K +\",\"$60K - $80K\",\"$40K - $60K\",\"$120K +\",\"$80K - $120K\",\"$40K - $60K\",\"$120K +\",\"$60K - $80K\",\"$80K - $120K\",\"$60K - $80K\",\"$60K - $80K\",\"menos que $40K\",\"na\",\"$80K - $120K\",\"$80K - $120K\",\"$60K - $80K\",\"$80K - $120K\",\"$120K +\",\"$80K - $120K\",\"$80K - $120K\",\"$60K - $80K\",\"$80K - $120K\",\"$80K - $120K\",\"$120K +\",\"$80K - $120K\",\"$120K +\",\"$80K - $120K\",\"$80K - $120K\",\"$40K - $60K\",\"$60K - $80K\",\"$80K - $120K\",\"$80K - $120K\",\"$80K - $120K\",\"$80K - $120K\",\"$60K - $80K\",\"$80K - $120K\",\"$80K - $120K\",\"na\",\"menos que $40K\",\"$80K - $120K\",\"$80K - $120K\",\"$60K - $80K\",\"menos que $40K\",\"$80K - $120K\",\"$80K - $120K\",\"$60K - $80K\",\"na\",\"$80K - $120K\",\"$60K - $80K\",\"$80K - $120K\",\"$60K - $80K\",\"$80K - $120K\",\"$40K - $60K\",\"$60K - $80K\",\"$80K - $120K\",\"$40K - $60K\",\"$120K +\",\"$60K - $80K\",\"$40K - $60K\",\"$60K - $80K\",\"$120K +\",\"$60K - $80K\",\"$80K - $120K\",\"$40K - $60K\",\"$60K - $80K\",\"$60K - $80K\",\"$80K - $120K\",\"$80K - $120K\",\"menos que $40K\",\"$80K - $120K\",\"$120K +\",\"$120K +\",\"$60K - $80K\",\"$40K - $60K\",\"$60K - $80K\",\"$40K - $60K\",\"$80K - $120K\",\"$40K - $60K\",\"$40K - $60K\",\"$120K +\",\"$40K - $60K\",\"$60K - $80K\",\"$120K +\",\"$60K - $80K\",\"$60K - $80K\",\"$60K - $80K\",\"$120K +\",\"$60K - $80K\",\"$80K - $120K\",\"$40K - $60K\",\"menos que $40K\",\"$60K - $80K\",\"$80K - $120K\",\"$60K - $80K\",\"$80K - $120K\",\"$60K - $80K\",\"na\",\"$60K - $80K\",\"$120K +\",\"$80K - $120K\",\"$80K - $120K\",\"$80K - $120K\",\"$40K - $60K\",\"$80K - $120K\",\"$80K - $120K\",\"$60K - $80K\",\"$80K - $120K\",\"$60K - $80K\",\"$60K - $80K\",\"$80K - $120K\",\"menos que $40K\",\"$80K - $120K\",\"$60K - $80K\",\"$80K - $120K\",\"$60K - $80K\",\"$60K - $80K\",\"$40K - $60K\",\"$80K - $120K\",\"$80K - $120K\",\"$120K +\",\"$60K - $80K\",\"$60K - $80K\",\"$80K - $120K\",\"$40K - $60K\",\"$40K - $60K\",\"$80K - $120K\",\"$60K - $80K\",\"menos que $40K\",\"$120K +\",\"$40K - $60K\",\"$60K - $80K\",\"$80K - $120K\",\"$60K - $80K\",\"menos que $40K\",\"$80K - $120K\",\"$80K - $120K\",\"menos que $40K\",\"$60K - $80K\",\"$40K - $60K\",\"$60K - $80K\",\"$120K +\",\"$40K - $60K\",\"$80K - $120K\",\"$60K - $80K\",\"$120K +\",\"$40K - $60K\",\"$120K +\",\"$120K +\",\"$40K - $60K\",\"$40K - $60K\",\"$40K - $60K\",\"$80K - $120K\",\"menos que $40K\",\"$60K - $80K\",\"$80K - $120K\",\"$120K +\",\"$60K - $80K\",\"menos que $40K\",\"$40K - $60K\",\"$60K - $80K\",\"$40K - $60K\",\"$40K - $60K\",\"$60K - $80K\",\"$80K - $120K\",\"$80K - $120K\",\"menos que $40K\",\"$40K - $60K\",\"menos que $40K\",\"$80K - $120K\",\"$60K - $80K\",\"$60K - $80K\",\"menos que $40K\",\"$60K - $80K\",\"$40K - $60K\",\"$60K - $80K\",\"$60K - $80K\",\"$40K - $60K\",\"$120K +\",\"$60K - $80K\",\"$40K - $60K\",\"menos que $40K\",\"$80K - $120K\",\"$40K - $60K\",\"$80K - $120K\",\"$120K +\",\"$60K - $80K\",\"$120K +\",\"$80K - $120K\",\"$60K - $80K\",\"$80K - $120K\",\"$40K - $60K\",\"$120K +\",\"$80K - $120K\",\"$40K - $60K\",\"$120K +\",\"$80K - $120K\",\"$80K - $120K\",\"$60K - $80K\",\"$40K - $60K\",\"$60K - $80K\",\"$80K - $120K\",\"$80K - $120K\",\"$60K - $80K\",\"$80K - $120K\",\"$80K - $120K\",\"$60K - $80K\",\"menos que $40K\",\"$60K - $80K\",\"$60K - $80K\",\"$120K +\",\"$40K - $60K\",\"$40K - $60K\",\"$60K - $80K\",\"$60K - $80K\",\"$60K - $80K\",\"$120K +\",\"$40K - $60K\",\"$60K - $80K\",\"$80K - $120K\",\"$40K - $60K\",\"$40K - $60K\",\"$120K +\",\"$60K - $80K\",\"$60K - $80K\",\"$80K - $120K\",\"$60K - $80K\",\"$80K - $120K\",\"$40K - $60K\",\"$60K - $80K\",\"$80K - $120K\",\"$60K - $80K\",\"$60K - $80K\",\"$60K - $80K\",\"$120K +\",\"$120K +\",\"$80K - $120K\",\"$80K - $120K\",\"$80K - $120K\",\"menos que $40K\",\"$120K +\",\"$80K - $120K\",\"$120K +\",\"$80K - $120K\",\"$80K - $120K\",\"$120K +\",\"$60K - $80K\",\"$80K - $120K\",\"$80K - $120K\",\"$80K - $120K\",\"$80K - $120K\",\"$120K +\",\"$60K - $80K\",\"na\",\"$40K - $60K\",\"$80K - $120K\",\"$40K - $60K\",\"$120K +\",\"$80K - $120K\",\"$80K - $120K\",\"$60K - $80K\",\"$60K - $80K\",\"$80K - $120K\",\"$60K - $80K\",\"$120K +\",\"$80K - $120K\",\"$60K - $80K\",\"$80K - $120K\",\"$80K - $120K\",\"$60K - $80K\",\"$120K +\",\"$120K +\",\"$80K - $120K\",\"$40K - $60K\",\"$120K +\",\"$40K - $60K\",\"$60K - $80K\",\"$120K +\",\"$120K +\",\"$60K - $80K\",\"$60K - $80K\",\"$60K - $80K\",\"$120K +\",\"$60K - $80K\",\"$120K +\",\"$120K +\",\"$80K - $120K\",\"$60K - $80K\",\"$40K - $60K\",\"$120K +\",\"$60K - $80K\",\"$120K +\",\"menos que $40K\",\"$80K - $120K\",\"$60K - $80K\",\"$60K - $80K\",\"$60K - $80K\",\"$40K - $60K\",\"$80K - $120K\",\"$40K - $60K\",\"$80K - $120K\",\"$80K - $120K\",\"$40K - $60K\",\"$60K - $80K\",\"$80K - $120K\",\"menos que $40K\",\"$80K - $120K\",\"$60K - $80K\",\"$40K - $60K\",\"menos que $40K\",\"$60K - $80K\",\"$60K - $80K\",\"$120K +\",\"$80K - $120K\",\"$80K - $120K\",\"$80K - $120K\",\"$60K - $80K\",\"$60K - $80K\",\"$40K - $60K\",\"$40K - $60K\",\"na\",\"$60K - $80K\",\"$80K - $120K\",\"$80K - $120K\",\"$60K - $80K\",\"$120K +\",\"$120K +\",\"$80K - $120K\",\"$120K +\",\"$40K - $60K\",\"$80K - $120K\",\"$80K - $120K\",\"$40K - $60K\",\"menos que $40K\",\"menos que $40K\",\"$60K - $80K\",\"$40K - $60K\",\"$120K +\",\"na\",\"$120K +\",\"$80K - $120K\",\"$120K +\",\"$120K +\",\"$80K - $120K\",\"$80K - $120K\",\"$80K - $120K\",\"$40K - $60K\",\"$60K - $80K\",\"$80K - $120K\",\"$60K - $80K\",\"na\",\"$80K - $120K\",\"$80K - $120K\",\"$80K - $120K\",\"$60K - $80K\",\"$60K - $80K\",\"$80K - $120K\",\"$120K +\",\"$40K - $60K\",\"$80K - $120K\",\"$40K - $60K\",\"$80K - $120K\",\"$60K - $80K\",\"$80K - $120K\",\"$40K - $60K\",\"$120K +\",\"$120K +\",\"$80K - $120K\",\"$60K - $80K\",\"$40K - $60K\",\"$80K - $120K\",\"$60K - $80K\",\"$60K - $80K\",\"$40K - $60K\",\"$40K - $60K\",\"$80K - $120K\",\"$80K - $120K\",\"$60K - $80K\",\"$40K - $60K\",\"$80K - $120K\",\"$120K +\",\"$40K - $60K\",\"$40K - $60K\",\"$60K - $80K\",\"$60K - $80K\",\"$80K - $120K\",\"$60K - $80K\",\"$120K +\",\"$60K - $80K\",\"$60K - $80K\",\"$80K - $120K\",\"$60K - $80K\",\"$40K - $60K\",\"$80K - $120K\",\"$40K - $60K\",\"$60K - $80K\",\"$80K - $120K\",\"$60K - $80K\",\"$60K - $80K\",\"$80K - $120K\",\"$80K - $120K\",\"menos que $40K\",\"$80K - $120K\",\"$80K - $120K\",\"$120K +\",\"$80K - $120K\",\"$60K - $80K\",\"$80K - $120K\",\"$40K - $60K\",\"$80K - $120K\",\"$60K - $80K\",\"$120K +\",\"$40K - $60K\",\"$80K - $120K\",\"$60K - $80K\",\"menos que $40K\",\"$60K - $80K\",\"$60K - $80K\",\"$80K - $120K\",\"$40K - $60K\",\"menos que $40K\",\"$40K - $60K\",\"$80K - $120K\",\"menos que $40K\",\"$40K - $60K\",\"$40K - $60K\",\"$60K - $80K\",\"$80K - $120K\",\"$60K - $80K\",\"$80K - $120K\",\"$80K - $120K\",\"$80K - $120K\",\"$80K - $120K\",\"$60K - $80K\",\"$60K - $80K\",\"$80K - $120K\",\"$60K - $80K\",\"$40K - $60K\",\"$120K +\",\"$80K - $120K\",\"$60K - $80K\",\"menos que $40K\",\"$40K - $60K\",\"$80K - $120K\",\"$40K - $60K\",\"$40K - $60K\",\"$60K - $80K\",\"$60K - $80K\",\"menos que $40K\",\"$40K - $60K\",\"$40K - $60K\",\"$60K - $80K\",\"$120K +\",\"$80K - $120K\",\"menos que $40K\",\"$120K +\",\"$80K - $120K\",\"$80K - $120K\",\"$60K - $80K\",\"$40K - $60K\",\"$80K - $120K\",\"$80K - $120K\",\"$120K +\",\"$40K - $60K\",\"$80K - $120K\",\"$120K +\",\"$120K +\",\"$80K - $120K\",\"$120K +\",\"$80K - $120K\",\"$80K - $120K\",\"$80K - $120K\",\"$60K - $80K\",\"$80K - $120K\",\"$120K +\",\"$40K - $60K\",\"$80K - $120K\",\"$120K +\",\"menos que $40K\",\"$80K - $120K\",\"$80K - $120K\",\"$60K - $80K\",\"menos que $40K\",\"$80K - $120K\",\"$60K - $80K\",\"$60K - $80K\",\"$40K - $60K\",\"$120K +\",\"$80K - $120K\",\"$40K - $60K\",\"$120K +\",\"$60K - $80K\",\"$80K - $120K\",\"$60K - $80K\",\"$80K - $120K\",\"$120K +\",\"$60K - $80K\",\"$60K - $80K\",\"$120K +\",\"$60K - $80K\",\"$120K +\",\"$60K - $80K\",\"$40K - $60K\",\"$80K - $120K\",\"$40K - $60K\",\"menos que $40K\",\"$60K - $80K\",\"$80K - $120K\",\"$40K - $60K\",\"$40K - $60K\",\"$40K - $60K\",\"$60K - $80K\",\"$80K - $120K\",\"$60K - $80K\",\"menos que $40K\",\"$80K - $120K\",\"$40K - $60K\",\"$40K - $60K\"],\"xaxis\":\"x\",\"yaxis\":\"y\",\"type\":\"histogram\"},{\"alignmentgroup\":\"True\",\"bingroup\":\"x\",\"hovertemplate\":\"tipo_cartao=silver\\u003cbr\\u003esalario_anual=%{x}\\u003cbr\\u003ecount=%{y}\\u003cextra\\u003e\\u003c\\u002fextra\\u003e\",\"legendgroup\":\"silver\",\"marker\":{\"color\":\"#EF553B\",\"pattern\":{\"shape\":\"\"}},\"name\":\"silver\",\"offsetgroup\":\"silver\",\"orientation\":\"v\",\"showlegend\":true,\"texttemplate\":\"%{value}\",\"x\":[\"$60K - $80K\",\"$60K - $80K\",\"$60K - $80K\",\"$80K - $120K\",\"$80K - $120K\",\"$120K +\",\"$60K - $80K\",\"$60K - $80K\",\"$40K - $60K\",\"$80K - $120K\",\"$80K - $120K\",\"$40K - $60K\",\"$80K - $120K\",\"$40K - $60K\",\"$60K - $80K\",\"$80K - $120K\",\"$80K - $120K\",\"$80K - $120K\",\"$40K - $60K\",\"$40K - $60K\",\"$80K - $120K\",\"$60K - $80K\",\"$80K - $120K\",\"$120K +\",\"$80K - $120K\",\"$40K - $60K\",\"$120K +\",\"$60K - $80K\",\"$80K - $120K\",\"$80K - $120K\",\"$60K - $80K\",\"$120K +\",\"$60K - $80K\",\"$80K - $120K\",\"$40K - $60K\",\"$40K - $60K\",\"$40K - $60K\",\"$120K +\",\"$60K - $80K\",\"$60K - $80K\",\"$80K - $120K\",\"$40K - $60K\",\"$80K - $120K\",\"$120K +\",\"$60K - $80K\",\"$40K - $60K\",\"$60K - $80K\",\"$60K - $80K\",\"$60K - $80K\",\"$40K - $60K\",\"$80K - $120K\",\"$60K - $80K\",\"$80K - $120K\",\"$120K +\",\"$40K - $60K\",\"$60K - $80K\",\"$120K +\",\"$40K - $60K\",\"$80K - $120K\",\"menos que $40K\",\"$80K - $120K\",\"$120K +\",\"$60K - $80K\",\"$80K - $120K\",\"$60K - $80K\",\"$80K - $120K\",\"$60K - $80K\",\"$60K - $80K\",\"$40K - $60K\",\"$60K - $80K\",\"$120K +\",\"$60K - $80K\",\"$80K - $120K\",\"$120K +\",\"$120K +\",\"$80K - $120K\",\"$60K - $80K\",\"menos que $40K\",\"$80K - $120K\",\"$120K +\",\"$80K - $120K\",\"$80K - $120K\",\"$80K - $120K\",\"$60K - $80K\",\"$60K - $80K\",\"$120K +\",\"$80K - $120K\",\"$60K - $80K\",\"$80K - $120K\",\"menos que $40K\",\"$80K - $120K\",\"$80K - $120K\",\"$80K - $120K\",\"menos que $40K\",\"$80K - $120K\",\"$60K - $80K\",\"$80K - $120K\",\"$60K - $80K\",\"$60K - $80K\",\"menos que $40K\",\"$80K - $120K\",\"$80K - $120K\",\"$80K - $120K\",\"$120K +\",\"$40K - $60K\",\"$60K - $80K\",\"$60K - $80K\",\"$120K +\",\"menos que $40K\",\"menos que $40K\",\"$60K - $80K\",\"$60K - $80K\",\"$120K +\",\"$60K - $80K\",\"$60K - $80K\",\"$80K - $120K\"],\"xaxis\":\"x\",\"yaxis\":\"y\",\"type\":\"histogram\"},{\"alignmentgroup\":\"True\",\"bingroup\":\"x\",\"hovertemplate\":\"tipo_cartao=platinum\\u003cbr\\u003esalario_anual=%{x}\\u003cbr\\u003ecount=%{y}\\u003cextra\\u003e\\u003c\\u002fextra\\u003e\",\"legendgroup\":\"platinum\",\"marker\":{\"color\":\"#00cc96\",\"pattern\":{\"shape\":\"\"}},\"name\":\"platinum\",\"offsetgroup\":\"platinum\",\"orientation\":\"v\",\"showlegend\":true,\"texttemplate\":\"%{value}\",\"x\":[\"$80K - $120K\",\"$120K +\",\"$60K - $80K\",\"$60K - $80K\"],\"xaxis\":\"x\",\"yaxis\":\"y\",\"type\":\"histogram\"},{\"alignmentgroup\":\"True\",\"bingroup\":\"x\",\"hovertemplate\":\"tipo_cartao=gold\\u003cbr\\u003esalario_anual=%{x}\\u003cbr\\u003ecount=%{y}\\u003cextra\\u003e\\u003c\\u002fextra\\u003e\",\"legendgroup\":\"gold\",\"marker\":{\"color\":\"#ab63fa\",\"pattern\":{\"shape\":\"\"}},\"name\":\"gold\",\"offsetgroup\":\"gold\",\"orientation\":\"v\",\"showlegend\":true,\"texttemplate\":\"%{value}\",\"x\":[\"$60K - $80K\",\"$60K - $80K\",\"$80K - $120K\",\"$120K +\",\"$80K - $120K\",\"$60K - $80K\",\"$80K - $120K\",\"$60K - $80K\",\"$60K - $80K\",\"$80K - $120K\",\"$40K - $60K\",\"$120K +\",\"$120K +\",\"$120K +\",\"$60K - $80K\",\"$60K - $80K\",\"$80K - $120K\",\"$120K +\",\"menos que $40K\",\"$40K - $60K\",\"$80K - $120K\",\"$40K - $60K\",\"$60K - $80K\",\"menos que $40K\"],\"xaxis\":\"x\",\"yaxis\":\"y\",\"type\":\"histogram\"}],                        {\"template\":{\"data\":{\"histogram2dcontour\":[{\"type\":\"histogram2dcontour\",\"colorbar\":{\"outlinewidth\":0,\"ticks\":\"\"},\"colorscale\":[[0.0,\"#0d0887\"],[0.1111111111111111,\"#46039f\"],[0.2222222222222222,\"#7201a8\"],[0.3333333333333333,\"#9c179e\"],[0.4444444444444444,\"#bd3786\"],[0.5555555555555556,\"#d8576b\"],[0.6666666666666666,\"#ed7953\"],[0.7777777777777778,\"#fb9f3a\"],[0.8888888888888888,\"#fdca26\"],[1.0,\"#f0f921\"]]}],\"choropleth\":[{\"type\":\"choropleth\",\"colorbar\":{\"outlinewidth\":0,\"ticks\":\"\"}}],\"histogram2d\":[{\"type\":\"histogram2d\",\"colorbar\":{\"outlinewidth\":0,\"ticks\":\"\"},\"colorscale\":[[0.0,\"#0d0887\"],[0.1111111111111111,\"#46039f\"],[0.2222222222222222,\"#7201a8\"],[0.3333333333333333,\"#9c179e\"],[0.4444444444444444,\"#bd3786\"],[0.5555555555555556,\"#d8576b\"],[0.6666666666666666,\"#ed7953\"],[0.7777777777777778,\"#fb9f3a\"],[0.8888888888888888,\"#fdca26\"],[1.0,\"#f0f921\"]]}],\"heatmap\":[{\"type\":\"heatmap\",\"colorbar\":{\"outlinewidth\":0,\"ticks\":\"\"},\"colorscale\":[[0.0,\"#0d0887\"],[0.1111111111111111,\"#46039f\"],[0.2222222222222222,\"#7201a8\"],[0.3333333333333333,\"#9c179e\"],[0.4444444444444444,\"#bd3786\"],[0.5555555555555556,\"#d8576b\"],[0.6666666666666666,\"#ed7953\"],[0.7777777777777778,\"#fb9f3a\"],[0.8888888888888888,\"#fdca26\"],[1.0,\"#f0f921\"]]}],\"heatmapgl\":[{\"type\":\"heatmapgl\",\"colorbar\":{\"outlinewidth\":0,\"ticks\":\"\"},\"colorscale\":[[0.0,\"#0d0887\"],[0.1111111111111111,\"#46039f\"],[0.2222222222222222,\"#7201a8\"],[0.3333333333333333,\"#9c179e\"],[0.4444444444444444,\"#bd3786\"],[0.5555555555555556,\"#d8576b\"],[0.6666666666666666,\"#ed7953\"],[0.7777777777777778,\"#fb9f3a\"],[0.8888888888888888,\"#fdca26\"],[1.0,\"#f0f921\"]]}],\"contourcarpet\":[{\"type\":\"contourcarpet\",\"colorbar\":{\"outlinewidth\":0,\"ticks\":\"\"}}],\"contour\":[{\"type\":\"contour\",\"colorbar\":{\"outlinewidth\":0,\"ticks\":\"\"},\"colorscale\":[[0.0,\"#0d0887\"],[0.1111111111111111,\"#46039f\"],[0.2222222222222222,\"#7201a8\"],[0.3333333333333333,\"#9c179e\"],[0.4444444444444444,\"#bd3786\"],[0.5555555555555556,\"#d8576b\"],[0.6666666666666666,\"#ed7953\"],[0.7777777777777778,\"#fb9f3a\"],[0.8888888888888888,\"#fdca26\"],[1.0,\"#f0f921\"]]}],\"surface\":[{\"type\":\"surface\",\"colorbar\":{\"outlinewidth\":0,\"ticks\":\"\"},\"colorscale\":[[0.0,\"#0d0887\"],[0.1111111111111111,\"#46039f\"],[0.2222222222222222,\"#7201a8\"],[0.3333333333333333,\"#9c179e\"],[0.4444444444444444,\"#bd3786\"],[0.5555555555555556,\"#d8576b\"],[0.6666666666666666,\"#ed7953\"],[0.7777777777777778,\"#fb9f3a\"],[0.8888888888888888,\"#fdca26\"],[1.0,\"#f0f921\"]]}],\"mesh3d\":[{\"type\":\"mesh3d\",\"colorbar\":{\"outlinewidth\":0,\"ticks\":\"\"}}],\"scatter\":[{\"fillpattern\":{\"fillmode\":\"overlay\",\"size\":10,\"solidity\":0.2},\"type\":\"scatter\"}],\"parcoords\":[{\"type\":\"parcoords\",\"line\":{\"colorbar\":{\"outlinewidth\":0,\"ticks\":\"\"}}}],\"scatterpolargl\":[{\"type\":\"scatterpolargl\",\"marker\":{\"colorbar\":{\"outlinewidth\":0,\"ticks\":\"\"}}}],\"bar\":[{\"error_x\":{\"color\":\"#2a3f5f\"},\"error_y\":{\"color\":\"#2a3f5f\"},\"marker\":{\"line\":{\"color\":\"#E5ECF6\",\"width\":0.5},\"pattern\":{\"fillmode\":\"overlay\",\"size\":10,\"solidity\":0.2}},\"type\":\"bar\"}],\"scattergeo\":[{\"type\":\"scattergeo\",\"marker\":{\"colorbar\":{\"outlinewidth\":0,\"ticks\":\"\"}}}],\"scatterpolar\":[{\"type\":\"scatterpolar\",\"marker\":{\"colorbar\":{\"outlinewidth\":0,\"ticks\":\"\"}}}],\"histogram\":[{\"marker\":{\"pattern\":{\"fillmode\":\"overlay\",\"size\":10,\"solidity\":0.2}},\"type\":\"histogram\"}],\"scattergl\":[{\"type\":\"scattergl\",\"marker\":{\"colorbar\":{\"outlinewidth\":0,\"ticks\":\"\"}}}],\"scatter3d\":[{\"type\":\"scatter3d\",\"line\":{\"colorbar\":{\"outlinewidth\":0,\"ticks\":\"\"}},\"marker\":{\"colorbar\":{\"outlinewidth\":0,\"ticks\":\"\"}}}],\"scattermapbox\":[{\"type\":\"scattermapbox\",\"marker\":{\"colorbar\":{\"outlinewidth\":0,\"ticks\":\"\"}}}],\"scatterternary\":[{\"type\":\"scatterternary\",\"marker\":{\"colorbar\":{\"outlinewidth\":0,\"ticks\":\"\"}}}],\"scattercarpet\":[{\"type\":\"scattercarpet\",\"marker\":{\"colorbar\":{\"outlinewidth\":0,\"ticks\":\"\"}}}],\"carpet\":[{\"aaxis\":{\"endlinecolor\":\"#2a3f5f\",\"gridcolor\":\"white\",\"linecolor\":\"white\",\"minorgridcolor\":\"white\",\"startlinecolor\":\"#2a3f5f\"},\"baxis\":{\"endlinecolor\":\"#2a3f5f\",\"gridcolor\":\"white\",\"linecolor\":\"white\",\"minorgridcolor\":\"white\",\"startlinecolor\":\"#2a3f5f\"},\"type\":\"carpet\"}],\"table\":[{\"cells\":{\"fill\":{\"color\":\"#EBF0F8\"},\"line\":{\"color\":\"white\"}},\"header\":{\"fill\":{\"color\":\"#C8D4E3\"},\"line\":{\"color\":\"white\"}},\"type\":\"table\"}],\"barpolar\":[{\"marker\":{\"line\":{\"color\":\"#E5ECF6\",\"width\":0.5},\"pattern\":{\"fillmode\":\"overlay\",\"size\":10,\"solidity\":0.2}},\"type\":\"barpolar\"}],\"pie\":[{\"automargin\":true,\"type\":\"pie\"}]},\"layout\":{\"autotypenumbers\":\"strict\",\"colorway\":[\"#636efa\",\"#EF553B\",\"#00cc96\",\"#ab63fa\",\"#FFA15A\",\"#19d3f3\",\"#FF6692\",\"#B6E880\",\"#FF97FF\",\"#FECB52\"],\"font\":{\"color\":\"#2a3f5f\"},\"hovermode\":\"closest\",\"hoverlabel\":{\"align\":\"left\"},\"paper_bgcolor\":\"white\",\"plot_bgcolor\":\"#E5ECF6\",\"polar\":{\"bgcolor\":\"#E5ECF6\",\"angularaxis\":{\"gridcolor\":\"white\",\"linecolor\":\"white\",\"ticks\":\"\"},\"radialaxis\":{\"gridcolor\":\"white\",\"linecolor\":\"white\",\"ticks\":\"\"}},\"ternary\":{\"bgcolor\":\"#E5ECF6\",\"aaxis\":{\"gridcolor\":\"white\",\"linecolor\":\"white\",\"ticks\":\"\"},\"baxis\":{\"gridcolor\":\"white\",\"linecolor\":\"white\",\"ticks\":\"\"},\"caxis\":{\"gridcolor\":\"white\",\"linecolor\":\"white\",\"ticks\":\"\"}},\"coloraxis\":{\"colorbar\":{\"outlinewidth\":0,\"ticks\":\"\"}},\"colorscale\":{\"sequential\":[[0.0,\"#0d0887\"],[0.1111111111111111,\"#46039f\"],[0.2222222222222222,\"#7201a8\"],[0.3333333333333333,\"#9c179e\"],[0.4444444444444444,\"#bd3786\"],[0.5555555555555556,\"#d8576b\"],[0.6666666666666666,\"#ed7953\"],[0.7777777777777778,\"#fb9f3a\"],[0.8888888888888888,\"#fdca26\"],[1.0,\"#f0f921\"]],\"sequentialminus\":[[0.0,\"#0d0887\"],[0.1111111111111111,\"#46039f\"],[0.2222222222222222,\"#7201a8\"],[0.3333333333333333,\"#9c179e\"],[0.4444444444444444,\"#bd3786\"],[0.5555555555555556,\"#d8576b\"],[0.6666666666666666,\"#ed7953\"],[0.7777777777777778,\"#fb9f3a\"],[0.8888888888888888,\"#fdca26\"],[1.0,\"#f0f921\"]],\"diverging\":[[0,\"#8e0152\"],[0.1,\"#c51b7d\"],[0.2,\"#de77ae\"],[0.3,\"#f1b6da\"],[0.4,\"#fde0ef\"],[0.5,\"#f7f7f7\"],[0.6,\"#e6f5d0\"],[0.7,\"#b8e186\"],[0.8,\"#7fbc41\"],[0.9,\"#4d9221\"],[1,\"#276419\"]]},\"xaxis\":{\"gridcolor\":\"white\",\"linecolor\":\"white\",\"ticks\":\"\",\"title\":{\"standoff\":15},\"zerolinecolor\":\"white\",\"automargin\":true,\"zerolinewidth\":2},\"yaxis\":{\"gridcolor\":\"white\",\"linecolor\":\"white\",\"ticks\":\"\",\"title\":{\"standoff\":15},\"zerolinecolor\":\"white\",\"automargin\":true,\"zerolinewidth\":2},\"scene\":{\"xaxis\":{\"backgroundcolor\":\"#E5ECF6\",\"gridcolor\":\"white\",\"linecolor\":\"white\",\"showbackground\":true,\"ticks\":\"\",\"zerolinecolor\":\"white\",\"gridwidth\":2},\"yaxis\":{\"backgroundcolor\":\"#E5ECF6\",\"gridcolor\":\"white\",\"linecolor\":\"white\",\"showbackground\":true,\"ticks\":\"\",\"zerolinecolor\":\"white\",\"gridwidth\":2},\"zaxis\":{\"backgroundcolor\":\"#E5ECF6\",\"gridcolor\":\"white\",\"linecolor\":\"white\",\"showbackground\":true,\"ticks\":\"\",\"zerolinecolor\":\"white\",\"gridwidth\":2}},\"shapedefaults\":{\"line\":{\"color\":\"#2a3f5f\"}},\"annotationdefaults\":{\"arrowcolor\":\"#2a3f5f\",\"arrowhead\":0,\"arrowwidth\":1},\"geo\":{\"bgcolor\":\"white\",\"landcolor\":\"#E5ECF6\",\"subunitcolor\":\"white\",\"showland\":true,\"showlakes\":true,\"lakecolor\":\"white\"},\"title\":{\"x\":0.05},\"mapbox\":{\"style\":\"light\"}}},\"xaxis\":{\"anchor\":\"y\",\"domain\":[0.0,1.0],\"title\":{\"text\":\"salario_anual\"}},\"yaxis\":{\"anchor\":\"x\",\"domain\":[0.0,1.0],\"title\":{\"text\":\"count\"}},\"legend\":{\"title\":{\"text\":\"tipo_cartao\"},\"tracegroupgap\":0},\"margin\":{\"t\":60},\"barmode\":\"relative\"},                        {\"responsive\": true}                    ).then(function(){\n",
              "                            \n",
              "var gd = document.getElementById('15875e3d-6b46-4f57-b5a7-907889b5bd1d');\n",
              "var x = new MutationObserver(function (mutations, observer) {{\n",
              "        var display = window.getComputedStyle(gd).display;\n",
              "        if (!display || display === 'none') {{\n",
              "            console.log([gd, 'removed!']);\n",
              "            Plotly.purge(gd);\n",
              "            observer.disconnect();\n",
              "        }}\n",
              "}});\n",
              "\n",
              "// Listen for the removal of the full notebook cells\n",
              "var notebookContainer = gd.closest('#notebook-container');\n",
              "if (notebookContainer) {{\n",
              "    x.observe(notebookContainer, {childList: true});\n",
              "}}\n",
              "\n",
              "// Listen for the clearing of the current output cell\n",
              "var outputEl = gd.closest('.output');\n",
              "if (outputEl) {{\n",
              "    x.observe(outputEl, {childList: true});\n",
              "}}\n",
              "\n",
              "                        })                };                            </script>        </div>\n",
              "</body>\n",
              "</html>"
            ]
          },
          "metadata": {}
        }
      ]
    },
    {
      "cell_type": "markdown",
      "source": [
        "A grande parte dos 30% do publico masculino com mestrado (maioria representativa) tem uma renda de até 80K, porém não há relativização da renda com tipo de cartão"
      ],
      "metadata": {
        "id": "eVimhKpOB7H1"
      }
    },
    {
      "cell_type": "code",
      "source": [
        "#Análise renda Feminino com mestrado\n",
        "px.histogram(feminino_maior, x='salario_anual',color='tipo_cartao', text_auto=True)"
      ],
      "metadata": {
        "colab": {
          "base_uri": "https://localhost:8080/",
          "height": 542
        },
        "id": "jiEQLHoDADR2",
        "outputId": "0f3a21a4-5ffd-4cc6-9dad-b2acbb19b1cf"
      },
      "execution_count": 24,
      "outputs": [
        {
          "output_type": "display_data",
          "data": {
            "text/html": [
              "<html>\n",
              "<head><meta charset=\"utf-8\" /></head>\n",
              "<body>\n",
              "    <div>            <script src=\"https://cdnjs.cloudflare.com/ajax/libs/mathjax/2.7.5/MathJax.js?config=TeX-AMS-MML_SVG\"></script><script type=\"text/javascript\">if (window.MathJax && window.MathJax.Hub && window.MathJax.Hub.Config) {window.MathJax.Hub.Config({SVG: {font: \"STIX-Web\"}});}</script>                <script type=\"text/javascript\">window.PlotlyConfig = {MathJaxConfig: 'local'};</script>\n",
              "        <script charset=\"utf-8\" src=\"https://cdn.plot.ly/plotly-2.24.1.min.js\"></script>                <div id=\"950eaac3-ff12-487e-9457-f06cb8e59ac7\" class=\"plotly-graph-div\" style=\"height:525px; width:100%;\"></div>            <script type=\"text/javascript\">                                    window.PLOTLYENV=window.PLOTLYENV || {};                                    if (document.getElementById(\"950eaac3-ff12-487e-9457-f06cb8e59ac7\")) {                    Plotly.newPlot(                        \"950eaac3-ff12-487e-9457-f06cb8e59ac7\",                        [{\"alignmentgroup\":\"True\",\"bingroup\":\"x\",\"hovertemplate\":\"tipo_cartao=blue\\u003cbr\\u003esalario_anual=%{x}\\u003cbr\\u003ecount=%{y}\\u003cextra\\u003e\\u003c\\u002fextra\\u003e\",\"legendgroup\":\"blue\",\"marker\":{\"color\":\"#636efa\",\"pattern\":{\"shape\":\"\"}},\"name\":\"blue\",\"offsetgroup\":\"blue\",\"orientation\":\"v\",\"showlegend\":true,\"texttemplate\":\"%{value}\",\"x\":[\"menos que $40K\",\"menos que $40K\",\"na\",\"menos que $40K\",\"menos que $40K\",\"menos que $40K\",\"$40K - $60K\",\"na\",\"menos que $40K\",\"menos que $40K\",\"menos que $40K\",\"na\",\"menos que $40K\",\"menos que $40K\",\"na\",\"menos que $40K\",\"menos que $40K\",\"$40K - $60K\",\"menos que $40K\",\"menos que $40K\",\"na\",\"menos que $40K\",\"$40K - $60K\",\"menos que $40K\",\"menos que $40K\",\"menos que $40K\",\"menos que $40K\",\"$40K - $60K\",\"menos que $40K\",\"menos que $40K\",\"menos que $40K\",\"na\",\"menos que $40K\",\"na\",\"menos que $40K\",\"na\",\"$40K - $60K\",\"menos que $40K\",\"menos que $40K\",\"menos que $40K\",\"menos que $40K\",\"$40K - $60K\",\"na\",\"$40K - $60K\",\"menos que $40K\",\"$40K - $60K\",\"menos que $40K\",\"menos que $40K\",\"menos que $40K\",\"menos que $40K\",\"menos que $40K\",\"menos que $40K\",\"menos que $40K\",\"menos que $40K\",\"$40K - $60K\",\"menos que $40K\",\"menos que $40K\",\"$40K - $60K\",\"menos que $40K\",\"$40K - $60K\",\"$40K - $60K\",\"na\",\"$40K - $60K\",\"menos que $40K\",\"menos que $40K\",\"menos que $40K\",\"$40K - $60K\",\"menos que $40K\",\"menos que $40K\",\"menos que $40K\",\"menos que $40K\",\"menos que $40K\",\"na\",\"$40K - $60K\",\"menos que $40K\",\"na\",\"menos que $40K\",\"menos que $40K\",\"$40K - $60K\",\"menos que $40K\",\"$40K - $60K\",\"menos que $40K\",\"menos que $40K\",\"menos que $40K\",\"menos que $40K\",\"na\",\"$40K - $60K\",\"$40K - $60K\",\"menos que $40K\",\"menos que $40K\",\"menos que $40K\",\"na\",\"$40K - $60K\",\"menos que $40K\",\"$40K - $60K\",\"na\",\"na\",\"na\",\"menos que $40K\",\"menos que $40K\",\"menos que $40K\",\"menos que $40K\",\"na\",\"$40K - $60K\",\"na\",\"na\",\"$40K - $60K\",\"na\",\"menos que $40K\",\"menos que $40K\",\"menos que $40K\",\"menos que $40K\",\"menos que $40K\",\"menos que $40K\",\"menos que $40K\",\"menos que $40K\",\"$40K - $60K\",\"menos que $40K\",\"menos que $40K\",\"na\",\"na\",\"menos que $40K\",\"na\",\"menos que $40K\",\"menos que $40K\",\"menos que $40K\",\"na\",\"menos que $40K\",\"menos que $40K\",\"menos que $40K\",\"na\",\"menos que $40K\",\"menos que $40K\",\"menos que $40K\",\"menos que $40K\",\"menos que $40K\",\"menos que $40K\",\"menos que $40K\",\"menos que $40K\",\"$40K - $60K\",\"menos que $40K\",\"menos que $40K\",\"menos que $40K\",\"na\",\"menos que $40K\",\"na\",\"na\",\"menos que $40K\",\"na\",\"menos que $40K\",\"menos que $40K\",\"menos que $40K\",\"menos que $40K\",\"menos que $40K\",\"$40K - $60K\",\"na\",\"menos que $40K\",\"$40K - $60K\",\"menos que $40K\",\"na\",\"na\",\"menos que $40K\",\"na\",\"menos que $40K\",\"na\",\"menos que $40K\",\"menos que $40K\",\"na\",\"$40K - $60K\",\"menos que $40K\",\"$40K - $60K\",\"$40K - $60K\",\"na\",\"menos que $40K\",\"na\",\"menos que $40K\",\"$40K - $60K\",\"menos que $40K\",\"na\",\"menos que $40K\",\"menos que $40K\",\"menos que $40K\",\"$40K - $60K\",\"menos que $40K\",\"menos que $40K\",\"menos que $40K\",\"$40K - $60K\",\"na\",\"na\",\"menos que $40K\",\"menos que $40K\",\"na\",\"na\",\"menos que $40K\",\"$40K - $60K\",\"menos que $40K\",\"menos que $40K\",\"menos que $40K\",\"menos que $40K\",\"menos que $40K\",\"menos que $40K\",\"menos que $40K\",\"menos que $40K\",\"$40K - $60K\",\"menos que $40K\",\"menos que $40K\",\"menos que $40K\",\"na\",\"menos que $40K\",\"na\",\"menos que $40K\",\"$40K - $60K\",\"$40K - $60K\",\"menos que $40K\",\"$40K - $60K\",\"menos que $40K\",\"na\",\"menos que $40K\",\"menos que $40K\",\"menos que $40K\",\"$40K - $60K\",\"$40K - $60K\",\"menos que $40K\",\"na\",\"menos que $40K\",\"menos que $40K\",\"menos que $40K\",\"menos que $40K\",\"menos que $40K\",\"menos que $40K\",\"menos que $40K\",\"menos que $40K\",\"na\",\"menos que $40K\",\"menos que $40K\",\"menos que $40K\",\"$40K - $60K\",\"$40K - $60K\",\"menos que $40K\",\"menos que $40K\",\"na\",\"na\",\"menos que $40K\",\"menos que $40K\",\"menos que $40K\",\"menos que $40K\",\"menos que $40K\",\"menos que $40K\",\"$40K - $60K\",\"menos que $40K\",\"$40K - $60K\",\"menos que $40K\",\"na\",\"menos que $40K\",\"menos que $40K\",\"na\",\"menos que $40K\",\"menos que $40K\",\"menos que $40K\",\"menos que $40K\",\"menos que $40K\",\"$40K - $60K\",\"$40K - $60K\",\"menos que $40K\",\"menos que $40K\",\"na\",\"$40K - $60K\",\"na\",\"menos que $40K\",\"menos que $40K\",\"$40K - $60K\",\"na\",\"menos que $40K\",\"$40K - $60K\",\"menos que $40K\",\"menos que $40K\",\"menos que $40K\",\"menos que $40K\",\"menos que $40K\",\"na\",\"menos que $40K\",\"menos que $40K\",\"menos que $40K\",\"menos que $40K\",\"menos que $40K\",\"menos que $40K\",\"menos que $40K\",\"$40K - $60K\",\"$40K - $60K\",\"$40K - $60K\",\"menos que $40K\",\"na\",\"menos que $40K\",\"menos que $40K\",\"menos que $40K\",\"menos que $40K\",\"menos que $40K\",\"menos que $40K\",\"menos que $40K\",\"na\",\"$40K - $60K\",\"na\",\"menos que $40K\",\"menos que $40K\",\"$40K - $60K\",\"menos que $40K\",\"menos que $40K\",\"menos que $40K\",\"$40K - $60K\",\"menos que $40K\",\"na\",\"menos que $40K\",\"na\",\"menos que $40K\",\"na\",\"$40K - $60K\",\"menos que $40K\",\"menos que $40K\",\"menos que $40K\",\"menos que $40K\",\"menos que $40K\",\"menos que $40K\",\"menos que $40K\",\"menos que $40K\",\"$40K - $60K\",\"menos que $40K\",\"menos que $40K\",\"menos que $40K\",\"menos que $40K\",\"menos que $40K\",\"menos que $40K\",\"$40K - $60K\",\"menos que $40K\",\"$40K - $60K\",\"$40K - $60K\",\"menos que $40K\",\"na\",\"menos que $40K\",\"na\",\"$40K - $60K\",\"menos que $40K\",\"menos que $40K\",\"menos que $40K\",\"menos que $40K\",\"$40K - $60K\",\"$40K - $60K\",\"menos que $40K\",\"menos que $40K\",\"$40K - $60K\",\"menos que $40K\",\"menos que $40K\",\"menos que $40K\",\"$40K - $60K\",\"menos que $40K\",\"menos que $40K\",\"menos que $40K\",\"menos que $40K\",\"$40K - $60K\",\"menos que $40K\",\"menos que $40K\",\"$40K - $60K\",\"menos que $40K\",\"na\",\"menos que $40K\",\"menos que $40K\",\"menos que $40K\",\"menos que $40K\",\"$40K - $60K\",\"na\",\"menos que $40K\",\"menos que $40K\",\"menos que $40K\",\"menos que $40K\",\"na\",\"menos que $40K\",\"menos que $40K\",\"na\",\"menos que $40K\",\"menos que $40K\",\"$40K - $60K\",\"na\",\"menos que $40K\",\"menos que $40K\",\"$40K - $60K\",\"menos que $40K\",\"na\",\"na\",\"menos que $40K\",\"menos que $40K\",\"menos que $40K\",\"$40K - $60K\",\"na\",\"$40K - $60K\",\"$40K - $60K\",\"menos que $40K\",\"menos que $40K\",\"na\",\"menos que $40K\",\"$40K - $60K\",\"na\",\"menos que $40K\",\"menos que $40K\",\"menos que $40K\",\"$40K - $60K\",\"menos que $40K\",\"menos que $40K\",\"menos que $40K\",\"na\",\"na\",\"menos que $40K\",\"menos que $40K\",\"menos que $40K\",\"menos que $40K\",\"menos que $40K\",\"menos que $40K\",\"$40K - $60K\",\"menos que $40K\",\"menos que $40K\",\"menos que $40K\",\"menos que $40K\",\"na\",\"na\",\"$40K - $60K\",\"menos que $40K\",\"menos que $40K\",\"menos que $40K\",\"menos que $40K\",\"$40K - $60K\",\"$40K - $60K\",\"menos que $40K\",\"menos que $40K\",\"menos que $40K\",\"menos que $40K\",\"menos que $40K\",\"$40K - $60K\",\"menos que $40K\",\"$40K - $60K\",\"menos que $40K\",\"na\",\"menos que $40K\",\"na\",\"menos que $40K\",\"na\",\"menos que $40K\",\"menos que $40K\",\"menos que $40K\",\"na\",\"menos que $40K\",\"na\",\"na\",\"menos que $40K\",\"menos que $40K\",\"na\",\"menos que $40K\",\"menos que $40K\",\"menos que $40K\",\"menos que $40K\",\"menos que $40K\",\"na\",\"menos que $40K\",\"menos que $40K\",\"na\",\"menos que $40K\",\"na\",\"na\",\"menos que $40K\",\"na\",\"$40K - $60K\",\"menos que $40K\",\"$40K - $60K\",\"$40K - $60K\",\"menos que $40K\",\"menos que $40K\",\"na\",\"na\",\"menos que $40K\",\"$40K - $60K\",\"na\",\"menos que $40K\",\"menos que $40K\",\"$40K - $60K\",\"$40K - $60K\",\"menos que $40K\",\"menos que $40K\",\"menos que $40K\",\"na\",\"na\",\"menos que $40K\",\"menos que $40K\",\"menos que $40K\",\"menos que $40K\",\"menos que $40K\",\"na\",\"menos que $40K\",\"menos que $40K\",\"$40K - $60K\",\"$40K - $60K\",\"menos que $40K\",\"menos que $40K\",\"$40K - $60K\",\"menos que $40K\",\"na\",\"menos que $40K\",\"menos que $40K\",\"$40K - $60K\",\"na\",\"na\",\"$40K - $60K\",\"$40K - $60K\",\"na\",\"$40K - $60K\",\"$40K - $60K\",\"menos que $40K\",\"menos que $40K\",\"menos que $40K\",\"$40K - $60K\",\"menos que $40K\",\"na\",\"menos que $40K\",\"menos que $40K\",\"menos que $40K\",\"menos que $40K\",\"$40K - $60K\",\"menos que $40K\",\"menos que $40K\",\"menos que $40K\",\"menos que $40K\",\"menos que $40K\",\"menos que $40K\",\"menos que $40K\",\"na\",\"menos que $40K\",\"menos que $40K\",\"na\",\"menos que $40K\",\"na\",\"menos que $40K\",\"menos que $40K\",\"na\",\"na\",\"$40K - $60K\",\"menos que $40K\",\"na\",\"na\",\"na\",\"$40K - $60K\",\"menos que $40K\",\"na\",\"menos que $40K\",\"menos que $40K\",\"$40K - $60K\",\"menos que $40K\",\"menos que $40K\",\"menos que $40K\",\"na\",\"menos que $40K\",\"menos que $40K\",\"menos que $40K\",\"menos que $40K\",\"$40K - $60K\",\"menos que $40K\",\"menos que $40K\",\"$40K - $60K\",\"menos que $40K\",\"menos que $40K\",\"$40K - $60K\",\"$40K - $60K\",\"menos que $40K\",\"menos que $40K\",\"menos que $40K\",\"menos que $40K\",\"menos que $40K\",\"menos que $40K\",\"na\",\"menos que $40K\",\"na\",\"na\",\"menos que $40K\",\"menos que $40K\",\"menos que $40K\",\"na\",\"menos que $40K\",\"menos que $40K\",\"menos que $40K\",\"menos que $40K\",\"menos que $40K\",\"menos que $40K\",\"menos que $40K\",\"menos que $40K\",\"menos que $40K\",\"menos que $40K\",\"$40K - $60K\",\"menos que $40K\",\"menos que $40K\",\"na\",\"$40K - $60K\",\"menos que $40K\",\"menos que $40K\",\"na\",\"menos que $40K\",\"$40K - $60K\",\"na\",\"menos que $40K\",\"menos que $40K\",\"menos que $40K\",\"menos que $40K\",\"menos que $40K\",\"menos que $40K\",\"menos que $40K\",\"menos que $40K\",\"menos que $40K\",\"menos que $40K\",\"menos que $40K\",\"menos que $40K\",\"menos que $40K\",\"$40K - $60K\",\"menos que $40K\",\"menos que $40K\",\"$40K - $60K\",\"menos que $40K\",\"menos que $40K\",\"menos que $40K\",\"$40K - $60K\",\"menos que $40K\",\"$40K - $60K\",\"menos que $40K\",\"menos que $40K\",\"menos que $40K\",\"menos que $40K\",\"menos que $40K\",\"$40K - $60K\",\"$40K - $60K\",\"menos que $40K\",\"menos que $40K\",\"na\",\"menos que $40K\",\"menos que $40K\",\"na\",\"na\",\"menos que $40K\",\"menos que $40K\",\"menos que $40K\",\"na\",\"$40K - $60K\",\"menos que $40K\",\"menos que $40K\",\"menos que $40K\",\"$40K - $60K\",\"na\",\"$40K - $60K\",\"menos que $40K\",\"menos que $40K\",\"menos que $40K\",\"menos que $40K\",\"$40K - $60K\",\"menos que $40K\",\"menos que $40K\",\"menos que $40K\",\"na\",\"menos que $40K\",\"menos que $40K\",\"na\",\"menos que $40K\",\"$40K - $60K\",\"na\",\"menos que $40K\",\"menos que $40K\",\"menos que $40K\",\"$40K - $60K\",\"menos que $40K\",\"menos que $40K\",\"menos que $40K\",\"menos que $40K\",\"menos que $40K\",\"menos que $40K\",\"menos que $40K\",\"$40K - $60K\",\"menos que $40K\",\"menos que $40K\",\"na\",\"na\",\"na\",\"menos que $40K\",\"na\",\"menos que $40K\",\"menos que $40K\",\"$40K - $60K\",\"menos que $40K\",\"$40K - $60K\",\"$40K - $60K\",\"menos que $40K\",\"$40K - $60K\",\"menos que $40K\",\"menos que $40K\",\"menos que $40K\",\"na\",\"menos que $40K\",\"menos que $40K\",\"na\",\"menos que $40K\",\"menos que $40K\",\"menos que $40K\",\"menos que $40K\",\"menos que $40K\",\"menos que $40K\",\"na\",\"menos que $40K\",\"menos que $40K\",\"menos que $40K\",\"menos que $40K\",\"menos que $40K\",\"na\",\"menos que $40K\",\"menos que $40K\",\"menos que $40K\",\"menos que $40K\",\"na\",\"menos que $40K\",\"$40K - $60K\",\"menos que $40K\",\"menos que $40K\",\"menos que $40K\",\"menos que $40K\",\"menos que $40K\",\"na\",\"menos que $40K\",\"na\",\"menos que $40K\",\"menos que $40K\",\"na\",\"menos que $40K\",\"menos que $40K\",\"$40K - $60K\",\"na\",\"menos que $40K\",\"na\",\"menos que $40K\",\"menos que $40K\",\"menos que $40K\",\"menos que $40K\",\"menos que $40K\",\"menos que $40K\",\"menos que $40K\",\"menos que $40K\",\"menos que $40K\",\"menos que $40K\",\"na\",\"menos que $40K\",\"$40K - $60K\",\"menos que $40K\",\"menos que $40K\",\"na\",\"na\",\"menos que $40K\",\"$40K - $60K\",\"menos que $40K\",\"$40K - $60K\",\"na\",\"na\",\"na\",\"$40K - $60K\",\"menos que $40K\",\"na\",\"$40K - $60K\",\"menos que $40K\",\"na\",\"menos que $40K\",\"menos que $40K\",\"menos que $40K\",\"menos que $40K\",\"menos que $40K\",\"menos que $40K\",\"menos que $40K\",\"$40K - $60K\",\"menos que $40K\",\"na\",\"menos que $40K\",\"menos que $40K\",\"menos que $40K\",\"na\",\"menos que $40K\",\"menos que $40K\",\"na\",\"menos que $40K\",\"$40K - $60K\",\"$40K - $60K\",\"menos que $40K\",\"menos que $40K\",\"menos que $40K\",\"menos que $40K\",\"menos que $40K\",\"menos que $40K\",\"menos que $40K\",\"$40K - $60K\",\"$40K - $60K\",\"na\",\"menos que $40K\",\"menos que $40K\",\"menos que $40K\",\"na\",\"menos que $40K\",\"menos que $40K\",\"menos que $40K\",\"menos que $40K\",\"menos que $40K\",\"menos que $40K\",\"menos que $40K\",\"menos que $40K\",\"na\",\"na\",\"$40K - $60K\",\"na\",\"menos que $40K\",\"$40K - $60K\",\"menos que $40K\",\"na\",\"menos que $40K\",\"menos que $40K\",\"$40K - $60K\",\"na\",\"menos que $40K\",\"$40K - $60K\",\"menos que $40K\",\"$40K - $60K\",\"$40K - $60K\",\"menos que $40K\",\"menos que $40K\",\"menos que $40K\",\"na\",\"$40K - $60K\",\"menos que $40K\",\"menos que $40K\",\"menos que $40K\",\"na\",\"menos que $40K\",\"$40K - $60K\",\"$40K - $60K\",\"menos que $40K\",\"$40K - $60K\",\"menos que $40K\",\"$40K - $60K\",\"menos que $40K\",\"menos que $40K\",\"menos que $40K\",\"menos que $40K\",\"$40K - $60K\",\"na\",\"menos que $40K\",\"$40K - $60K\",\"na\",\"menos que $40K\",\"menos que $40K\",\"menos que $40K\",\"na\",\"na\",\"menos que $40K\",\"menos que $40K\",\"menos que $40K\",\"menos que $40K\",\"menos que $40K\",\"menos que $40K\",\"menos que $40K\",\"menos que $40K\",\"menos que $40K\",\"menos que $40K\",\"menos que $40K\",\"na\",\"$40K - $60K\",\"menos que $40K\",\"menos que $40K\",\"$40K - $60K\",\"menos que $40K\",\"na\",\"na\",\"menos que $40K\",\"menos que $40K\",\"menos que $40K\",\"na\",\"menos que $40K\",\"na\",\"menos que $40K\",\"menos que $40K\",\"menos que $40K\",\"na\",\"menos que $40K\",\"na\",\"na\",\"$40K - $60K\",\"menos que $40K\",\"$40K - $60K\",\"menos que $40K\",\"menos que $40K\",\"na\",\"$40K - $60K\",\"na\",\"menos que $40K\",\"menos que $40K\",\"menos que $40K\",\"menos que $40K\",\"menos que $40K\",\"$40K - $60K\",\"menos que $40K\",\"menos que $40K\",\"menos que $40K\",\"$40K - $60K\",\"menos que $40K\",\"na\",\"menos que $40K\",\"menos que $40K\",\"menos que $40K\",\"menos que $40K\",\"menos que $40K\",\"menos que $40K\",\"$40K - $60K\",\"menos que $40K\",\"menos que $40K\",\"na\",\"na\",\"menos que $40K\",\"na\",\"na\",\"menos que $40K\",\"menos que $40K\",\"menos que $40K\",\"menos que $40K\",\"menos que $40K\",\"menos que $40K\",\"menos que $40K\",\"na\",\"menos que $40K\",\"menos que $40K\",\"menos que $40K\",\"menos que $40K\",\"$40K - $60K\",\"menos que $40K\",\"menos que $40K\",\"menos que $40K\",\"menos que $40K\",\"menos que $40K\",\"$40K - $60K\",\"na\",\"menos que $40K\",\"menos que $40K\",\"$40K - $60K\",\"na\",\"na\",\"$40K - $60K\",\"menos que $40K\",\"na\",\"menos que $40K\",\"menos que $40K\",\"na\",\"menos que $40K\",\"$40K - $60K\",\"na\",\"menos que $40K\",\"$40K - $60K\",\"na\",\"$40K - $60K\",\"$40K - $60K\",\"$40K - $60K\",\"$40K - $60K\",\"$40K - $60K\",\"menos que $40K\",\"menos que $40K\",\"menos que $40K\",\"menos que $40K\",\"menos que $40K\",\"menos que $40K\",\"menos que $40K\",\"menos que $40K\",\"$40K - $60K\",\"na\",\"menos que $40K\",\"menos que $40K\",\"menos que $40K\",\"$40K - $60K\",\"$40K - $60K\",\"na\",\"menos que $40K\",\"$40K - $60K\",\"$40K - $60K\",\"$40K - $60K\",\"menos que $40K\",\"menos que $40K\",\"menos que $40K\",\"menos que $40K\",\"menos que $40K\",\"$40K - $60K\",\"$40K - $60K\",\"na\",\"$40K - $60K\",\"$40K - $60K\",\"$40K - $60K\",\"menos que $40K\",\"$40K - $60K\",\"menos que $40K\",\"menos que $40K\",\"$40K - $60K\",\"menos que $40K\",\"menos que $40K\",\"$40K - $60K\",\"na\",\"menos que $40K\",\"$40K - $60K\",\"menos que $40K\",\"menos que $40K\",\"na\",\"menos que $40K\",\"menos que $40K\",\"menos que $40K\",\"menos que $40K\",\"na\",\"menos que $40K\",\"na\",\"$40K - $60K\",\"na\",\"na\",\"menos que $40K\",\"menos que $40K\",\"na\",\"na\",\"na\",\"$40K - $60K\",\"menos que $40K\",\"menos que $40K\",\"na\",\"menos que $40K\",\"menos que $40K\",\"menos que $40K\",\"na\",\"$40K - $60K\",\"$40K - $60K\",\"menos que $40K\",\"menos que $40K\",\"menos que $40K\",\"na\",\"menos que $40K\",\"$40K - $60K\",\"menos que $40K\",\"$40K - $60K\",\"menos que $40K\",\"$40K - $60K\",\"menos que $40K\",\"menos que $40K\",\"menos que $40K\",\"menos que $40K\",\"menos que $40K\",\"$40K - $60K\",\"menos que $40K\",\"menos que $40K\",\"$40K - $60K\",\"$40K - $60K\",\"menos que $40K\",\"menos que $40K\",\"menos que $40K\",\"$40K - $60K\",\"menos que $40K\",\"na\",\"$40K - $60K\",\"menos que $40K\",\"menos que $40K\",\"menos que $40K\",\"$40K - $60K\",\"menos que $40K\",\"menos que $40K\",\"menos que $40K\",\"$40K - $60K\",\"menos que $40K\",\"menos que $40K\",\"menos que $40K\",\"menos que $40K\",\"$40K - $60K\",\"menos que $40K\",\"menos que $40K\",\"$40K - $60K\",\"menos que $40K\",\"$40K - $60K\",\"menos que $40K\",\"$40K - $60K\",\"$40K - $60K\",\"na\",\"menos que $40K\",\"na\",\"menos que $40K\",\"menos que $40K\",\"menos que $40K\",\"menos que $40K\",\"menos que $40K\",\"menos que $40K\",\"$40K - $60K\",\"$40K - $60K\",\"na\",\"menos que $40K\",\"menos que $40K\",\"$40K - $60K\",\"menos que $40K\",\"menos que $40K\",\"$40K - $60K\",\"menos que $40K\",\"menos que $40K\",\"$40K - $60K\",\"menos que $40K\",\"menos que $40K\",\"$40K - $60K\",\"$40K - $60K\",\"$40K - $60K\",\"$40K - $60K\",\"menos que $40K\",\"menos que $40K\",\"$40K - $60K\",\"na\",\"menos que $40K\",\"menos que $40K\",\"$40K - $60K\",\"menos que $40K\",\"$40K - $60K\",\"menos que $40K\",\"menos que $40K\",\"menos que $40K\",\"$40K - $60K\",\"menos que $40K\",\"menos que $40K\",\"menos que $40K\",\"menos que $40K\",\"na\",\"menos que $40K\",\"$40K - $60K\",\"menos que $40K\",\"menos que $40K\",\"menos que $40K\",\"menos que $40K\",\"$40K - $60K\",\"menos que $40K\",\"$40K - $60K\",\"na\",\"menos que $40K\",\"menos que $40K\",\"menos que $40K\",\"na\",\"$40K - $60K\",\"$40K - $60K\",\"na\",\"menos que $40K\",\"menos que $40K\",\"na\",\"menos que $40K\",\"na\",\"menos que $40K\",\"na\",\"menos que $40K\",\"menos que $40K\",\"na\",\"$40K - $60K\",\"$40K - $60K\",\"na\",\"menos que $40K\",\"menos que $40K\",\"menos que $40K\",\"$40K - $60K\",\"menos que $40K\",\"menos que $40K\",\"menos que $40K\",\"menos que $40K\",\"menos que $40K\",\"menos que $40K\",\"menos que $40K\",\"menos que $40K\",\"menos que $40K\",\"na\",\"menos que $40K\",\"menos que $40K\",\"na\",\"menos que $40K\",\"menos que $40K\",\"menos que $40K\",\"menos que $40K\",\"menos que $40K\",\"menos que $40K\",\"menos que $40K\",\"menos que $40K\",\"menos que $40K\",\"menos que $40K\",\"na\",\"$40K - $60K\",\"$40K - $60K\",\"$40K - $60K\",\"na\",\"na\",\"menos que $40K\",\"$40K - $60K\",\"na\",\"$40K - $60K\",\"na\",\"menos que $40K\",\"na\",\"menos que $40K\",\"menos que $40K\",\"menos que $40K\",\"menos que $40K\",\"$40K - $60K\",\"na\",\"menos que $40K\",\"menos que $40K\",\"menos que $40K\",\"menos que $40K\",\"$40K - $60K\",\"na\",\"$40K - $60K\",\"$40K - $60K\",\"na\",\"menos que $40K\",\"menos que $40K\",\"menos que $40K\",\"menos que $40K\",\"na\",\"menos que $40K\",\"menos que $40K\",\"menos que $40K\",\"na\",\"menos que $40K\",\"menos que $40K\",\"menos que $40K\",\"menos que $40K\",\"menos que $40K\",\"menos que $40K\",\"na\",\"$40K - $60K\",\"na\",\"menos que $40K\",\"menos que $40K\",\"na\",\"menos que $40K\",\"$40K - $60K\",\"menos que $40K\",\"menos que $40K\",\"menos que $40K\",\"menos que $40K\",\"na\",\"$40K - $60K\",\"menos que $40K\",\"menos que $40K\",\"menos que $40K\",\"menos que $40K\",\"menos que $40K\",\"$40K - $60K\",\"na\",\"na\",\"na\",\"menos que $40K\",\"na\",\"$40K - $60K\",\"menos que $40K\",\"na\",\"menos que $40K\",\"menos que $40K\",\"menos que $40K\",\"$40K - $60K\",\"$40K - $60K\",\"$40K - $60K\",\"menos que $40K\",\"na\",\"menos que $40K\",\"na\",\"menos que $40K\",\"$40K - $60K\",\"menos que $40K\",\"$40K - $60K\",\"menos que $40K\",\"menos que $40K\",\"menos que $40K\",\"menos que $40K\",\"menos que $40K\",\"$40K - $60K\",\"$40K - $60K\",\"menos que $40K\",\"na\",\"menos que $40K\",\"na\",\"$40K - $60K\",\"menos que $40K\",\"$40K - $60K\",\"menos que $40K\",\"na\",\"menos que $40K\",\"na\",\"$40K - $60K\",\"menos que $40K\",\"menos que $40K\",\"menos que $40K\",\"na\",\"na\",\"menos que $40K\",\"menos que $40K\",\"na\",\"$40K - $60K\",\"na\",\"menos que $40K\",\"menos que $40K\",\"menos que $40K\",\"$40K - $60K\",\"$40K - $60K\",\"menos que $40K\",\"na\",\"menos que $40K\",\"menos que $40K\",\"menos que $40K\",\"$40K - $60K\",\"menos que $40K\",\"$40K - $60K\",\"menos que $40K\",\"menos que $40K\",\"$40K - $60K\",\"$40K - $60K\",\"menos que $40K\",\"$40K - $60K\",\"menos que $40K\",\"menos que $40K\",\"menos que $40K\",\"menos que $40K\",\"menos que $40K\",\"menos que $40K\",\"menos que $40K\",\"$40K - $60K\",\"menos que $40K\",\"menos que $40K\",\"menos que $40K\",\"menos que $40K\",\"menos que $40K\",\"na\",\"menos que $40K\",\"menos que $40K\",\"menos que $40K\",\"menos que $40K\",\"na\",\"menos que $40K\",\"$40K - $60K\",\"menos que $40K\",\"$40K - $60K\",\"$40K - $60K\",\"menos que $40K\",\"na\",\"menos que $40K\",\"$40K - $60K\",\"menos que $40K\",\"$40K - $60K\",\"menos que $40K\",\"menos que $40K\",\"menos que $40K\",\"na\",\"na\",\"menos que $40K\",\"menos que $40K\",\"menos que $40K\",\"menos que $40K\",\"menos que $40K\",\"menos que $40K\",\"menos que $40K\",\"menos que $40K\",\"menos que $40K\",\"na\",\"menos que $40K\",\"menos que $40K\",\"menos que $40K\",\"menos que $40K\",\"$40K - $60K\",\"menos que $40K\",\"menos que $40K\",\"menos que $40K\",\"menos que $40K\",\"menos que $40K\",\"menos que $40K\",\"menos que $40K\",\"na\",\"$40K - $60K\",\"menos que $40K\",\"menos que $40K\",\"menos que $40K\",\"menos que $40K\",\"$40K - $60K\",\"menos que $40K\",\"menos que $40K\",\"menos que $40K\",\"menos que $40K\",\"$40K - $60K\",\"menos que $40K\",\"$40K - $60K\",\"menos que $40K\",\"$40K - $60K\",\"$40K - $60K\",\"menos que $40K\",\"na\",\"menos que $40K\",\"menos que $40K\",\"menos que $40K\",\"na\",\"na\",\"$40K - $60K\",\"menos que $40K\",\"menos que $40K\",\"menos que $40K\",\"na\",\"na\",\"menos que $40K\",\"na\",\"menos que $40K\",\"menos que $40K\",\"menos que $40K\",\"na\",\"na\",\"menos que $40K\",\"menos que $40K\",\"menos que $40K\",\"menos que $40K\",\"$40K - $60K\",\"menos que $40K\",\"$40K - $60K\",\"menos que $40K\",\"menos que $40K\",\"menos que $40K\",\"menos que $40K\",\"na\",\"na\",\"$40K - $60K\",\"na\",\"$40K - $60K\",\"$40K - $60K\",\"na\",\"$40K - $60K\",\"menos que $40K\",\"menos que $40K\",\"menos que $40K\",\"menos que $40K\",\"menos que $40K\",\"menos que $40K\",\"$40K - $60K\",\"na\",\"menos que $40K\",\"$40K - $60K\",\"menos que $40K\",\"menos que $40K\",\"menos que $40K\",\"$40K - $60K\",\"na\",\"menos que $40K\",\"menos que $40K\",\"menos que $40K\",\"menos que $40K\",\"menos que $40K\",\"$40K - $60K\",\"menos que $40K\",\"menos que $40K\",\"$40K - $60K\",\"menos que $40K\",\"$40K - $60K\",\"menos que $40K\",\"menos que $40K\",\"$40K - $60K\",\"$40K - $60K\",\"na\",\"na\",\"menos que $40K\",\"menos que $40K\",\"menos que $40K\",\"na\",\"menos que $40K\",\"na\",\"menos que $40K\",\"menos que $40K\",\"menos que $40K\",\"menos que $40K\",\"na\",\"menos que $40K\",\"menos que $40K\",\"menos que $40K\",\"menos que $40K\",\"menos que $40K\",\"menos que $40K\",\"menos que $40K\",\"menos que $40K\",\"menos que $40K\",\"menos que $40K\",\"menos que $40K\",\"$40K - $60K\",\"$40K - $60K\",\"menos que $40K\",\"$40K - $60K\",\"menos que $40K\",\"menos que $40K\",\"menos que $40K\",\"na\",\"menos que $40K\",\"menos que $40K\",\"na\",\"menos que $40K\",\"menos que $40K\",\"$40K - $60K\",\"menos que $40K\",\"menos que $40K\",\"menos que $40K\",\"menos que $40K\",\"menos que $40K\",\"$40K - $60K\",\"menos que $40K\",\"$40K - $60K\",\"na\",\"menos que $40K\",\"$40K - $60K\",\"menos que $40K\",\"$40K - $60K\",\"na\",\"menos que $40K\",\"menos que $40K\",\"menos que $40K\",\"menos que $40K\",\"$40K - $60K\",\"menos que $40K\",\"menos que $40K\",\"na\",\"$40K - $60K\",\"menos que $40K\",\"menos que $40K\",\"menos que $40K\",\"menos que $40K\",\"menos que $40K\",\"$40K - $60K\",\"menos que $40K\",\"menos que $40K\",\"menos que $40K\",\"menos que $40K\",\"$40K - $60K\",\"menos que $40K\",\"na\",\"menos que $40K\",\"na\",\"na\",\"$40K - $60K\",\"menos que $40K\",\"menos que $40K\",\"$40K - $60K\",\"menos que $40K\",\"na\",\"menos que $40K\",\"menos que $40K\",\"menos que $40K\",\"menos que $40K\",\"na\",\"menos que $40K\",\"menos que $40K\",\"$40K - $60K\",\"menos que $40K\",\"menos que $40K\",\"menos que $40K\",\"$40K - $60K\",\"menos que $40K\",\"na\",\"na\",\"$40K - $60K\",\"menos que $40K\",\"$40K - $60K\",\"$40K - $60K\",\"menos que $40K\",\"menos que $40K\",\"menos que $40K\",\"menos que $40K\",\"menos que $40K\",\"menos que $40K\",\"menos que $40K\",\"menos que $40K\",\"menos que $40K\",\"menos que $40K\",\"menos que $40K\",\"menos que $40K\",\"na\",\"menos que $40K\",\"menos que $40K\",\"menos que $40K\",\"menos que $40K\",\"menos que $40K\",\"$40K - $60K\",\"menos que $40K\",\"na\",\"menos que $40K\",\"menos que $40K\",\"menos que $40K\"],\"xaxis\":\"x\",\"yaxis\":\"y\",\"type\":\"histogram\"},{\"alignmentgroup\":\"True\",\"bingroup\":\"x\",\"hovertemplate\":\"tipo_cartao=silver\\u003cbr\\u003esalario_anual=%{x}\\u003cbr\\u003ecount=%{y}\\u003cextra\\u003e\\u003c\\u002fextra\\u003e\",\"legendgroup\":\"silver\",\"marker\":{\"color\":\"#EF553B\",\"pattern\":{\"shape\":\"\"}},\"name\":\"silver\",\"offsetgroup\":\"silver\",\"orientation\":\"v\",\"showlegend\":true,\"texttemplate\":\"%{value}\",\"x\":[\"$40K - $60K\",\"menos que $40K\",\"menos que $40K\",\"na\",\"menos que $40K\",\"menos que $40K\",\"na\",\"menos que $40K\",\"menos que $40K\",\"menos que $40K\",\"menos que $40K\",\"na\",\"$40K - $60K\",\"$40K - $60K\",\"menos que $40K\",\"na\",\"na\",\"menos que $40K\",\"$40K - $60K\",\"$40K - $60K\",\"menos que $40K\",\"menos que $40K\",\"menos que $40K\",\"$40K - $60K\",\"na\",\"menos que $40K\",\"$40K - $60K\",\"menos que $40K\",\"menos que $40K\",\"menos que $40K\",\"$40K - $60K\",\"$40K - $60K\",\"$40K - $60K\",\"$40K - $60K\",\"na\",\"menos que $40K\",\"menos que $40K\",\"menos que $40K\",\"menos que $40K\",\"na\",\"menos que $40K\",\"na\",\"menos que $40K\",\"menos que $40K\",\"na\",\"menos que $40K\",\"menos que $40K\",\"menos que $40K\",\"menos que $40K\",\"$40K - $60K\",\"$40K - $60K\",\"menos que $40K\",\"menos que $40K\",\"$40K - $60K\",\"na\",\"menos que $40K\",\"menos que $40K\",\"$40K - $60K\",\"menos que $40K\",\"na\",\"na\",\"menos que $40K\",\"menos que $40K\",\"na\",\"$40K - $60K\",\"na\",\"na\",\"na\",\"menos que $40K\"],\"xaxis\":\"x\",\"yaxis\":\"y\",\"type\":\"histogram\"},{\"alignmentgroup\":\"True\",\"bingroup\":\"x\",\"hovertemplate\":\"tipo_cartao=gold\\u003cbr\\u003esalario_anual=%{x}\\u003cbr\\u003ecount=%{y}\\u003cextra\\u003e\\u003c\\u002fextra\\u003e\",\"legendgroup\":\"gold\",\"marker\":{\"color\":\"#00cc96\",\"pattern\":{\"shape\":\"\"}},\"name\":\"gold\",\"offsetgroup\":\"gold\",\"orientation\":\"v\",\"showlegend\":true,\"texttemplate\":\"%{value}\",\"x\":[\"menos que $40K\",\"menos que $40K\",\"menos que $40K\",\"na\",\"menos que $40K\",\"menos que $40K\",\"menos que $40K\",\"menos que $40K\",\"menos que $40K\",\"na\",\"menos que $40K\",\"na\"],\"xaxis\":\"x\",\"yaxis\":\"y\",\"type\":\"histogram\"},{\"alignmentgroup\":\"True\",\"bingroup\":\"x\",\"hovertemplate\":\"tipo_cartao=platinum\\u003cbr\\u003esalario_anual=%{x}\\u003cbr\\u003ecount=%{y}\\u003cextra\\u003e\\u003c\\u002fextra\\u003e\",\"legendgroup\":\"platinum\",\"marker\":{\"color\":\"#ab63fa\",\"pattern\":{\"shape\":\"\"}},\"name\":\"platinum\",\"offsetgroup\":\"platinum\",\"orientation\":\"v\",\"showlegend\":true,\"texttemplate\":\"%{value}\",\"x\":[\"na\",\"na\",\"menos que $40K\",\"na\"],\"xaxis\":\"x\",\"yaxis\":\"y\",\"type\":\"histogram\"}],                        {\"template\":{\"data\":{\"histogram2dcontour\":[{\"type\":\"histogram2dcontour\",\"colorbar\":{\"outlinewidth\":0,\"ticks\":\"\"},\"colorscale\":[[0.0,\"#0d0887\"],[0.1111111111111111,\"#46039f\"],[0.2222222222222222,\"#7201a8\"],[0.3333333333333333,\"#9c179e\"],[0.4444444444444444,\"#bd3786\"],[0.5555555555555556,\"#d8576b\"],[0.6666666666666666,\"#ed7953\"],[0.7777777777777778,\"#fb9f3a\"],[0.8888888888888888,\"#fdca26\"],[1.0,\"#f0f921\"]]}],\"choropleth\":[{\"type\":\"choropleth\",\"colorbar\":{\"outlinewidth\":0,\"ticks\":\"\"}}],\"histogram2d\":[{\"type\":\"histogram2d\",\"colorbar\":{\"outlinewidth\":0,\"ticks\":\"\"},\"colorscale\":[[0.0,\"#0d0887\"],[0.1111111111111111,\"#46039f\"],[0.2222222222222222,\"#7201a8\"],[0.3333333333333333,\"#9c179e\"],[0.4444444444444444,\"#bd3786\"],[0.5555555555555556,\"#d8576b\"],[0.6666666666666666,\"#ed7953\"],[0.7777777777777778,\"#fb9f3a\"],[0.8888888888888888,\"#fdca26\"],[1.0,\"#f0f921\"]]}],\"heatmap\":[{\"type\":\"heatmap\",\"colorbar\":{\"outlinewidth\":0,\"ticks\":\"\"},\"colorscale\":[[0.0,\"#0d0887\"],[0.1111111111111111,\"#46039f\"],[0.2222222222222222,\"#7201a8\"],[0.3333333333333333,\"#9c179e\"],[0.4444444444444444,\"#bd3786\"],[0.5555555555555556,\"#d8576b\"],[0.6666666666666666,\"#ed7953\"],[0.7777777777777778,\"#fb9f3a\"],[0.8888888888888888,\"#fdca26\"],[1.0,\"#f0f921\"]]}],\"heatmapgl\":[{\"type\":\"heatmapgl\",\"colorbar\":{\"outlinewidth\":0,\"ticks\":\"\"},\"colorscale\":[[0.0,\"#0d0887\"],[0.1111111111111111,\"#46039f\"],[0.2222222222222222,\"#7201a8\"],[0.3333333333333333,\"#9c179e\"],[0.4444444444444444,\"#bd3786\"],[0.5555555555555556,\"#d8576b\"],[0.6666666666666666,\"#ed7953\"],[0.7777777777777778,\"#fb9f3a\"],[0.8888888888888888,\"#fdca26\"],[1.0,\"#f0f921\"]]}],\"contourcarpet\":[{\"type\":\"contourcarpet\",\"colorbar\":{\"outlinewidth\":0,\"ticks\":\"\"}}],\"contour\":[{\"type\":\"contour\",\"colorbar\":{\"outlinewidth\":0,\"ticks\":\"\"},\"colorscale\":[[0.0,\"#0d0887\"],[0.1111111111111111,\"#46039f\"],[0.2222222222222222,\"#7201a8\"],[0.3333333333333333,\"#9c179e\"],[0.4444444444444444,\"#bd3786\"],[0.5555555555555556,\"#d8576b\"],[0.6666666666666666,\"#ed7953\"],[0.7777777777777778,\"#fb9f3a\"],[0.8888888888888888,\"#fdca26\"],[1.0,\"#f0f921\"]]}],\"surface\":[{\"type\":\"surface\",\"colorbar\":{\"outlinewidth\":0,\"ticks\":\"\"},\"colorscale\":[[0.0,\"#0d0887\"],[0.1111111111111111,\"#46039f\"],[0.2222222222222222,\"#7201a8\"],[0.3333333333333333,\"#9c179e\"],[0.4444444444444444,\"#bd3786\"],[0.5555555555555556,\"#d8576b\"],[0.6666666666666666,\"#ed7953\"],[0.7777777777777778,\"#fb9f3a\"],[0.8888888888888888,\"#fdca26\"],[1.0,\"#f0f921\"]]}],\"mesh3d\":[{\"type\":\"mesh3d\",\"colorbar\":{\"outlinewidth\":0,\"ticks\":\"\"}}],\"scatter\":[{\"fillpattern\":{\"fillmode\":\"overlay\",\"size\":10,\"solidity\":0.2},\"type\":\"scatter\"}],\"parcoords\":[{\"type\":\"parcoords\",\"line\":{\"colorbar\":{\"outlinewidth\":0,\"ticks\":\"\"}}}],\"scatterpolargl\":[{\"type\":\"scatterpolargl\",\"marker\":{\"colorbar\":{\"outlinewidth\":0,\"ticks\":\"\"}}}],\"bar\":[{\"error_x\":{\"color\":\"#2a3f5f\"},\"error_y\":{\"color\":\"#2a3f5f\"},\"marker\":{\"line\":{\"color\":\"#E5ECF6\",\"width\":0.5},\"pattern\":{\"fillmode\":\"overlay\",\"size\":10,\"solidity\":0.2}},\"type\":\"bar\"}],\"scattergeo\":[{\"type\":\"scattergeo\",\"marker\":{\"colorbar\":{\"outlinewidth\":0,\"ticks\":\"\"}}}],\"scatterpolar\":[{\"type\":\"scatterpolar\",\"marker\":{\"colorbar\":{\"outlinewidth\":0,\"ticks\":\"\"}}}],\"histogram\":[{\"marker\":{\"pattern\":{\"fillmode\":\"overlay\",\"size\":10,\"solidity\":0.2}},\"type\":\"histogram\"}],\"scattergl\":[{\"type\":\"scattergl\",\"marker\":{\"colorbar\":{\"outlinewidth\":0,\"ticks\":\"\"}}}],\"scatter3d\":[{\"type\":\"scatter3d\",\"line\":{\"colorbar\":{\"outlinewidth\":0,\"ticks\":\"\"}},\"marker\":{\"colorbar\":{\"outlinewidth\":0,\"ticks\":\"\"}}}],\"scattermapbox\":[{\"type\":\"scattermapbox\",\"marker\":{\"colorbar\":{\"outlinewidth\":0,\"ticks\":\"\"}}}],\"scatterternary\":[{\"type\":\"scatterternary\",\"marker\":{\"colorbar\":{\"outlinewidth\":0,\"ticks\":\"\"}}}],\"scattercarpet\":[{\"type\":\"scattercarpet\",\"marker\":{\"colorbar\":{\"outlinewidth\":0,\"ticks\":\"\"}}}],\"carpet\":[{\"aaxis\":{\"endlinecolor\":\"#2a3f5f\",\"gridcolor\":\"white\",\"linecolor\":\"white\",\"minorgridcolor\":\"white\",\"startlinecolor\":\"#2a3f5f\"},\"baxis\":{\"endlinecolor\":\"#2a3f5f\",\"gridcolor\":\"white\",\"linecolor\":\"white\",\"minorgridcolor\":\"white\",\"startlinecolor\":\"#2a3f5f\"},\"type\":\"carpet\"}],\"table\":[{\"cells\":{\"fill\":{\"color\":\"#EBF0F8\"},\"line\":{\"color\":\"white\"}},\"header\":{\"fill\":{\"color\":\"#C8D4E3\"},\"line\":{\"color\":\"white\"}},\"type\":\"table\"}],\"barpolar\":[{\"marker\":{\"line\":{\"color\":\"#E5ECF6\",\"width\":0.5},\"pattern\":{\"fillmode\":\"overlay\",\"size\":10,\"solidity\":0.2}},\"type\":\"barpolar\"}],\"pie\":[{\"automargin\":true,\"type\":\"pie\"}]},\"layout\":{\"autotypenumbers\":\"strict\",\"colorway\":[\"#636efa\",\"#EF553B\",\"#00cc96\",\"#ab63fa\",\"#FFA15A\",\"#19d3f3\",\"#FF6692\",\"#B6E880\",\"#FF97FF\",\"#FECB52\"],\"font\":{\"color\":\"#2a3f5f\"},\"hovermode\":\"closest\",\"hoverlabel\":{\"align\":\"left\"},\"paper_bgcolor\":\"white\",\"plot_bgcolor\":\"#E5ECF6\",\"polar\":{\"bgcolor\":\"#E5ECF6\",\"angularaxis\":{\"gridcolor\":\"white\",\"linecolor\":\"white\",\"ticks\":\"\"},\"radialaxis\":{\"gridcolor\":\"white\",\"linecolor\":\"white\",\"ticks\":\"\"}},\"ternary\":{\"bgcolor\":\"#E5ECF6\",\"aaxis\":{\"gridcolor\":\"white\",\"linecolor\":\"white\",\"ticks\":\"\"},\"baxis\":{\"gridcolor\":\"white\",\"linecolor\":\"white\",\"ticks\":\"\"},\"caxis\":{\"gridcolor\":\"white\",\"linecolor\":\"white\",\"ticks\":\"\"}},\"coloraxis\":{\"colorbar\":{\"outlinewidth\":0,\"ticks\":\"\"}},\"colorscale\":{\"sequential\":[[0.0,\"#0d0887\"],[0.1111111111111111,\"#46039f\"],[0.2222222222222222,\"#7201a8\"],[0.3333333333333333,\"#9c179e\"],[0.4444444444444444,\"#bd3786\"],[0.5555555555555556,\"#d8576b\"],[0.6666666666666666,\"#ed7953\"],[0.7777777777777778,\"#fb9f3a\"],[0.8888888888888888,\"#fdca26\"],[1.0,\"#f0f921\"]],\"sequentialminus\":[[0.0,\"#0d0887\"],[0.1111111111111111,\"#46039f\"],[0.2222222222222222,\"#7201a8\"],[0.3333333333333333,\"#9c179e\"],[0.4444444444444444,\"#bd3786\"],[0.5555555555555556,\"#d8576b\"],[0.6666666666666666,\"#ed7953\"],[0.7777777777777778,\"#fb9f3a\"],[0.8888888888888888,\"#fdca26\"],[1.0,\"#f0f921\"]],\"diverging\":[[0,\"#8e0152\"],[0.1,\"#c51b7d\"],[0.2,\"#de77ae\"],[0.3,\"#f1b6da\"],[0.4,\"#fde0ef\"],[0.5,\"#f7f7f7\"],[0.6,\"#e6f5d0\"],[0.7,\"#b8e186\"],[0.8,\"#7fbc41\"],[0.9,\"#4d9221\"],[1,\"#276419\"]]},\"xaxis\":{\"gridcolor\":\"white\",\"linecolor\":\"white\",\"ticks\":\"\",\"title\":{\"standoff\":15},\"zerolinecolor\":\"white\",\"automargin\":true,\"zerolinewidth\":2},\"yaxis\":{\"gridcolor\":\"white\",\"linecolor\":\"white\",\"ticks\":\"\",\"title\":{\"standoff\":15},\"zerolinecolor\":\"white\",\"automargin\":true,\"zerolinewidth\":2},\"scene\":{\"xaxis\":{\"backgroundcolor\":\"#E5ECF6\",\"gridcolor\":\"white\",\"linecolor\":\"white\",\"showbackground\":true,\"ticks\":\"\",\"zerolinecolor\":\"white\",\"gridwidth\":2},\"yaxis\":{\"backgroundcolor\":\"#E5ECF6\",\"gridcolor\":\"white\",\"linecolor\":\"white\",\"showbackground\":true,\"ticks\":\"\",\"zerolinecolor\":\"white\",\"gridwidth\":2},\"zaxis\":{\"backgroundcolor\":\"#E5ECF6\",\"gridcolor\":\"white\",\"linecolor\":\"white\",\"showbackground\":true,\"ticks\":\"\",\"zerolinecolor\":\"white\",\"gridwidth\":2}},\"shapedefaults\":{\"line\":{\"color\":\"#2a3f5f\"}},\"annotationdefaults\":{\"arrowcolor\":\"#2a3f5f\",\"arrowhead\":0,\"arrowwidth\":1},\"geo\":{\"bgcolor\":\"white\",\"landcolor\":\"#E5ECF6\",\"subunitcolor\":\"white\",\"showland\":true,\"showlakes\":true,\"lakecolor\":\"white\"},\"title\":{\"x\":0.05},\"mapbox\":{\"style\":\"light\"}}},\"xaxis\":{\"anchor\":\"y\",\"domain\":[0.0,1.0],\"title\":{\"text\":\"salario_anual\"}},\"yaxis\":{\"anchor\":\"x\",\"domain\":[0.0,1.0],\"title\":{\"text\":\"count\"}},\"legend\":{\"title\":{\"text\":\"tipo_cartao\"},\"tracegroupgap\":0},\"margin\":{\"t\":60},\"barmode\":\"relative\"},                        {\"responsive\": true}                    ).then(function(){\n",
              "                            \n",
              "var gd = document.getElementById('950eaac3-ff12-487e-9457-f06cb8e59ac7');\n",
              "var x = new MutationObserver(function (mutations, observer) {{\n",
              "        var display = window.getComputedStyle(gd).display;\n",
              "        if (!display || display === 'none') {{\n",
              "            console.log([gd, 'removed!']);\n",
              "            Plotly.purge(gd);\n",
              "            observer.disconnect();\n",
              "        }}\n",
              "}});\n",
              "\n",
              "// Listen for the removal of the full notebook cells\n",
              "var notebookContainer = gd.closest('#notebook-container');\n",
              "if (notebookContainer) {{\n",
              "    x.observe(notebookContainer, {childList: true});\n",
              "}}\n",
              "\n",
              "// Listen for the clearing of the current output cell\n",
              "var outputEl = gd.closest('.output');\n",
              "if (outputEl) {{\n",
              "    x.observe(outputEl, {childList: true});\n",
              "}}\n",
              "\n",
              "                        })                };                            </script>        </div>\n",
              "</body>\n",
              "</html>"
            ]
          },
          "metadata": {}
        }
      ]
    },
    {
      "cell_type": "markdown",
      "source": [
        "A grande parte dos 31% do publico feminino com mestrado (maioria representativa) tem uma renda anual menor que 40K. Não há relativização da renda com tipo de cartão e o público feminino não há renda anual > que 40K para esse perfil\n",
        "\n"
      ],
      "metadata": {
        "id": "_zF_Zo_aC2QM"
      }
    },
    {
      "cell_type": "code",
      "source": [
        "#Análise das interações por ano - Feminino com mestrado e renda anual <40k\n",
        "analise_rendaF=dados.query(\"escolaridade=='mestrado' and sexo=='F' and salario_anual=='menos que $40K'\")"
      ],
      "metadata": {
        "id": "ODnG4YY7DfgR"
      },
      "execution_count": 25,
      "outputs": []
    },
    {
      "cell_type": "code",
      "source": [
        "import plotly.express as px\n",
        "\n",
        "# Crie o gráfico de barras\n",
        "px.histogram(analise_rendaF, x='salario_anual', y='iteracoes_12m',color='tipo_cartao', text_auto=True)\n"
      ],
      "metadata": {
        "colab": {
          "base_uri": "https://localhost:8080/",
          "height": 542
        },
        "id": "-Y5g8IKgkt5t",
        "outputId": "eaea7b1e-6a04-4319-933b-2205b412ebd2"
      },
      "execution_count": 33,
      "outputs": [
        {
          "output_type": "display_data",
          "data": {
            "text/html": [
              "<html>\n",
              "<head><meta charset=\"utf-8\" /></head>\n",
              "<body>\n",
              "    <div>            <script src=\"https://cdnjs.cloudflare.com/ajax/libs/mathjax/2.7.5/MathJax.js?config=TeX-AMS-MML_SVG\"></script><script type=\"text/javascript\">if (window.MathJax && window.MathJax.Hub && window.MathJax.Hub.Config) {window.MathJax.Hub.Config({SVG: {font: \"STIX-Web\"}});}</script>                <script type=\"text/javascript\">window.PlotlyConfig = {MathJaxConfig: 'local'};</script>\n",
              "        <script charset=\"utf-8\" src=\"https://cdn.plot.ly/plotly-2.24.1.min.js\"></script>                <div id=\"c840baba-4c1b-4bab-b018-f0baadc15436\" class=\"plotly-graph-div\" style=\"height:525px; width:100%;\"></div>            <script type=\"text/javascript\">                                    window.PLOTLYENV=window.PLOTLYENV || {};                                    if (document.getElementById(\"c840baba-4c1b-4bab-b018-f0baadc15436\")) {                    Plotly.newPlot(                        \"c840baba-4c1b-4bab-b018-f0baadc15436\",                        [{\"alignmentgroup\":\"True\",\"bingroup\":\"x\",\"histfunc\":\"sum\",\"hovertemplate\":\"tipo_cartao=blue\\u003cbr\\u003esalario_anual=%{x}\\u003cbr\\u003esum of iteracoes_12m=%{y}\\u003cextra\\u003e\\u003c\\u002fextra\\u003e\",\"legendgroup\":\"blue\",\"marker\":{\"color\":\"#636efa\",\"pattern\":{\"shape\":\"\"}},\"name\":\"blue\",\"offsetgroup\":\"blue\",\"orientation\":\"v\",\"showlegend\":true,\"texttemplate\":\"%{value}\",\"x\":[\"menos que $40K\",\"menos que $40K\",\"menos que $40K\",\"menos que $40K\",\"menos que $40K\",\"menos que $40K\",\"menos que $40K\",\"menos que $40K\",\"menos que $40K\",\"menos que $40K\",\"menos que $40K\",\"menos que $40K\",\"menos que $40K\",\"menos que $40K\",\"menos que $40K\",\"menos que $40K\",\"menos que $40K\",\"menos que $40K\",\"menos que $40K\",\"menos que $40K\",\"menos que $40K\",\"menos que $40K\",\"menos que $40K\",\"menos que $40K\",\"menos que $40K\",\"menos que $40K\",\"menos que $40K\",\"menos que $40K\",\"menos que $40K\",\"menos que $40K\",\"menos que $40K\",\"menos que $40K\",\"menos que $40K\",\"menos que $40K\",\"menos que $40K\",\"menos que $40K\",\"menos que $40K\",\"menos que $40K\",\"menos que $40K\",\"menos que $40K\",\"menos que $40K\",\"menos que $40K\",\"menos que $40K\",\"menos que $40K\",\"menos que $40K\",\"menos que $40K\",\"menos que $40K\",\"menos que $40K\",\"menos que $40K\",\"menos que $40K\",\"menos que $40K\",\"menos que $40K\",\"menos que $40K\",\"menos que $40K\",\"menos que $40K\",\"menos que $40K\",\"menos que $40K\",\"menos que $40K\",\"menos que $40K\",\"menos que $40K\",\"menos que $40K\",\"menos que $40K\",\"menos que $40K\",\"menos que $40K\",\"menos que $40K\",\"menos que $40K\",\"menos que $40K\",\"menos que $40K\",\"menos que $40K\",\"menos que $40K\",\"menos que $40K\",\"menos que $40K\",\"menos que $40K\",\"menos que $40K\",\"menos que $40K\",\"menos que $40K\",\"menos que $40K\",\"menos que $40K\",\"menos que $40K\",\"menos que $40K\",\"menos que $40K\",\"menos que $40K\",\"menos que $40K\",\"menos que $40K\",\"menos que $40K\",\"menos que $40K\",\"menos que $40K\",\"menos que $40K\",\"menos que $40K\",\"menos que $40K\",\"menos que $40K\",\"menos que $40K\",\"menos que $40K\",\"menos que $40K\",\"menos que $40K\",\"menos que $40K\",\"menos que $40K\",\"menos que $40K\",\"menos que $40K\",\"menos que $40K\",\"menos que $40K\",\"menos que $40K\",\"menos que $40K\",\"menos que $40K\",\"menos que $40K\",\"menos que $40K\",\"menos que $40K\",\"menos que $40K\",\"menos que $40K\",\"menos que $40K\",\"menos que $40K\",\"menos que $40K\",\"menos que $40K\",\"menos que $40K\",\"menos que $40K\",\"menos que $40K\",\"menos que $40K\",\"menos que $40K\",\"menos que $40K\",\"menos que $40K\",\"menos que $40K\",\"menos que $40K\",\"menos que $40K\",\"menos que $40K\",\"menos que $40K\",\"menos que $40K\",\"menos que $40K\",\"menos que $40K\",\"menos que $40K\",\"menos que $40K\",\"menos que $40K\",\"menos que $40K\",\"menos que $40K\",\"menos que $40K\",\"menos que $40K\",\"menos que $40K\",\"menos que $40K\",\"menos que $40K\",\"menos que $40K\",\"menos que $40K\",\"menos que $40K\",\"menos que $40K\",\"menos que $40K\",\"menos que $40K\",\"menos que $40K\",\"menos que $40K\",\"menos que $40K\",\"menos que $40K\",\"menos que $40K\",\"menos que $40K\",\"menos que $40K\",\"menos que $40K\",\"menos que $40K\",\"menos que $40K\",\"menos que $40K\",\"menos que $40K\",\"menos que $40K\",\"menos que $40K\",\"menos que $40K\",\"menos que $40K\",\"menos que $40K\",\"menos que $40K\",\"menos que $40K\",\"menos que $40K\",\"menos que $40K\",\"menos que $40K\",\"menos que $40K\",\"menos que $40K\",\"menos que $40K\",\"menos que $40K\",\"menos que $40K\",\"menos que $40K\",\"menos que $40K\",\"menos que $40K\",\"menos que $40K\",\"menos que $40K\",\"menos que $40K\",\"menos que $40K\",\"menos que $40K\",\"menos que $40K\",\"menos que $40K\",\"menos que $40K\",\"menos que $40K\",\"menos que $40K\",\"menos que $40K\",\"menos que $40K\",\"menos que $40K\",\"menos que $40K\",\"menos que $40K\",\"menos que $40K\",\"menos que $40K\",\"menos que $40K\",\"menos que $40K\",\"menos que $40K\",\"menos que $40K\",\"menos que $40K\",\"menos que $40K\",\"menos que $40K\",\"menos que $40K\",\"menos que $40K\",\"menos que $40K\",\"menos que $40K\",\"menos que $40K\",\"menos que $40K\",\"menos que $40K\",\"menos que $40K\",\"menos que $40K\",\"menos que $40K\",\"menos que $40K\",\"menos que $40K\",\"menos que $40K\",\"menos que $40K\",\"menos que $40K\",\"menos que $40K\",\"menos que $40K\",\"menos que $40K\",\"menos que $40K\",\"menos que $40K\",\"menos que $40K\",\"menos que $40K\",\"menos que $40K\",\"menos que $40K\",\"menos que $40K\",\"menos que $40K\",\"menos que $40K\",\"menos que $40K\",\"menos que $40K\",\"menos que $40K\",\"menos que $40K\",\"menos que $40K\",\"menos que $40K\",\"menos que $40K\",\"menos que $40K\",\"menos que $40K\",\"menos que $40K\",\"menos que $40K\",\"menos que $40K\",\"menos que $40K\",\"menos que $40K\",\"menos que $40K\",\"menos que $40K\",\"menos que $40K\",\"menos que $40K\",\"menos que $40K\",\"menos que $40K\",\"menos que $40K\",\"menos que $40K\",\"menos que $40K\",\"menos que $40K\",\"menos que $40K\",\"menos que $40K\",\"menos que $40K\",\"menos que $40K\",\"menos que $40K\",\"menos que $40K\",\"menos que $40K\",\"menos que $40K\",\"menos que $40K\",\"menos que $40K\",\"menos que $40K\",\"menos que $40K\",\"menos que $40K\",\"menos que $40K\",\"menos que $40K\",\"menos que $40K\",\"menos que $40K\",\"menos que $40K\",\"menos que $40K\",\"menos que $40K\",\"menos que $40K\",\"menos que $40K\",\"menos que $40K\",\"menos que $40K\",\"menos que $40K\",\"menos que $40K\",\"menos que $40K\",\"menos que $40K\",\"menos que $40K\",\"menos que $40K\",\"menos que $40K\",\"menos que $40K\",\"menos que $40K\",\"menos que $40K\",\"menos que $40K\",\"menos que $40K\",\"menos que $40K\",\"menos que $40K\",\"menos que $40K\",\"menos que $40K\",\"menos que $40K\",\"menos que $40K\",\"menos que $40K\",\"menos que $40K\",\"menos que $40K\",\"menos que $40K\",\"menos que $40K\",\"menos que $40K\",\"menos que $40K\",\"menos que $40K\",\"menos que $40K\",\"menos que $40K\",\"menos que $40K\",\"menos que $40K\",\"menos que $40K\",\"menos que $40K\",\"menos que $40K\",\"menos que $40K\",\"menos que $40K\",\"menos que $40K\",\"menos que $40K\",\"menos que $40K\",\"menos que $40K\",\"menos que $40K\",\"menos que $40K\",\"menos que $40K\",\"menos que $40K\",\"menos que $40K\",\"menos que $40K\",\"menos que $40K\",\"menos que $40K\",\"menos que $40K\",\"menos que $40K\",\"menos que $40K\",\"menos que $40K\",\"menos que $40K\",\"menos que $40K\",\"menos que $40K\",\"menos que $40K\",\"menos que $40K\",\"menos que $40K\",\"menos que $40K\",\"menos que $40K\",\"menos que $40K\",\"menos que $40K\",\"menos que $40K\",\"menos que $40K\",\"menos que $40K\",\"menos que $40K\",\"menos que $40K\",\"menos que $40K\",\"menos que $40K\",\"menos que $40K\",\"menos que $40K\",\"menos que $40K\",\"menos que $40K\",\"menos que $40K\",\"menos que $40K\",\"menos que $40K\",\"menos que $40K\",\"menos que $40K\",\"menos que $40K\",\"menos que $40K\",\"menos que $40K\",\"menos que $40K\",\"menos que $40K\",\"menos que $40K\",\"menos que $40K\",\"menos que $40K\",\"menos que $40K\",\"menos que $40K\",\"menos que $40K\",\"menos que $40K\",\"menos que $40K\",\"menos que $40K\",\"menos que $40K\",\"menos que $40K\",\"menos que $40K\",\"menos que $40K\",\"menos que $40K\",\"menos que $40K\",\"menos que $40K\",\"menos que $40K\",\"menos que $40K\",\"menos que $40K\",\"menos que $40K\",\"menos que $40K\",\"menos que $40K\",\"menos que $40K\",\"menos que $40K\",\"menos que $40K\",\"menos que $40K\",\"menos que $40K\",\"menos que $40K\",\"menos que $40K\",\"menos que $40K\",\"menos que $40K\",\"menos que $40K\",\"menos que $40K\",\"menos que $40K\",\"menos que $40K\",\"menos que $40K\",\"menos que $40K\",\"menos que $40K\",\"menos que $40K\",\"menos que $40K\",\"menos que $40K\",\"menos que $40K\",\"menos que $40K\",\"menos que $40K\",\"menos que $40K\",\"menos que $40K\",\"menos que $40K\",\"menos que $40K\",\"menos que $40K\",\"menos que $40K\",\"menos que $40K\",\"menos que $40K\",\"menos que $40K\",\"menos que $40K\",\"menos que $40K\",\"menos que $40K\",\"menos que $40K\",\"menos que $40K\",\"menos que $40K\",\"menos que $40K\",\"menos que $40K\",\"menos que $40K\",\"menos que $40K\",\"menos que $40K\",\"menos que $40K\",\"menos que $40K\",\"menos que $40K\",\"menos que $40K\",\"menos que $40K\",\"menos que $40K\",\"menos que $40K\",\"menos que $40K\",\"menos que $40K\",\"menos que $40K\",\"menos que $40K\",\"menos que $40K\",\"menos que $40K\",\"menos que $40K\",\"menos que $40K\",\"menos que $40K\",\"menos que $40K\",\"menos que $40K\",\"menos que $40K\",\"menos que $40K\",\"menos que $40K\",\"menos que $40K\",\"menos que $40K\",\"menos que $40K\",\"menos que $40K\",\"menos que $40K\",\"menos que $40K\",\"menos que $40K\",\"menos que $40K\",\"menos que $40K\",\"menos que $40K\",\"menos que $40K\",\"menos que $40K\",\"menos que $40K\",\"menos que $40K\",\"menos que $40K\",\"menos que $40K\",\"menos que $40K\",\"menos que $40K\",\"menos que $40K\",\"menos que $40K\",\"menos que $40K\",\"menos que $40K\",\"menos que $40K\",\"menos que $40K\",\"menos que $40K\",\"menos que $40K\",\"menos que $40K\",\"menos que $40K\",\"menos que $40K\",\"menos que $40K\",\"menos que $40K\",\"menos que $40K\",\"menos que $40K\",\"menos que $40K\",\"menos que $40K\",\"menos que $40K\",\"menos que $40K\",\"menos que $40K\",\"menos que $40K\",\"menos que $40K\",\"menos que $40K\",\"menos que $40K\",\"menos que $40K\",\"menos que $40K\",\"menos que $40K\",\"menos que $40K\",\"menos que $40K\",\"menos que $40K\",\"menos que $40K\",\"menos que $40K\",\"menos que $40K\",\"menos que $40K\",\"menos que $40K\",\"menos que $40K\",\"menos que $40K\",\"menos que $40K\",\"menos que $40K\",\"menos que $40K\",\"menos que $40K\",\"menos que $40K\",\"menos que $40K\",\"menos que $40K\",\"menos que $40K\",\"menos que $40K\",\"menos que $40K\",\"menos que $40K\",\"menos que $40K\",\"menos que $40K\",\"menos que $40K\",\"menos que $40K\",\"menos que $40K\",\"menos que $40K\",\"menos que $40K\",\"menos que $40K\",\"menos que $40K\",\"menos que $40K\",\"menos que $40K\",\"menos que $40K\",\"menos que $40K\",\"menos que $40K\",\"menos que $40K\",\"menos que $40K\",\"menos que $40K\",\"menos que $40K\",\"menos que $40K\",\"menos que $40K\",\"menos que $40K\",\"menos que $40K\",\"menos que $40K\",\"menos que $40K\",\"menos que $40K\",\"menos que $40K\",\"menos que $40K\",\"menos que $40K\",\"menos que $40K\",\"menos que $40K\",\"menos que $40K\",\"menos que $40K\",\"menos que $40K\",\"menos que $40K\",\"menos que $40K\",\"menos que $40K\",\"menos que $40K\",\"menos que $40K\",\"menos que $40K\",\"menos que $40K\",\"menos que $40K\",\"menos que $40K\",\"menos que $40K\",\"menos que $40K\",\"menos que $40K\",\"menos que $40K\",\"menos que $40K\",\"menos que $40K\",\"menos que $40K\",\"menos que $40K\",\"menos que $40K\",\"menos que $40K\",\"menos que $40K\",\"menos que $40K\",\"menos que $40K\",\"menos que $40K\",\"menos que $40K\",\"menos que $40K\",\"menos que $40K\",\"menos que $40K\",\"menos que $40K\",\"menos que $40K\",\"menos que $40K\",\"menos que $40K\",\"menos que $40K\",\"menos que $40K\",\"menos que $40K\",\"menos que $40K\",\"menos que $40K\",\"menos que $40K\",\"menos que $40K\",\"menos que $40K\",\"menos que $40K\",\"menos que $40K\",\"menos que $40K\",\"menos que $40K\",\"menos que $40K\",\"menos que $40K\",\"menos que $40K\",\"menos que $40K\",\"menos que $40K\",\"menos que $40K\",\"menos que $40K\",\"menos que $40K\",\"menos que $40K\",\"menos que $40K\",\"menos que $40K\",\"menos que $40K\",\"menos que $40K\",\"menos que $40K\",\"menos que $40K\",\"menos que $40K\",\"menos que $40K\",\"menos que $40K\",\"menos que $40K\",\"menos que $40K\",\"menos que $40K\",\"menos que $40K\",\"menos que $40K\",\"menos que $40K\",\"menos que $40K\",\"menos que $40K\",\"menos que $40K\",\"menos que $40K\",\"menos que $40K\",\"menos que $40K\",\"menos que $40K\",\"menos que $40K\",\"menos que $40K\",\"menos que $40K\",\"menos que $40K\",\"menos que $40K\",\"menos que $40K\",\"menos que $40K\",\"menos que $40K\",\"menos que $40K\",\"menos que $40K\",\"menos que $40K\",\"menos que $40K\",\"menos que $40K\",\"menos que $40K\",\"menos que $40K\",\"menos que $40K\",\"menos que $40K\",\"menos que $40K\",\"menos que $40K\",\"menos que $40K\",\"menos que $40K\",\"menos que $40K\",\"menos que $40K\",\"menos que $40K\",\"menos que $40K\",\"menos que $40K\",\"menos que $40K\",\"menos que $40K\",\"menos que $40K\",\"menos que $40K\",\"menos que $40K\",\"menos que $40K\",\"menos que $40K\",\"menos que $40K\",\"menos que $40K\",\"menos que $40K\",\"menos que $40K\",\"menos que $40K\",\"menos que $40K\",\"menos que $40K\",\"menos que $40K\",\"menos que $40K\",\"menos que $40K\",\"menos que $40K\",\"menos que $40K\",\"menos que $40K\",\"menos que $40K\",\"menos que $40K\",\"menos que $40K\",\"menos que $40K\",\"menos que $40K\",\"menos que $40K\",\"menos que $40K\",\"menos que $40K\",\"menos que $40K\",\"menos que $40K\",\"menos que $40K\",\"menos que $40K\",\"menos que $40K\",\"menos que $40K\",\"menos que $40K\",\"menos que $40K\",\"menos que $40K\",\"menos que $40K\",\"menos que $40K\",\"menos que $40K\",\"menos que $40K\",\"menos que $40K\",\"menos que $40K\",\"menos que $40K\",\"menos que $40K\",\"menos que $40K\",\"menos que $40K\",\"menos que $40K\",\"menos que $40K\",\"menos que $40K\",\"menos que $40K\",\"menos que $40K\",\"menos que $40K\",\"menos que $40K\",\"menos que $40K\",\"menos que $40K\",\"menos que $40K\",\"menos que $40K\",\"menos que $40K\",\"menos que $40K\",\"menos que $40K\",\"menos que $40K\",\"menos que $40K\",\"menos que $40K\",\"menos que $40K\",\"menos que $40K\",\"menos que $40K\",\"menos que $40K\",\"menos que $40K\",\"menos que $40K\",\"menos que $40K\",\"menos que $40K\",\"menos que $40K\",\"menos que $40K\",\"menos que $40K\",\"menos que $40K\",\"menos que $40K\",\"menos que $40K\",\"menos que $40K\",\"menos que $40K\",\"menos que $40K\",\"menos que $40K\",\"menos que $40K\",\"menos que $40K\",\"menos que $40K\",\"menos que $40K\",\"menos que $40K\",\"menos que $40K\",\"menos que $40K\",\"menos que $40K\",\"menos que $40K\",\"menos que $40K\",\"menos que $40K\",\"menos que $40K\",\"menos que $40K\",\"menos que $40K\",\"menos que $40K\",\"menos que $40K\",\"menos que $40K\",\"menos que $40K\",\"menos que $40K\",\"menos que $40K\",\"menos que $40K\",\"menos que $40K\",\"menos que $40K\",\"menos que $40K\",\"menos que $40K\",\"menos que $40K\",\"menos que $40K\",\"menos que $40K\",\"menos que $40K\",\"menos que $40K\",\"menos que $40K\",\"menos que $40K\",\"menos que $40K\",\"menos que $40K\",\"menos que $40K\",\"menos que $40K\",\"menos que $40K\",\"menos que $40K\",\"menos que $40K\",\"menos que $40K\",\"menos que $40K\",\"menos que $40K\",\"menos que $40K\",\"menos que $40K\",\"menos que $40K\",\"menos que $40K\",\"menos que $40K\",\"menos que $40K\",\"menos que $40K\",\"menos que $40K\",\"menos que $40K\",\"menos que $40K\",\"menos que $40K\",\"menos que $40K\",\"menos que $40K\",\"menos que $40K\",\"menos que $40K\",\"menos que $40K\",\"menos que $40K\",\"menos que $40K\",\"menos que $40K\",\"menos que $40K\",\"menos que $40K\",\"menos que $40K\",\"menos que $40K\",\"menos que $40K\",\"menos que $40K\",\"menos que $40K\",\"menos que $40K\",\"menos que $40K\",\"menos que $40K\",\"menos que $40K\",\"menos que $40K\",\"menos que $40K\",\"menos que $40K\",\"menos que $40K\",\"menos que $40K\",\"menos que $40K\",\"menos que $40K\",\"menos que $40K\",\"menos que $40K\",\"menos que $40K\",\"menos que $40K\",\"menos que $40K\",\"menos que $40K\",\"menos que $40K\",\"menos que $40K\",\"menos que $40K\",\"menos que $40K\",\"menos que $40K\",\"menos que $40K\",\"menos que $40K\",\"menos que $40K\",\"menos que $40K\",\"menos que $40K\",\"menos que $40K\",\"menos que $40K\",\"menos que $40K\",\"menos que $40K\",\"menos que $40K\",\"menos que $40K\",\"menos que $40K\",\"menos que $40K\",\"menos que $40K\",\"menos que $40K\",\"menos que $40K\",\"menos que $40K\",\"menos que $40K\",\"menos que $40K\",\"menos que $40K\",\"menos que $40K\",\"menos que $40K\",\"menos que $40K\",\"menos que $40K\",\"menos que $40K\",\"menos que $40K\",\"menos que $40K\",\"menos que $40K\",\"menos que $40K\",\"menos que $40K\",\"menos que $40K\",\"menos que $40K\",\"menos que $40K\",\"menos que $40K\",\"menos que $40K\",\"menos que $40K\",\"menos que $40K\",\"menos que $40K\",\"menos que $40K\",\"menos que $40K\",\"menos que $40K\",\"menos que $40K\",\"menos que $40K\",\"menos que $40K\",\"menos que $40K\",\"menos que $40K\",\"menos que $40K\",\"menos que $40K\",\"menos que $40K\",\"menos que $40K\",\"menos que $40K\",\"menos que $40K\",\"menos que $40K\",\"menos que $40K\",\"menos que $40K\",\"menos que $40K\",\"menos que $40K\",\"menos que $40K\",\"menos que $40K\",\"menos que $40K\",\"menos que $40K\",\"menos que $40K\",\"menos que $40K\",\"menos que $40K\",\"menos que $40K\",\"menos que $40K\",\"menos que $40K\",\"menos que $40K\",\"menos que $40K\",\"menos que $40K\",\"menos que $40K\",\"menos que $40K\",\"menos que $40K\",\"menos que $40K\",\"menos que $40K\",\"menos que $40K\",\"menos que $40K\",\"menos que $40K\",\"menos que $40K\",\"menos que $40K\",\"menos que $40K\",\"menos que $40K\",\"menos que $40K\",\"menos que $40K\",\"menos que $40K\",\"menos que $40K\",\"menos que $40K\",\"menos que $40K\",\"menos que $40K\",\"menos que $40K\",\"menos que $40K\",\"menos que $40K\",\"menos que $40K\",\"menos que $40K\",\"menos que $40K\",\"menos que $40K\",\"menos que $40K\",\"menos que $40K\",\"menos que $40K\",\"menos que $40K\",\"menos que $40K\",\"menos que $40K\",\"menos que $40K\",\"menos que $40K\",\"menos que $40K\",\"menos que $40K\",\"menos que $40K\",\"menos que $40K\",\"menos que $40K\",\"menos que $40K\",\"menos que $40K\",\"menos que $40K\",\"menos que $40K\",\"menos que $40K\",\"menos que $40K\",\"menos que $40K\",\"menos que $40K\",\"menos que $40K\",\"menos que $40K\",\"menos que $40K\",\"menos que $40K\",\"menos que $40K\",\"menos que $40K\",\"menos que $40K\",\"menos que $40K\",\"menos que $40K\",\"menos que $40K\",\"menos que $40K\",\"menos que $40K\",\"menos que $40K\",\"menos que $40K\",\"menos que $40K\",\"menos que $40K\",\"menos que $40K\",\"menos que $40K\",\"menos que $40K\",\"menos que $40K\",\"menos que $40K\",\"menos que $40K\",\"menos que $40K\",\"menos que $40K\",\"menos que $40K\",\"menos que $40K\",\"menos que $40K\",\"menos que $40K\",\"menos que $40K\",\"menos que $40K\",\"menos que $40K\",\"menos que $40K\",\"menos que $40K\",\"menos que $40K\",\"menos que $40K\",\"menos que $40K\",\"menos que $40K\",\"menos que $40K\",\"menos que $40K\",\"menos que $40K\",\"menos que $40K\",\"menos que $40K\",\"menos que $40K\",\"menos que $40K\",\"menos que $40K\",\"menos que $40K\",\"menos que $40K\",\"menos que $40K\",\"menos que $40K\",\"menos que $40K\",\"menos que $40K\",\"menos que $40K\",\"menos que $40K\",\"menos que $40K\",\"menos que $40K\",\"menos que $40K\",\"menos que $40K\",\"menos que $40K\",\"menos que $40K\",\"menos que $40K\",\"menos que $40K\",\"menos que $40K\",\"menos que $40K\",\"menos que $40K\",\"menos que $40K\"],\"xaxis\":\"x\",\"y\":[2,2,3,2,3,1,2,0,3,2,3,2,3,2,1,2,3,3,0,2,3,2,2,2,3,2,3,2,2,2,0,3,3,2,3,2,1,2,2,2,0,3,0,2,3,0,2,3,0,3,2,3,3,2,3,2,2,3,2,3,2,3,2,1,2,2,2,0,2,0,3,2,3,4,2,3,3,2,4,2,2,4,2,2,2,3,2,2,4,3,4,3,3,4,4,2,3,3,2,3,4,2,4,3,4,4,3,2,4,4,3,3,1,4,4,2,3,2,3,2,4,4,3,3,4,3,3,2,2,4,3,3,4,2,4,4,4,2,3,4,2,4,2,3,2,3,3,4,2,4,3,3,4,4,4,3,4,3,4,3,3,2,3,1,4,1,1,3,2,2,3,3,2,0,1,1,3,5,4,1,3,1,2,2,3,2,2,3,2,2,2,0,3,4,4,3,5,2,2,4,3,3,3,1,3,5,0,1,4,4,1,3,4,4,4,3,2,3,4,0,2,4,4,2,2,4,3,3,2,1,4,1,4,2,2,3,1,4,3,4,5,2,2,4,0,4,3,4,3,1,2,4,0,4,3,2,2,3,4,2,4,3,2,1,2,3,3,3,1,2,3,4,3,1,4,3,2,1,3,3,2,3,0,0,0,2,3,5,2,2,0,4,3,4,3,2,4,3,4,2,4,2,4,4,4,3,3,4,2,4,2,2,2,0,1,0,2,2,3,4,1,4,2,1,1,1,3,3,0,3,2,3,4,4,4,3,3,4,4,1,3,3,2,5,2,2,1,1,2,2,2,1,3,4,3,2,2,1,1,4,1,3,1,2,4,4,3,4,3,3,2,3,2,2,3,3,3,3,3,1,4,3,4,2,2,3,4,2,3,3,4,4,2,2,6,3,2,2,3,0,4,4,4,3,2,3,4,2,3,4,3,4,2,3,3,0,1,4,3,4,1,4,2,3,3,2,0,4,2,2,2,1,4,3,2,4,3,4,2,2,2,4,0,1,2,2,1,4,2,4,3,3,2,3,2,2,2,2,3,3,1,4,2,4,4,2,0,4,3,1,4,4,4,4,2,4,0,3,2,5,2,4,3,4,3,4,3,2,2,4,4,2,2,2,2,4,4,3,2,1,2,3,2,1,3,3,3,3,2,2,4,3,3,3,3,2,2,5,3,3,3,2,3,3,4,3,2,0,3,3,1,3,3,3,3,3,3,2,2,5,3,3,3,0,3,3,1,1,1,3,4,2,4,1,1,2,2,2,3,3,3,3,2,3,3,2,1,2,1,3,3,4,2,3,3,1,3,3,4,3,3,0,3,3,2,2,3,3,3,3,2,1,2,3,3,3,2,3,1,1,3,3,3,2,3,3,3,1,3,2,1,1,1,3,2,2,3,2,1,3,4,2,3,2,1,3,3,2,3,3,3,1,2,2,3,2,1,3,2,3,3,2,3,2,3,3,2,1,2,1,3,3,3,3,3,3,3,1,0,3,2,1,1,2,2,3,2,2,1,3,1,2,0,3,2,2,2,3,2,3,1,2,2,0,3,2,2,3,1,1,3,2,3,1,0,1,2,2,3,1,3,0,2,1,3,3,3,2,1,2,3,3,3,2,2,1,2,1,2,2,3,2,1,3,3,2,1,2,2,2,2,0,1,2,3,4,3,2,2,2,1,2,1,0,4,2,2,2,3,3,4,2,1,2,0,1,3,2,1,1,1,3,2,2,0,2,3,3,2,3,1,2,2,2,2,3,2,1,2,1,1,2,2,5,2,1,1,6,2,1,2,3,2,3,2,2,1,2,3,2,2,3,3,3,2,2,2,2,4,1,1,3,1,3,3,1,1,5,3,1,0,3,2,3,3,3,2,2,3,1,3,2,2,3,3,2,3,2,4,3,3,1,2,2,1,3,4,3,1,2,2,3,2,2,3,4,3,2,2,2,2,1,3,4,2,1,1,4,3,1,3,1,2,3,3,3,3,2,1,2,1,1,3,1,2,2,1,3,3,1,3,3,3,1,3,3,0,0,2,2,3,1,3,3,2,3,1,1,3,3,1,3,1,3,3,1,1,3,2,2,1,1,3,1,3,1,2,3,1,1,3,2,3,3,6,3,3,3,2,1,1,3,2,2,1,1,1,3,1,2,2,1,1,3,2,1,3,1,1,2,2,1,1,2,2,3,3,3,3,3,2,4,4,3,2,3,3,3,3,2,2,2,4,6,4,3,3,3,2,2,3,5,4],\"yaxis\":\"y\",\"type\":\"histogram\"},{\"alignmentgroup\":\"True\",\"bingroup\":\"x\",\"histfunc\":\"sum\",\"hovertemplate\":\"tipo_cartao=silver\\u003cbr\\u003esalario_anual=%{x}\\u003cbr\\u003esum of iteracoes_12m=%{y}\\u003cextra\\u003e\\u003c\\u002fextra\\u003e\",\"legendgroup\":\"silver\",\"marker\":{\"color\":\"#EF553B\",\"pattern\":{\"shape\":\"\"}},\"name\":\"silver\",\"offsetgroup\":\"silver\",\"orientation\":\"v\",\"showlegend\":true,\"texttemplate\":\"%{value}\",\"x\":[\"menos que $40K\",\"menos que $40K\",\"menos que $40K\",\"menos que $40K\",\"menos que $40K\",\"menos que $40K\",\"menos que $40K\",\"menos que $40K\",\"menos que $40K\",\"menos que $40K\",\"menos que $40K\",\"menos que $40K\",\"menos que $40K\",\"menos que $40K\",\"menos que $40K\",\"menos que $40K\",\"menos que $40K\",\"menos que $40K\",\"menos que $40K\",\"menos que $40K\",\"menos que $40K\",\"menos que $40K\",\"menos que $40K\",\"menos que $40K\",\"menos que $40K\",\"menos que $40K\",\"menos que $40K\",\"menos que $40K\",\"menos que $40K\",\"menos que $40K\",\"menos que $40K\",\"menos que $40K\",\"menos que $40K\",\"menos que $40K\",\"menos que $40K\",\"menos que $40K\"],\"xaxis\":\"x\",\"y\":[0,2,1,2,2,2,3,4,4,2,2,2,3,3,2,2,1,2,3,2,2,2,3,1,2,1,2,3,2,2,1,1,3,3,3,4],\"yaxis\":\"y\",\"type\":\"histogram\"},{\"alignmentgroup\":\"True\",\"bingroup\":\"x\",\"histfunc\":\"sum\",\"hovertemplate\":\"tipo_cartao=gold\\u003cbr\\u003esalario_anual=%{x}\\u003cbr\\u003esum of iteracoes_12m=%{y}\\u003cextra\\u003e\\u003c\\u002fextra\\u003e\",\"legendgroup\":\"gold\",\"marker\":{\"color\":\"#00cc96\",\"pattern\":{\"shape\":\"\"}},\"name\":\"gold\",\"offsetgroup\":\"gold\",\"orientation\":\"v\",\"showlegend\":true,\"texttemplate\":\"%{value}\",\"x\":[\"menos que $40K\",\"menos que $40K\",\"menos que $40K\",\"menos que $40K\",\"menos que $40K\",\"menos que $40K\",\"menos que $40K\",\"menos que $40K\",\"menos que $40K\"],\"xaxis\":\"x\",\"y\":[2,3,4,3,1,2,2,2,1],\"yaxis\":\"y\",\"type\":\"histogram\"},{\"alignmentgroup\":\"True\",\"bingroup\":\"x\",\"histfunc\":\"sum\",\"hovertemplate\":\"tipo_cartao=platinum\\u003cbr\\u003esalario_anual=%{x}\\u003cbr\\u003esum of iteracoes_12m=%{y}\\u003cextra\\u003e\\u003c\\u002fextra\\u003e\",\"legendgroup\":\"platinum\",\"marker\":{\"color\":\"#ab63fa\",\"pattern\":{\"shape\":\"\"}},\"name\":\"platinum\",\"offsetgroup\":\"platinum\",\"orientation\":\"v\",\"showlegend\":true,\"texttemplate\":\"%{value}\",\"x\":[\"menos que $40K\"],\"xaxis\":\"x\",\"y\":[4],\"yaxis\":\"y\",\"type\":\"histogram\"}],                        {\"template\":{\"data\":{\"histogram2dcontour\":[{\"type\":\"histogram2dcontour\",\"colorbar\":{\"outlinewidth\":0,\"ticks\":\"\"},\"colorscale\":[[0.0,\"#0d0887\"],[0.1111111111111111,\"#46039f\"],[0.2222222222222222,\"#7201a8\"],[0.3333333333333333,\"#9c179e\"],[0.4444444444444444,\"#bd3786\"],[0.5555555555555556,\"#d8576b\"],[0.6666666666666666,\"#ed7953\"],[0.7777777777777778,\"#fb9f3a\"],[0.8888888888888888,\"#fdca26\"],[1.0,\"#f0f921\"]]}],\"choropleth\":[{\"type\":\"choropleth\",\"colorbar\":{\"outlinewidth\":0,\"ticks\":\"\"}}],\"histogram2d\":[{\"type\":\"histogram2d\",\"colorbar\":{\"outlinewidth\":0,\"ticks\":\"\"},\"colorscale\":[[0.0,\"#0d0887\"],[0.1111111111111111,\"#46039f\"],[0.2222222222222222,\"#7201a8\"],[0.3333333333333333,\"#9c179e\"],[0.4444444444444444,\"#bd3786\"],[0.5555555555555556,\"#d8576b\"],[0.6666666666666666,\"#ed7953\"],[0.7777777777777778,\"#fb9f3a\"],[0.8888888888888888,\"#fdca26\"],[1.0,\"#f0f921\"]]}],\"heatmap\":[{\"type\":\"heatmap\",\"colorbar\":{\"outlinewidth\":0,\"ticks\":\"\"},\"colorscale\":[[0.0,\"#0d0887\"],[0.1111111111111111,\"#46039f\"],[0.2222222222222222,\"#7201a8\"],[0.3333333333333333,\"#9c179e\"],[0.4444444444444444,\"#bd3786\"],[0.5555555555555556,\"#d8576b\"],[0.6666666666666666,\"#ed7953\"],[0.7777777777777778,\"#fb9f3a\"],[0.8888888888888888,\"#fdca26\"],[1.0,\"#f0f921\"]]}],\"heatmapgl\":[{\"type\":\"heatmapgl\",\"colorbar\":{\"outlinewidth\":0,\"ticks\":\"\"},\"colorscale\":[[0.0,\"#0d0887\"],[0.1111111111111111,\"#46039f\"],[0.2222222222222222,\"#7201a8\"],[0.3333333333333333,\"#9c179e\"],[0.4444444444444444,\"#bd3786\"],[0.5555555555555556,\"#d8576b\"],[0.6666666666666666,\"#ed7953\"],[0.7777777777777778,\"#fb9f3a\"],[0.8888888888888888,\"#fdca26\"],[1.0,\"#f0f921\"]]}],\"contourcarpet\":[{\"type\":\"contourcarpet\",\"colorbar\":{\"outlinewidth\":0,\"ticks\":\"\"}}],\"contour\":[{\"type\":\"contour\",\"colorbar\":{\"outlinewidth\":0,\"ticks\":\"\"},\"colorscale\":[[0.0,\"#0d0887\"],[0.1111111111111111,\"#46039f\"],[0.2222222222222222,\"#7201a8\"],[0.3333333333333333,\"#9c179e\"],[0.4444444444444444,\"#bd3786\"],[0.5555555555555556,\"#d8576b\"],[0.6666666666666666,\"#ed7953\"],[0.7777777777777778,\"#fb9f3a\"],[0.8888888888888888,\"#fdca26\"],[1.0,\"#f0f921\"]]}],\"surface\":[{\"type\":\"surface\",\"colorbar\":{\"outlinewidth\":0,\"ticks\":\"\"},\"colorscale\":[[0.0,\"#0d0887\"],[0.1111111111111111,\"#46039f\"],[0.2222222222222222,\"#7201a8\"],[0.3333333333333333,\"#9c179e\"],[0.4444444444444444,\"#bd3786\"],[0.5555555555555556,\"#d8576b\"],[0.6666666666666666,\"#ed7953\"],[0.7777777777777778,\"#fb9f3a\"],[0.8888888888888888,\"#fdca26\"],[1.0,\"#f0f921\"]]}],\"mesh3d\":[{\"type\":\"mesh3d\",\"colorbar\":{\"outlinewidth\":0,\"ticks\":\"\"}}],\"scatter\":[{\"fillpattern\":{\"fillmode\":\"overlay\",\"size\":10,\"solidity\":0.2},\"type\":\"scatter\"}],\"parcoords\":[{\"type\":\"parcoords\",\"line\":{\"colorbar\":{\"outlinewidth\":0,\"ticks\":\"\"}}}],\"scatterpolargl\":[{\"type\":\"scatterpolargl\",\"marker\":{\"colorbar\":{\"outlinewidth\":0,\"ticks\":\"\"}}}],\"bar\":[{\"error_x\":{\"color\":\"#2a3f5f\"},\"error_y\":{\"color\":\"#2a3f5f\"},\"marker\":{\"line\":{\"color\":\"#E5ECF6\",\"width\":0.5},\"pattern\":{\"fillmode\":\"overlay\",\"size\":10,\"solidity\":0.2}},\"type\":\"bar\"}],\"scattergeo\":[{\"type\":\"scattergeo\",\"marker\":{\"colorbar\":{\"outlinewidth\":0,\"ticks\":\"\"}}}],\"scatterpolar\":[{\"type\":\"scatterpolar\",\"marker\":{\"colorbar\":{\"outlinewidth\":0,\"ticks\":\"\"}}}],\"histogram\":[{\"marker\":{\"pattern\":{\"fillmode\":\"overlay\",\"size\":10,\"solidity\":0.2}},\"type\":\"histogram\"}],\"scattergl\":[{\"type\":\"scattergl\",\"marker\":{\"colorbar\":{\"outlinewidth\":0,\"ticks\":\"\"}}}],\"scatter3d\":[{\"type\":\"scatter3d\",\"line\":{\"colorbar\":{\"outlinewidth\":0,\"ticks\":\"\"}},\"marker\":{\"colorbar\":{\"outlinewidth\":0,\"ticks\":\"\"}}}],\"scattermapbox\":[{\"type\":\"scattermapbox\",\"marker\":{\"colorbar\":{\"outlinewidth\":0,\"ticks\":\"\"}}}],\"scatterternary\":[{\"type\":\"scatterternary\",\"marker\":{\"colorbar\":{\"outlinewidth\":0,\"ticks\":\"\"}}}],\"scattercarpet\":[{\"type\":\"scattercarpet\",\"marker\":{\"colorbar\":{\"outlinewidth\":0,\"ticks\":\"\"}}}],\"carpet\":[{\"aaxis\":{\"endlinecolor\":\"#2a3f5f\",\"gridcolor\":\"white\",\"linecolor\":\"white\",\"minorgridcolor\":\"white\",\"startlinecolor\":\"#2a3f5f\"},\"baxis\":{\"endlinecolor\":\"#2a3f5f\",\"gridcolor\":\"white\",\"linecolor\":\"white\",\"minorgridcolor\":\"white\",\"startlinecolor\":\"#2a3f5f\"},\"type\":\"carpet\"}],\"table\":[{\"cells\":{\"fill\":{\"color\":\"#EBF0F8\"},\"line\":{\"color\":\"white\"}},\"header\":{\"fill\":{\"color\":\"#C8D4E3\"},\"line\":{\"color\":\"white\"}},\"type\":\"table\"}],\"barpolar\":[{\"marker\":{\"line\":{\"color\":\"#E5ECF6\",\"width\":0.5},\"pattern\":{\"fillmode\":\"overlay\",\"size\":10,\"solidity\":0.2}},\"type\":\"barpolar\"}],\"pie\":[{\"automargin\":true,\"type\":\"pie\"}]},\"layout\":{\"autotypenumbers\":\"strict\",\"colorway\":[\"#636efa\",\"#EF553B\",\"#00cc96\",\"#ab63fa\",\"#FFA15A\",\"#19d3f3\",\"#FF6692\",\"#B6E880\",\"#FF97FF\",\"#FECB52\"],\"font\":{\"color\":\"#2a3f5f\"},\"hovermode\":\"closest\",\"hoverlabel\":{\"align\":\"left\"},\"paper_bgcolor\":\"white\",\"plot_bgcolor\":\"#E5ECF6\",\"polar\":{\"bgcolor\":\"#E5ECF6\",\"angularaxis\":{\"gridcolor\":\"white\",\"linecolor\":\"white\",\"ticks\":\"\"},\"radialaxis\":{\"gridcolor\":\"white\",\"linecolor\":\"white\",\"ticks\":\"\"}},\"ternary\":{\"bgcolor\":\"#E5ECF6\",\"aaxis\":{\"gridcolor\":\"white\",\"linecolor\":\"white\",\"ticks\":\"\"},\"baxis\":{\"gridcolor\":\"white\",\"linecolor\":\"white\",\"ticks\":\"\"},\"caxis\":{\"gridcolor\":\"white\",\"linecolor\":\"white\",\"ticks\":\"\"}},\"coloraxis\":{\"colorbar\":{\"outlinewidth\":0,\"ticks\":\"\"}},\"colorscale\":{\"sequential\":[[0.0,\"#0d0887\"],[0.1111111111111111,\"#46039f\"],[0.2222222222222222,\"#7201a8\"],[0.3333333333333333,\"#9c179e\"],[0.4444444444444444,\"#bd3786\"],[0.5555555555555556,\"#d8576b\"],[0.6666666666666666,\"#ed7953\"],[0.7777777777777778,\"#fb9f3a\"],[0.8888888888888888,\"#fdca26\"],[1.0,\"#f0f921\"]],\"sequentialminus\":[[0.0,\"#0d0887\"],[0.1111111111111111,\"#46039f\"],[0.2222222222222222,\"#7201a8\"],[0.3333333333333333,\"#9c179e\"],[0.4444444444444444,\"#bd3786\"],[0.5555555555555556,\"#d8576b\"],[0.6666666666666666,\"#ed7953\"],[0.7777777777777778,\"#fb9f3a\"],[0.8888888888888888,\"#fdca26\"],[1.0,\"#f0f921\"]],\"diverging\":[[0,\"#8e0152\"],[0.1,\"#c51b7d\"],[0.2,\"#de77ae\"],[0.3,\"#f1b6da\"],[0.4,\"#fde0ef\"],[0.5,\"#f7f7f7\"],[0.6,\"#e6f5d0\"],[0.7,\"#b8e186\"],[0.8,\"#7fbc41\"],[0.9,\"#4d9221\"],[1,\"#276419\"]]},\"xaxis\":{\"gridcolor\":\"white\",\"linecolor\":\"white\",\"ticks\":\"\",\"title\":{\"standoff\":15},\"zerolinecolor\":\"white\",\"automargin\":true,\"zerolinewidth\":2},\"yaxis\":{\"gridcolor\":\"white\",\"linecolor\":\"white\",\"ticks\":\"\",\"title\":{\"standoff\":15},\"zerolinecolor\":\"white\",\"automargin\":true,\"zerolinewidth\":2},\"scene\":{\"xaxis\":{\"backgroundcolor\":\"#E5ECF6\",\"gridcolor\":\"white\",\"linecolor\":\"white\",\"showbackground\":true,\"ticks\":\"\",\"zerolinecolor\":\"white\",\"gridwidth\":2},\"yaxis\":{\"backgroundcolor\":\"#E5ECF6\",\"gridcolor\":\"white\",\"linecolor\":\"white\",\"showbackground\":true,\"ticks\":\"\",\"zerolinecolor\":\"white\",\"gridwidth\":2},\"zaxis\":{\"backgroundcolor\":\"#E5ECF6\",\"gridcolor\":\"white\",\"linecolor\":\"white\",\"showbackground\":true,\"ticks\":\"\",\"zerolinecolor\":\"white\",\"gridwidth\":2}},\"shapedefaults\":{\"line\":{\"color\":\"#2a3f5f\"}},\"annotationdefaults\":{\"arrowcolor\":\"#2a3f5f\",\"arrowhead\":0,\"arrowwidth\":1},\"geo\":{\"bgcolor\":\"white\",\"landcolor\":\"#E5ECF6\",\"subunitcolor\":\"white\",\"showland\":true,\"showlakes\":true,\"lakecolor\":\"white\"},\"title\":{\"x\":0.05},\"mapbox\":{\"style\":\"light\"}}},\"xaxis\":{\"anchor\":\"y\",\"domain\":[0.0,1.0],\"title\":{\"text\":\"salario_anual\"}},\"yaxis\":{\"anchor\":\"x\",\"domain\":[0.0,1.0],\"title\":{\"text\":\"sum of iteracoes_12m\"}},\"legend\":{\"title\":{\"text\":\"tipo_cartao\"},\"tracegroupgap\":0},\"margin\":{\"t\":60},\"barmode\":\"relative\"},                        {\"responsive\": true}                    ).then(function(){\n",
              "                            \n",
              "var gd = document.getElementById('c840baba-4c1b-4bab-b018-f0baadc15436');\n",
              "var x = new MutationObserver(function (mutations, observer) {{\n",
              "        var display = window.getComputedStyle(gd).display;\n",
              "        if (!display || display === 'none') {{\n",
              "            console.log([gd, 'removed!']);\n",
              "            Plotly.purge(gd);\n",
              "            observer.disconnect();\n",
              "        }}\n",
              "}});\n",
              "\n",
              "// Listen for the removal of the full notebook cells\n",
              "var notebookContainer = gd.closest('#notebook-container');\n",
              "if (notebookContainer) {{\n",
              "    x.observe(notebookContainer, {childList: true});\n",
              "}}\n",
              "\n",
              "// Listen for the clearing of the current output cell\n",
              "var outputEl = gd.closest('.output');\n",
              "if (outputEl) {{\n",
              "    x.observe(outputEl, {childList: true});\n",
              "}}\n",
              "\n",
              "                        })                };                            </script>        </div>\n",
              "</body>\n",
              "</html>"
            ]
          },
          "metadata": {}
        }
      ]
    },
    {
      "cell_type": "code",
      "source": [
        "#Análise das interações por ano - Feminino com mestrado e renda anual <40k\n",
        "analise_rendaM = dados.query(\"escolaridade=='mestrado' and sexo=='M' and salario_anual.isin(['$60K - $80K', '$80K - $120K'])\")\n"
      ],
      "metadata": {
        "id": "er2-OKXJqFUQ"
      },
      "execution_count": 46,
      "outputs": []
    },
    {
      "cell_type": "code",
      "source": [
        "# Crie o gráfico de barras\n",
        "px.histogram(analise_rendaM, x='salario_anual', y='iteracoes_12m',color='tipo_cartao', text_auto=True)\n"
      ],
      "metadata": {
        "colab": {
          "base_uri": "https://localhost:8080/",
          "height": 542
        },
        "id": "BaMei-pJrjAh",
        "outputId": "ebb7f033-f602-4986-8003-e09edb9dcc5c"
      },
      "execution_count": 50,
      "outputs": [
        {
          "output_type": "display_data",
          "data": {
            "text/html": [
              "<html>\n",
              "<head><meta charset=\"utf-8\" /></head>\n",
              "<body>\n",
              "    <div>            <script src=\"https://cdnjs.cloudflare.com/ajax/libs/mathjax/2.7.5/MathJax.js?config=TeX-AMS-MML_SVG\"></script><script type=\"text/javascript\">if (window.MathJax && window.MathJax.Hub && window.MathJax.Hub.Config) {window.MathJax.Hub.Config({SVG: {font: \"STIX-Web\"}});}</script>                <script type=\"text/javascript\">window.PlotlyConfig = {MathJaxConfig: 'local'};</script>\n",
              "        <script charset=\"utf-8\" src=\"https://cdn.plot.ly/plotly-2.24.1.min.js\"></script>                <div id=\"42050121-1a01-4113-9eff-73552d0ece82\" class=\"plotly-graph-div\" style=\"height:525px; width:100%;\"></div>            <script type=\"text/javascript\">                                    window.PLOTLYENV=window.PLOTLYENV || {};                                    if (document.getElementById(\"42050121-1a01-4113-9eff-73552d0ece82\")) {                    Plotly.newPlot(                        \"42050121-1a01-4113-9eff-73552d0ece82\",                        [{\"alignmentgroup\":\"True\",\"bingroup\":\"x\",\"histfunc\":\"sum\",\"hovertemplate\":\"tipo_cartao=blue\\u003cbr\\u003esalario_anual=%{x}\\u003cbr\\u003esum of iteracoes_12m=%{y}\\u003cextra\\u003e\\u003c\\u002fextra\\u003e\",\"legendgroup\":\"blue\",\"marker\":{\"color\":\"#636efa\",\"pattern\":{\"shape\":\"\"}},\"name\":\"blue\",\"offsetgroup\":\"blue\",\"orientation\":\"v\",\"showlegend\":true,\"texttemplate\":\"%{value}\",\"x\":[\"$80K - $120K\",\"$80K - $120K\",\"$60K - $80K\",\"$60K - $80K\",\"$80K - $120K\",\"$80K - $120K\",\"$60K - $80K\",\"$60K - $80K\",\"$80K - $120K\",\"$60K - $80K\",\"$80K - $120K\",\"$60K - $80K\",\"$80K - $120K\",\"$60K - $80K\",\"$80K - $120K\",\"$60K - $80K\",\"$80K - $120K\",\"$80K - $120K\",\"$60K - $80K\",\"$80K - $120K\",\"$80K - $120K\",\"$80K - $120K\",\"$80K - $120K\",\"$80K - $120K\",\"$80K - $120K\",\"$60K - $80K\",\"$60K - $80K\",\"$80K - $120K\",\"$80K - $120K\",\"$60K - $80K\",\"$80K - $120K\",\"$80K - $120K\",\"$80K - $120K\",\"$60K - $80K\",\"$60K - $80K\",\"$80K - $120K\",\"$60K - $80K\",\"$60K - $80K\",\"$80K - $120K\",\"$60K - $80K\",\"$80K - $120K\",\"$80K - $120K\",\"$60K - $80K\",\"$80K - $120K\",\"$80K - $120K\",\"$80K - $120K\",\"$60K - $80K\",\"$60K - $80K\",\"$60K - $80K\",\"$80K - $120K\",\"$80K - $120K\",\"$80K - $120K\",\"$60K - $80K\",\"$80K - $120K\",\"$60K - $80K\",\"$60K - $80K\",\"$60K - $80K\",\"$80K - $120K\",\"$80K - $120K\",\"$80K - $120K\",\"$60K - $80K\",\"$60K - $80K\",\"$60K - $80K\",\"$80K - $120K\",\"$60K - $80K\",\"$60K - $80K\",\"$80K - $120K\",\"$60K - $80K\",\"$80K - $120K\",\"$60K - $80K\",\"$60K - $80K\",\"$60K - $80K\",\"$80K - $120K\",\"$80K - $120K\",\"$60K - $80K\",\"$80K - $120K\",\"$80K - $120K\",\"$80K - $120K\",\"$80K - $120K\",\"$80K - $120K\",\"$60K - $80K\",\"$60K - $80K\",\"$80K - $120K\",\"$60K - $80K\",\"$60K - $80K\",\"$60K - $80K\",\"$80K - $120K\",\"$80K - $120K\",\"$60K - $80K\",\"$60K - $80K\",\"$80K - $120K\",\"$80K - $120K\",\"$60K - $80K\",\"$80K - $120K\",\"$80K - $120K\",\"$60K - $80K\",\"$80K - $120K\",\"$80K - $120K\",\"$60K - $80K\",\"$80K - $120K\",\"$60K - $80K\",\"$60K - $80K\",\"$80K - $120K\",\"$80K - $120K\",\"$80K - $120K\",\"$80K - $120K\",\"$80K - $120K\",\"$60K - $80K\",\"$60K - $80K\",\"$60K - $80K\",\"$60K - $80K\",\"$60K - $80K\",\"$60K - $80K\",\"$80K - $120K\",\"$80K - $120K\",\"$80K - $120K\",\"$80K - $120K\",\"$80K - $120K\",\"$80K - $120K\",\"$80K - $120K\",\"$80K - $120K\",\"$80K - $120K\",\"$80K - $120K\",\"$80K - $120K\",\"$80K - $120K\",\"$80K - $120K\",\"$80K - $120K\",\"$80K - $120K\",\"$80K - $120K\",\"$80K - $120K\",\"$80K - $120K\",\"$60K - $80K\",\"$60K - $80K\",\"$60K - $80K\",\"$80K - $120K\",\"$60K - $80K\",\"$60K - $80K\",\"$80K - $120K\",\"$60K - $80K\",\"$60K - $80K\",\"$60K - $80K\",\"$80K - $120K\",\"$60K - $80K\",\"$60K - $80K\",\"$80K - $120K\",\"$80K - $120K\",\"$80K - $120K\",\"$60K - $80K\",\"$60K - $80K\",\"$80K - $120K\",\"$60K - $80K\",\"$60K - $80K\",\"$60K - $80K\",\"$60K - $80K\",\"$60K - $80K\",\"$60K - $80K\",\"$80K - $120K\",\"$60K - $80K\",\"$80K - $120K\",\"$60K - $80K\",\"$80K - $120K\",\"$80K - $120K\",\"$60K - $80K\",\"$80K - $120K\",\"$60K - $80K\",\"$60K - $80K\",\"$60K - $80K\",\"$80K - $120K\",\"$60K - $80K\",\"$60K - $80K\",\"$80K - $120K\",\"$80K - $120K\",\"$80K - $120K\",\"$60K - $80K\",\"$60K - $80K\",\"$80K - $120K\",\"$60K - $80K\",\"$80K - $120K\",\"$60K - $80K\",\"$80K - $120K\",\"$60K - $80K\",\"$60K - $80K\",\"$60K - $80K\",\"$60K - $80K\",\"$60K - $80K\",\"$60K - $80K\",\"$80K - $120K\",\"$80K - $120K\",\"$80K - $120K\",\"$80K - $120K\",\"$80K - $120K\",\"$80K - $120K\",\"$60K - $80K\",\"$80K - $120K\",\"$60K - $80K\",\"$80K - $120K\",\"$60K - $80K\",\"$60K - $80K\",\"$80K - $120K\",\"$80K - $120K\",\"$80K - $120K\",\"$60K - $80K\",\"$80K - $120K\",\"$80K - $120K\",\"$80K - $120K\",\"$80K - $120K\",\"$80K - $120K\",\"$60K - $80K\",\"$60K - $80K\",\"$80K - $120K\",\"$80K - $120K\",\"$60K - $80K\",\"$80K - $120K\",\"$80K - $120K\",\"$80K - $120K\",\"$80K - $120K\",\"$60K - $80K\",\"$60K - $80K\",\"$80K - $120K\",\"$80K - $120K\",\"$80K - $120K\",\"$60K - $80K\",\"$80K - $120K\",\"$80K - $120K\",\"$80K - $120K\",\"$80K - $120K\",\"$60K - $80K\",\"$60K - $80K\",\"$60K - $80K\",\"$60K - $80K\",\"$60K - $80K\",\"$60K - $80K\",\"$80K - $120K\",\"$60K - $80K\",\"$80K - $120K\",\"$80K - $120K\",\"$80K - $120K\",\"$80K - $120K\",\"$60K - $80K\",\"$80K - $120K\",\"$60K - $80K\",\"$80K - $120K\",\"$80K - $120K\",\"$80K - $120K\",\"$60K - $80K\",\"$80K - $120K\",\"$60K - $80K\",\"$80K - $120K\",\"$60K - $80K\",\"$80K - $120K\",\"$80K - $120K\",\"$80K - $120K\",\"$60K - $80K\",\"$60K - $80K\",\"$60K - $80K\",\"$60K - $80K\",\"$80K - $120K\",\"$60K - $80K\",\"$80K - $120K\",\"$80K - $120K\",\"$60K - $80K\",\"$60K - $80K\",\"$80K - $120K\",\"$60K - $80K\",\"$80K - $120K\",\"$80K - $120K\",\"$60K - $80K\",\"$60K - $80K\",\"$80K - $120K\",\"$60K - $80K\",\"$60K - $80K\",\"$80K - $120K\",\"$60K - $80K\",\"$80K - $120K\",\"$80K - $120K\",\"$60K - $80K\",\"$80K - $120K\",\"$80K - $120K\",\"$80K - $120K\",\"$60K - $80K\",\"$60K - $80K\",\"$60K - $80K\",\"$80K - $120K\",\"$60K - $80K\",\"$60K - $80K\",\"$60K - $80K\",\"$80K - $120K\",\"$80K - $120K\",\"$80K - $120K\",\"$80K - $120K\",\"$60K - $80K\",\"$80K - $120K\",\"$60K - $80K\",\"$60K - $80K\",\"$60K - $80K\",\"$60K - $80K\",\"$60K - $80K\",\"$80K - $120K\",\"$80K - $120K\",\"$80K - $120K\",\"$80K - $120K\",\"$80K - $120K\",\"$80K - $120K\",\"$80K - $120K\",\"$80K - $120K\",\"$80K - $120K\",\"$80K - $120K\",\"$60K - $80K\",\"$60K - $80K\",\"$80K - $120K\",\"$60K - $80K\",\"$80K - $120K\",\"$80K - $120K\",\"$80K - $120K\",\"$80K - $120K\",\"$60K - $80K\",\"$60K - $80K\",\"$60K - $80K\",\"$80K - $120K\",\"$80K - $120K\",\"$60K - $80K\",\"$80K - $120K\",\"$60K - $80K\",\"$80K - $120K\",\"$60K - $80K\",\"$80K - $120K\",\"$60K - $80K\",\"$80K - $120K\",\"$60K - $80K\",\"$80K - $120K\",\"$60K - $80K\",\"$80K - $120K\",\"$80K - $120K\",\"$60K - $80K\",\"$60K - $80K\",\"$80K - $120K\",\"$80K - $120K\",\"$60K - $80K\",\"$60K - $80K\",\"$60K - $80K\",\"$80K - $120K\",\"$60K - $80K\",\"$80K - $120K\",\"$60K - $80K\",\"$60K - $80K\",\"$60K - $80K\",\"$80K - $120K\",\"$80K - $120K\",\"$80K - $120K\",\"$60K - $80K\",\"$60K - $80K\",\"$80K - $120K\",\"$80K - $120K\",\"$60K - $80K\",\"$60K - $80K\",\"$60K - $80K\",\"$60K - $80K\",\"$80K - $120K\",\"$80K - $120K\",\"$60K - $80K\",\"$80K - $120K\",\"$80K - $120K\",\"$80K - $120K\",\"$60K - $80K\",\"$80K - $120K\",\"$80K - $120K\",\"$80K - $120K\",\"$80K - $120K\",\"$80K - $120K\",\"$60K - $80K\",\"$60K - $80K\",\"$60K - $80K\",\"$80K - $120K\",\"$60K - $80K\",\"$80K - $120K\",\"$80K - $120K\",\"$60K - $80K\",\"$80K - $120K\",\"$60K - $80K\",\"$80K - $120K\",\"$60K - $80K\",\"$80K - $120K\",\"$60K - $80K\",\"$60K - $80K\",\"$80K - $120K\",\"$60K - $80K\",\"$80K - $120K\",\"$60K - $80K\",\"$80K - $120K\",\"$60K - $80K\",\"$80K - $120K\",\"$80K - $120K\",\"$80K - $120K\",\"$80K - $120K\",\"$80K - $120K\",\"$60K - $80K\",\"$80K - $120K\",\"$60K - $80K\",\"$80K - $120K\",\"$60K - $80K\",\"$60K - $80K\",\"$80K - $120K\",\"$80K - $120K\",\"$60K - $80K\",\"$60K - $80K\",\"$60K - $80K\",\"$60K - $80K\",\"$80K - $120K\",\"$80K - $120K\",\"$60K - $80K\",\"$60K - $80K\",\"$60K - $80K\",\"$60K - $80K\",\"$60K - $80K\",\"$80K - $120K\",\"$80K - $120K\",\"$80K - $120K\",\"$60K - $80K\",\"$80K - $120K\",\"$60K - $80K\",\"$60K - $80K\",\"$60K - $80K\",\"$80K - $120K\",\"$60K - $80K\",\"$80K - $120K\",\"$60K - $80K\",\"$80K - $120K\",\"$60K - $80K\",\"$60K - $80K\",\"$60K - $80K\",\"$80K - $120K\",\"$80K - $120K\",\"$60K - $80K\",\"$80K - $120K\",\"$80K - $120K\",\"$60K - $80K\",\"$60K - $80K\",\"$60K - $80K\",\"$60K - $80K\",\"$60K - $80K\",\"$80K - $120K\",\"$60K - $80K\",\"$80K - $120K\",\"$60K - $80K\",\"$80K - $120K\",\"$80K - $120K\",\"$80K - $120K\",\"$60K - $80K\",\"$80K - $120K\",\"$60K - $80K\",\"$60K - $80K\",\"$80K - $120K\",\"$60K - $80K\",\"$80K - $120K\",\"$80K - $120K\",\"$80K - $120K\",\"$60K - $80K\",\"$60K - $80K\",\"$80K - $120K\",\"$80K - $120K\",\"$60K - $80K\",\"$80K - $120K\",\"$80K - $120K\",\"$60K - $80K\",\"$60K - $80K\",\"$80K - $120K\",\"$80K - $120K\",\"$60K - $80K\",\"$80K - $120K\",\"$60K - $80K\",\"$80K - $120K\",\"$80K - $120K\",\"$80K - $120K\",\"$60K - $80K\",\"$60K - $80K\",\"$80K - $120K\",\"$60K - $80K\",\"$80K - $120K\",\"$80K - $120K\",\"$80K - $120K\",\"$60K - $80K\",\"$80K - $120K\",\"$80K - $120K\",\"$80K - $120K\",\"$60K - $80K\",\"$60K - $80K\",\"$80K - $120K\",\"$80K - $120K\",\"$80K - $120K\",\"$80K - $120K\",\"$60K - $80K\",\"$60K - $80K\",\"$80K - $120K\",\"$80K - $120K\",\"$80K - $120K\",\"$60K - $80K\",\"$60K - $80K\",\"$60K - $80K\",\"$60K - $80K\",\"$80K - $120K\",\"$60K - $80K\",\"$80K - $120K\",\"$60K - $80K\",\"$60K - $80K\",\"$80K - $120K\",\"$80K - $120K\",\"$60K - $80K\",\"$80K - $120K\",\"$80K - $120K\",\"$80K - $120K\",\"$60K - $80K\",\"$80K - $120K\",\"$80K - $120K\",\"$80K - $120K\",\"$80K - $120K\",\"$80K - $120K\",\"$60K - $80K\",\"$80K - $120K\",\"$80K - $120K\",\"$80K - $120K\",\"$80K - $120K\",\"$60K - $80K\",\"$80K - $120K\",\"$80K - $120K\",\"$80K - $120K\",\"$80K - $120K\",\"$60K - $80K\",\"$80K - $120K\",\"$80K - $120K\",\"$60K - $80K\",\"$80K - $120K\",\"$60K - $80K\",\"$80K - $120K\",\"$60K - $80K\",\"$80K - $120K\",\"$60K - $80K\",\"$80K - $120K\",\"$60K - $80K\",\"$60K - $80K\",\"$60K - $80K\",\"$80K - $120K\",\"$60K - $80K\",\"$60K - $80K\",\"$80K - $120K\",\"$80K - $120K\",\"$80K - $120K\",\"$60K - $80K\",\"$60K - $80K\",\"$80K - $120K\",\"$60K - $80K\",\"$60K - $80K\",\"$60K - $80K\",\"$60K - $80K\",\"$60K - $80K\",\"$80K - $120K\",\"$60K - $80K\",\"$80K - $120K\",\"$60K - $80K\",\"$80K - $120K\",\"$60K - $80K\",\"$60K - $80K\",\"$80K - $120K\",\"$80K - $120K\",\"$80K - $120K\",\"$80K - $120K\",\"$80K - $120K\",\"$60K - $80K\",\"$80K - $120K\",\"$60K - $80K\",\"$60K - $80K\",\"$80K - $120K\",\"$80K - $120K\",\"$60K - $80K\",\"$80K - $120K\",\"$60K - $80K\",\"$60K - $80K\",\"$80K - $120K\",\"$80K - $120K\",\"$60K - $80K\",\"$60K - $80K\",\"$80K - $120K\",\"$80K - $120K\",\"$60K - $80K\",\"$60K - $80K\",\"$80K - $120K\",\"$60K - $80K\",\"$80K - $120K\",\"$80K - $120K\",\"$60K - $80K\",\"$60K - $80K\",\"$80K - $120K\",\"$60K - $80K\",\"$80K - $120K\",\"$60K - $80K\",\"$80K - $120K\",\"$60K - $80K\",\"$60K - $80K\",\"$60K - $80K\",\"$80K - $120K\",\"$80K - $120K\",\"$80K - $120K\",\"$60K - $80K\",\"$60K - $80K\",\"$60K - $80K\",\"$60K - $80K\",\"$60K - $80K\",\"$60K - $80K\",\"$80K - $120K\",\"$80K - $120K\",\"$60K - $80K\",\"$80K - $120K\",\"$60K - $80K\",\"$80K - $120K\",\"$80K - $120K\",\"$80K - $120K\",\"$80K - $120K\",\"$60K - $80K\",\"$60K - $80K\",\"$80K - $120K\",\"$80K - $120K\",\"$60K - $80K\",\"$80K - $120K\",\"$80K - $120K\",\"$60K - $80K\",\"$60K - $80K\",\"$60K - $80K\",\"$60K - $80K\",\"$60K - $80K\",\"$60K - $80K\",\"$60K - $80K\",\"$80K - $120K\",\"$60K - $80K\",\"$60K - $80K\",\"$80K - $120K\",\"$60K - $80K\",\"$80K - $120K\",\"$60K - $80K\",\"$80K - $120K\",\"$60K - $80K\",\"$60K - $80K\",\"$60K - $80K\",\"$80K - $120K\",\"$80K - $120K\",\"$80K - $120K\",\"$80K - $120K\",\"$80K - $120K\",\"$80K - $120K\",\"$60K - $80K\",\"$80K - $120K\",\"$80K - $120K\",\"$80K - $120K\",\"$80K - $120K\",\"$60K - $80K\",\"$80K - $120K\",\"$80K - $120K\",\"$80K - $120K\",\"$60K - $80K\",\"$60K - $80K\",\"$80K - $120K\",\"$60K - $80K\",\"$80K - $120K\",\"$60K - $80K\",\"$80K - $120K\",\"$80K - $120K\",\"$60K - $80K\",\"$80K - $120K\",\"$60K - $80K\",\"$60K - $80K\",\"$60K - $80K\",\"$60K - $80K\",\"$60K - $80K\",\"$80K - $120K\",\"$60K - $80K\",\"$60K - $80K\",\"$80K - $120K\",\"$60K - $80K\",\"$60K - $80K\",\"$60K - $80K\",\"$80K - $120K\",\"$80K - $120K\",\"$80K - $120K\",\"$60K - $80K\",\"$80K - $120K\",\"$80K - $120K\",\"$60K - $80K\",\"$60K - $80K\",\"$60K - $80K\",\"$80K - $120K\",\"$80K - $120K\",\"$80K - $120K\",\"$60K - $80K\",\"$60K - $80K\",\"$60K - $80K\",\"$80K - $120K\",\"$80K - $120K\",\"$60K - $80K\",\"$80K - $120K\",\"$80K - $120K\",\"$80K - $120K\",\"$60K - $80K\",\"$80K - $120K\",\"$80K - $120K\",\"$80K - $120K\",\"$80K - $120K\",\"$60K - $80K\",\"$80K - $120K\",\"$60K - $80K\",\"$80K - $120K\",\"$80K - $120K\",\"$80K - $120K\",\"$60K - $80K\",\"$60K - $80K\",\"$80K - $120K\",\"$80K - $120K\",\"$80K - $120K\",\"$60K - $80K\",\"$80K - $120K\",\"$80K - $120K\",\"$60K - $80K\",\"$80K - $120K\",\"$60K - $80K\",\"$60K - $80K\",\"$80K - $120K\",\"$80K - $120K\",\"$60K - $80K\",\"$80K - $120K\",\"$60K - $80K\",\"$60K - $80K\",\"$80K - $120K\",\"$60K - $80K\",\"$60K - $80K\",\"$60K - $80K\",\"$80K - $120K\",\"$60K - $80K\",\"$80K - $120K\",\"$60K - $80K\",\"$80K - $120K\",\"$60K - $80K\",\"$60K - $80K\",\"$80K - $120K\",\"$80K - $120K\",\"$80K - $120K\",\"$80K - $120K\",\"$80K - $120K\",\"$60K - $80K\",\"$80K - $120K\",\"$80K - $120K\",\"$60K - $80K\",\"$80K - $120K\",\"$60K - $80K\",\"$60K - $80K\",\"$60K - $80K\",\"$80K - $120K\",\"$80K - $120K\",\"$60K - $80K\",\"$80K - $120K\",\"$60K - $80K\",\"$80K - $120K\",\"$80K - $120K\",\"$80K - $120K\",\"$80K - $120K\",\"$60K - $80K\",\"$60K - $80K\",\"$80K - $120K\",\"$60K - $80K\",\"$80K - $120K\",\"$60K - $80K\",\"$80K - $120K\",\"$60K - $80K\",\"$60K - $80K\",\"$60K - $80K\",\"$80K - $120K\",\"$80K - $120K\",\"$80K - $120K\",\"$60K - $80K\",\"$80K - $120K\",\"$80K - $120K\",\"$80K - $120K\",\"$80K - $120K\",\"$80K - $120K\",\"$80K - $120K\",\"$80K - $120K\",\"$60K - $80K\",\"$80K - $120K\",\"$80K - $120K\",\"$80K - $120K\",\"$80K - $120K\",\"$60K - $80K\",\"$80K - $120K\",\"$60K - $80K\",\"$60K - $80K\",\"$80K - $120K\",\"$60K - $80K\",\"$80K - $120K\",\"$60K - $80K\",\"$80K - $120K\",\"$60K - $80K\",\"$60K - $80K\",\"$60K - $80K\",\"$60K - $80K\",\"$80K - $120K\",\"$60K - $80K\",\"$80K - $120K\",\"$60K - $80K\",\"$80K - $120K\",\"$60K - $80K\",\"$80K - $120K\"],\"xaxis\":\"x\",\"y\":[0,3,3,2,2,2,2,3,2,2,2,0,2,0,1,0,0,2,2,2,3,4,2,3,3,2,2,1,0,3,0,3,3,2,3,0,2,2,2,0,3,2,3,0,3,3,2,2,1,2,3,0,2,2,3,3,0,3,3,2,2,3,3,2,3,0,3,2,2,3,2,3,1,2,3,0,3,3,2,2,2,3,2,2,0,2,4,1,0,0,2,2,1,1,2,2,1,1,2,3,3,2,3,3,0,2,2,3,0,2,3,3,3,2,3,3,2,3,3,4,4,2,3,3,4,3,2,3,3,2,2,3,3,2,3,3,2,2,2,3,3,4,4,2,2,3,4,2,3,2,4,4,2,4,4,4,2,2,3,3,4,3,2,4,2,4,3,2,4,2,2,4,3,4,4,2,2,2,2,3,4,3,3,2,3,2,3,4,2,3,2,2,4,2,2,2,3,4,3,4,2,2,3,3,2,4,2,4,3,3,4,3,4,4,3,3,4,2,4,2,3,1,2,2,2,4,4,2,1,2,3,4,2,2,1,1,4,4,2,3,2,3,3,4,2,2,2,5,4,3,1,3,3,3,1,2,2,3,0,5,4,3,3,2,2,4,3,2,3,3,4,4,5,5,0,1,3,3,5,3,2,4,2,2,4,3,1,3,3,1,4,3,4,5,3,4,3,2,3,4,3,2,1,3,1,4,4,0,2,0,3,2,3,4,5,3,3,4,3,3,2,1,4,2,3,3,4,2,4,3,4,2,2,3,2,4,1,4,4,5,1,3,3,4,4,4,4,3,3,2,2,2,4,4,4,2,2,2,4,2,3,3,4,3,3,1,3,3,3,4,3,3,2,0,4,0,3,3,2,1,3,3,4,3,1,2,3,3,3,3,2,3,2,3,4,2,2,2,4,1,4,3,3,2,2,4,4,2,4,4,3,3,4,2,1,4,4,0,2,3,4,2,3,3,4,3,3,0,2,4,3,2,2,0,2,4,2,4,3,3,3,3,3,0,3,0,1,2,4,3,2,1,3,0,2,2,2,3,3,3,2,3,1,4,2,3,4,2,3,2,3,1,3,4,2,1,2,4,1,3,4,1,2,1,1,1,3,2,1,1,3,4,3,1,1,1,3,4,2,3,2,3,4,4,6,4,0,2,4,3,1,3,4,3,3,0,3,4,4,2,2,3,4,4,2,3,4,4,3,2,2,2,2,4,3,3,2,3,1,2,3,4,2,0,3,3,1,3,4,2,0,2,3,2,3,3,0,3,2,3,2,2,1,2,2,2,3,3,3,2,2,2,2,1,3,3,1,2,2,3,3,2,3,3,3,2,2,2,2,6,2,2,3,2,3,3,3,1,1,2,3,2,3,1,3,1,1,1,3,3,2,1,3,3,2,2,2,3,3,1,3,3,1,2,2,2,2,3,3,2,2,1,3,3,3,3,1,2,2,2,1,1,1,1,2,2,1,3,3,1,3,2,1,3,2,1,3,1,1,2,3,3,3,1,5,3,3,1,1,0,2,3,1,3,3,3,3,1,1,2,1,1,2,3,1,2,1,2,2,1,2,2,1,3,3,1,2,1,3,3,1,3,2,1,3,1,3,3,2,2,2,3,2,1,0,3,3,1,1,2,2,1,0,3,1,1,2,1,2,2,3,3,1,1,1,2,2,1,3,1,3,2,1,0,1,2,3,1,1,1,1,2,1,6,1,2,2,1,3,3,3,3,6,2,2,2,3,2,2,1,3,2,1,2,1,2,2,3,2,1,2,3,2,3,1,4,4,4,2,1,4,3,2,4,3,3,4,4,3,4,3,3,3,4,4,3,4],\"yaxis\":\"y\",\"type\":\"histogram\"},{\"alignmentgroup\":\"True\",\"bingroup\":\"x\",\"histfunc\":\"sum\",\"hovertemplate\":\"tipo_cartao=silver\\u003cbr\\u003esalario_anual=%{x}\\u003cbr\\u003esum of iteracoes_12m=%{y}\\u003cextra\\u003e\\u003c\\u002fextra\\u003e\",\"legendgroup\":\"silver\",\"marker\":{\"color\":\"#EF553B\",\"pattern\":{\"shape\":\"\"}},\"name\":\"silver\",\"offsetgroup\":\"silver\",\"orientation\":\"v\",\"showlegend\":true,\"texttemplate\":\"%{value}\",\"x\":[\"$60K - $80K\",\"$60K - $80K\",\"$60K - $80K\",\"$80K - $120K\",\"$80K - $120K\",\"$60K - $80K\",\"$60K - $80K\",\"$80K - $120K\",\"$80K - $120K\",\"$80K - $120K\",\"$60K - $80K\",\"$80K - $120K\",\"$80K - $120K\",\"$80K - $120K\",\"$80K - $120K\",\"$60K - $80K\",\"$80K - $120K\",\"$80K - $120K\",\"$60K - $80K\",\"$80K - $120K\",\"$80K - $120K\",\"$60K - $80K\",\"$60K - $80K\",\"$80K - $120K\",\"$60K - $80K\",\"$60K - $80K\",\"$80K - $120K\",\"$80K - $120K\",\"$60K - $80K\",\"$60K - $80K\",\"$60K - $80K\",\"$60K - $80K\",\"$80K - $120K\",\"$60K - $80K\",\"$80K - $120K\",\"$60K - $80K\",\"$80K - $120K\",\"$80K - $120K\",\"$60K - $80K\",\"$80K - $120K\",\"$60K - $80K\",\"$80K - $120K\",\"$60K - $80K\",\"$60K - $80K\",\"$60K - $80K\",\"$60K - $80K\",\"$80K - $120K\",\"$80K - $120K\",\"$60K - $80K\",\"$80K - $120K\",\"$80K - $120K\",\"$80K - $120K\",\"$80K - $120K\",\"$60K - $80K\",\"$60K - $80K\",\"$80K - $120K\",\"$60K - $80K\",\"$80K - $120K\",\"$80K - $120K\",\"$80K - $120K\",\"$80K - $120K\",\"$80K - $120K\",\"$60K - $80K\",\"$80K - $120K\",\"$60K - $80K\",\"$60K - $80K\",\"$80K - $120K\",\"$80K - $120K\",\"$80K - $120K\",\"$60K - $80K\",\"$60K - $80K\",\"$60K - $80K\",\"$60K - $80K\",\"$60K - $80K\",\"$60K - $80K\",\"$80K - $120K\"],\"xaxis\":\"x\",\"y\":[4,1,2,2,3,2,0,3,2,3,2,3,0,4,3,1,4,5,1,3,1,3,4,2,2,3,2,4,2,1,4,3,1,3,3,1,3,1,1,2,1,3,3,3,2,3,3,3,3,3,2,6,2,2,2,2,1,3,3,3,1,3,2,6,2,3,2,1,3,2,2,4,2,2,2,2],\"yaxis\":\"y\",\"type\":\"histogram\"},{\"alignmentgroup\":\"True\",\"bingroup\":\"x\",\"histfunc\":\"sum\",\"hovertemplate\":\"tipo_cartao=platinum\\u003cbr\\u003esalario_anual=%{x}\\u003cbr\\u003esum of iteracoes_12m=%{y}\\u003cextra\\u003e\\u003c\\u002fextra\\u003e\",\"legendgroup\":\"platinum\",\"marker\":{\"color\":\"#00cc96\",\"pattern\":{\"shape\":\"\"}},\"name\":\"platinum\",\"offsetgroup\":\"platinum\",\"orientation\":\"v\",\"showlegend\":true,\"texttemplate\":\"%{value}\",\"x\":[\"$80K - $120K\",\"$60K - $80K\",\"$60K - $80K\"],\"xaxis\":\"x\",\"y\":[2,1,3],\"yaxis\":\"y\",\"type\":\"histogram\"},{\"alignmentgroup\":\"True\",\"bingroup\":\"x\",\"histfunc\":\"sum\",\"hovertemplate\":\"tipo_cartao=gold\\u003cbr\\u003esalario_anual=%{x}\\u003cbr\\u003esum of iteracoes_12m=%{y}\\u003cextra\\u003e\\u003c\\u002fextra\\u003e\",\"legendgroup\":\"gold\",\"marker\":{\"color\":\"#ab63fa\",\"pattern\":{\"shape\":\"\"}},\"name\":\"gold\",\"offsetgroup\":\"gold\",\"orientation\":\"v\",\"showlegend\":true,\"texttemplate\":\"%{value}\",\"x\":[\"$60K - $80K\",\"$60K - $80K\",\"$80K - $120K\",\"$80K - $120K\",\"$60K - $80K\",\"$80K - $120K\",\"$60K - $80K\",\"$60K - $80K\",\"$80K - $120K\",\"$60K - $80K\",\"$60K - $80K\",\"$80K - $120K\",\"$80K - $120K\",\"$60K - $80K\"],\"xaxis\":\"x\",\"y\":[2,2,4,3,3,3,1,1,3,2,2,3,3,3],\"yaxis\":\"y\",\"type\":\"histogram\"}],                        {\"template\":{\"data\":{\"histogram2dcontour\":[{\"type\":\"histogram2dcontour\",\"colorbar\":{\"outlinewidth\":0,\"ticks\":\"\"},\"colorscale\":[[0.0,\"#0d0887\"],[0.1111111111111111,\"#46039f\"],[0.2222222222222222,\"#7201a8\"],[0.3333333333333333,\"#9c179e\"],[0.4444444444444444,\"#bd3786\"],[0.5555555555555556,\"#d8576b\"],[0.6666666666666666,\"#ed7953\"],[0.7777777777777778,\"#fb9f3a\"],[0.8888888888888888,\"#fdca26\"],[1.0,\"#f0f921\"]]}],\"choropleth\":[{\"type\":\"choropleth\",\"colorbar\":{\"outlinewidth\":0,\"ticks\":\"\"}}],\"histogram2d\":[{\"type\":\"histogram2d\",\"colorbar\":{\"outlinewidth\":0,\"ticks\":\"\"},\"colorscale\":[[0.0,\"#0d0887\"],[0.1111111111111111,\"#46039f\"],[0.2222222222222222,\"#7201a8\"],[0.3333333333333333,\"#9c179e\"],[0.4444444444444444,\"#bd3786\"],[0.5555555555555556,\"#d8576b\"],[0.6666666666666666,\"#ed7953\"],[0.7777777777777778,\"#fb9f3a\"],[0.8888888888888888,\"#fdca26\"],[1.0,\"#f0f921\"]]}],\"heatmap\":[{\"type\":\"heatmap\",\"colorbar\":{\"outlinewidth\":0,\"ticks\":\"\"},\"colorscale\":[[0.0,\"#0d0887\"],[0.1111111111111111,\"#46039f\"],[0.2222222222222222,\"#7201a8\"],[0.3333333333333333,\"#9c179e\"],[0.4444444444444444,\"#bd3786\"],[0.5555555555555556,\"#d8576b\"],[0.6666666666666666,\"#ed7953\"],[0.7777777777777778,\"#fb9f3a\"],[0.8888888888888888,\"#fdca26\"],[1.0,\"#f0f921\"]]}],\"heatmapgl\":[{\"type\":\"heatmapgl\",\"colorbar\":{\"outlinewidth\":0,\"ticks\":\"\"},\"colorscale\":[[0.0,\"#0d0887\"],[0.1111111111111111,\"#46039f\"],[0.2222222222222222,\"#7201a8\"],[0.3333333333333333,\"#9c179e\"],[0.4444444444444444,\"#bd3786\"],[0.5555555555555556,\"#d8576b\"],[0.6666666666666666,\"#ed7953\"],[0.7777777777777778,\"#fb9f3a\"],[0.8888888888888888,\"#fdca26\"],[1.0,\"#f0f921\"]]}],\"contourcarpet\":[{\"type\":\"contourcarpet\",\"colorbar\":{\"outlinewidth\":0,\"ticks\":\"\"}}],\"contour\":[{\"type\":\"contour\",\"colorbar\":{\"outlinewidth\":0,\"ticks\":\"\"},\"colorscale\":[[0.0,\"#0d0887\"],[0.1111111111111111,\"#46039f\"],[0.2222222222222222,\"#7201a8\"],[0.3333333333333333,\"#9c179e\"],[0.4444444444444444,\"#bd3786\"],[0.5555555555555556,\"#d8576b\"],[0.6666666666666666,\"#ed7953\"],[0.7777777777777778,\"#fb9f3a\"],[0.8888888888888888,\"#fdca26\"],[1.0,\"#f0f921\"]]}],\"surface\":[{\"type\":\"surface\",\"colorbar\":{\"outlinewidth\":0,\"ticks\":\"\"},\"colorscale\":[[0.0,\"#0d0887\"],[0.1111111111111111,\"#46039f\"],[0.2222222222222222,\"#7201a8\"],[0.3333333333333333,\"#9c179e\"],[0.4444444444444444,\"#bd3786\"],[0.5555555555555556,\"#d8576b\"],[0.6666666666666666,\"#ed7953\"],[0.7777777777777778,\"#fb9f3a\"],[0.8888888888888888,\"#fdca26\"],[1.0,\"#f0f921\"]]}],\"mesh3d\":[{\"type\":\"mesh3d\",\"colorbar\":{\"outlinewidth\":0,\"ticks\":\"\"}}],\"scatter\":[{\"fillpattern\":{\"fillmode\":\"overlay\",\"size\":10,\"solidity\":0.2},\"type\":\"scatter\"}],\"parcoords\":[{\"type\":\"parcoords\",\"line\":{\"colorbar\":{\"outlinewidth\":0,\"ticks\":\"\"}}}],\"scatterpolargl\":[{\"type\":\"scatterpolargl\",\"marker\":{\"colorbar\":{\"outlinewidth\":0,\"ticks\":\"\"}}}],\"bar\":[{\"error_x\":{\"color\":\"#2a3f5f\"},\"error_y\":{\"color\":\"#2a3f5f\"},\"marker\":{\"line\":{\"color\":\"#E5ECF6\",\"width\":0.5},\"pattern\":{\"fillmode\":\"overlay\",\"size\":10,\"solidity\":0.2}},\"type\":\"bar\"}],\"scattergeo\":[{\"type\":\"scattergeo\",\"marker\":{\"colorbar\":{\"outlinewidth\":0,\"ticks\":\"\"}}}],\"scatterpolar\":[{\"type\":\"scatterpolar\",\"marker\":{\"colorbar\":{\"outlinewidth\":0,\"ticks\":\"\"}}}],\"histogram\":[{\"marker\":{\"pattern\":{\"fillmode\":\"overlay\",\"size\":10,\"solidity\":0.2}},\"type\":\"histogram\"}],\"scattergl\":[{\"type\":\"scattergl\",\"marker\":{\"colorbar\":{\"outlinewidth\":0,\"ticks\":\"\"}}}],\"scatter3d\":[{\"type\":\"scatter3d\",\"line\":{\"colorbar\":{\"outlinewidth\":0,\"ticks\":\"\"}},\"marker\":{\"colorbar\":{\"outlinewidth\":0,\"ticks\":\"\"}}}],\"scattermapbox\":[{\"type\":\"scattermapbox\",\"marker\":{\"colorbar\":{\"outlinewidth\":0,\"ticks\":\"\"}}}],\"scatterternary\":[{\"type\":\"scatterternary\",\"marker\":{\"colorbar\":{\"outlinewidth\":0,\"ticks\":\"\"}}}],\"scattercarpet\":[{\"type\":\"scattercarpet\",\"marker\":{\"colorbar\":{\"outlinewidth\":0,\"ticks\":\"\"}}}],\"carpet\":[{\"aaxis\":{\"endlinecolor\":\"#2a3f5f\",\"gridcolor\":\"white\",\"linecolor\":\"white\",\"minorgridcolor\":\"white\",\"startlinecolor\":\"#2a3f5f\"},\"baxis\":{\"endlinecolor\":\"#2a3f5f\",\"gridcolor\":\"white\",\"linecolor\":\"white\",\"minorgridcolor\":\"white\",\"startlinecolor\":\"#2a3f5f\"},\"type\":\"carpet\"}],\"table\":[{\"cells\":{\"fill\":{\"color\":\"#EBF0F8\"},\"line\":{\"color\":\"white\"}},\"header\":{\"fill\":{\"color\":\"#C8D4E3\"},\"line\":{\"color\":\"white\"}},\"type\":\"table\"}],\"barpolar\":[{\"marker\":{\"line\":{\"color\":\"#E5ECF6\",\"width\":0.5},\"pattern\":{\"fillmode\":\"overlay\",\"size\":10,\"solidity\":0.2}},\"type\":\"barpolar\"}],\"pie\":[{\"automargin\":true,\"type\":\"pie\"}]},\"layout\":{\"autotypenumbers\":\"strict\",\"colorway\":[\"#636efa\",\"#EF553B\",\"#00cc96\",\"#ab63fa\",\"#FFA15A\",\"#19d3f3\",\"#FF6692\",\"#B6E880\",\"#FF97FF\",\"#FECB52\"],\"font\":{\"color\":\"#2a3f5f\"},\"hovermode\":\"closest\",\"hoverlabel\":{\"align\":\"left\"},\"paper_bgcolor\":\"white\",\"plot_bgcolor\":\"#E5ECF6\",\"polar\":{\"bgcolor\":\"#E5ECF6\",\"angularaxis\":{\"gridcolor\":\"white\",\"linecolor\":\"white\",\"ticks\":\"\"},\"radialaxis\":{\"gridcolor\":\"white\",\"linecolor\":\"white\",\"ticks\":\"\"}},\"ternary\":{\"bgcolor\":\"#E5ECF6\",\"aaxis\":{\"gridcolor\":\"white\",\"linecolor\":\"white\",\"ticks\":\"\"},\"baxis\":{\"gridcolor\":\"white\",\"linecolor\":\"white\",\"ticks\":\"\"},\"caxis\":{\"gridcolor\":\"white\",\"linecolor\":\"white\",\"ticks\":\"\"}},\"coloraxis\":{\"colorbar\":{\"outlinewidth\":0,\"ticks\":\"\"}},\"colorscale\":{\"sequential\":[[0.0,\"#0d0887\"],[0.1111111111111111,\"#46039f\"],[0.2222222222222222,\"#7201a8\"],[0.3333333333333333,\"#9c179e\"],[0.4444444444444444,\"#bd3786\"],[0.5555555555555556,\"#d8576b\"],[0.6666666666666666,\"#ed7953\"],[0.7777777777777778,\"#fb9f3a\"],[0.8888888888888888,\"#fdca26\"],[1.0,\"#f0f921\"]],\"sequentialminus\":[[0.0,\"#0d0887\"],[0.1111111111111111,\"#46039f\"],[0.2222222222222222,\"#7201a8\"],[0.3333333333333333,\"#9c179e\"],[0.4444444444444444,\"#bd3786\"],[0.5555555555555556,\"#d8576b\"],[0.6666666666666666,\"#ed7953\"],[0.7777777777777778,\"#fb9f3a\"],[0.8888888888888888,\"#fdca26\"],[1.0,\"#f0f921\"]],\"diverging\":[[0,\"#8e0152\"],[0.1,\"#c51b7d\"],[0.2,\"#de77ae\"],[0.3,\"#f1b6da\"],[0.4,\"#fde0ef\"],[0.5,\"#f7f7f7\"],[0.6,\"#e6f5d0\"],[0.7,\"#b8e186\"],[0.8,\"#7fbc41\"],[0.9,\"#4d9221\"],[1,\"#276419\"]]},\"xaxis\":{\"gridcolor\":\"white\",\"linecolor\":\"white\",\"ticks\":\"\",\"title\":{\"standoff\":15},\"zerolinecolor\":\"white\",\"automargin\":true,\"zerolinewidth\":2},\"yaxis\":{\"gridcolor\":\"white\",\"linecolor\":\"white\",\"ticks\":\"\",\"title\":{\"standoff\":15},\"zerolinecolor\":\"white\",\"automargin\":true,\"zerolinewidth\":2},\"scene\":{\"xaxis\":{\"backgroundcolor\":\"#E5ECF6\",\"gridcolor\":\"white\",\"linecolor\":\"white\",\"showbackground\":true,\"ticks\":\"\",\"zerolinecolor\":\"white\",\"gridwidth\":2},\"yaxis\":{\"backgroundcolor\":\"#E5ECF6\",\"gridcolor\":\"white\",\"linecolor\":\"white\",\"showbackground\":true,\"ticks\":\"\",\"zerolinecolor\":\"white\",\"gridwidth\":2},\"zaxis\":{\"backgroundcolor\":\"#E5ECF6\",\"gridcolor\":\"white\",\"linecolor\":\"white\",\"showbackground\":true,\"ticks\":\"\",\"zerolinecolor\":\"white\",\"gridwidth\":2}},\"shapedefaults\":{\"line\":{\"color\":\"#2a3f5f\"}},\"annotationdefaults\":{\"arrowcolor\":\"#2a3f5f\",\"arrowhead\":0,\"arrowwidth\":1},\"geo\":{\"bgcolor\":\"white\",\"landcolor\":\"#E5ECF6\",\"subunitcolor\":\"white\",\"showland\":true,\"showlakes\":true,\"lakecolor\":\"white\"},\"title\":{\"x\":0.05},\"mapbox\":{\"style\":\"light\"}}},\"xaxis\":{\"anchor\":\"y\",\"domain\":[0.0,1.0],\"title\":{\"text\":\"salario_anual\"}},\"yaxis\":{\"anchor\":\"x\",\"domain\":[0.0,1.0],\"title\":{\"text\":\"sum of iteracoes_12m\"}},\"legend\":{\"title\":{\"text\":\"tipo_cartao\"},\"tracegroupgap\":0},\"margin\":{\"t\":60},\"barmode\":\"relative\"},                        {\"responsive\": true}                    ).then(function(){\n",
              "                            \n",
              "var gd = document.getElementById('42050121-1a01-4113-9eff-73552d0ece82');\n",
              "var x = new MutationObserver(function (mutations, observer) {{\n",
              "        var display = window.getComputedStyle(gd).display;\n",
              "        if (!display || display === 'none') {{\n",
              "            console.log([gd, 'removed!']);\n",
              "            Plotly.purge(gd);\n",
              "            observer.disconnect();\n",
              "        }}\n",
              "}});\n",
              "\n",
              "// Listen for the removal of the full notebook cells\n",
              "var notebookContainer = gd.closest('#notebook-container');\n",
              "if (notebookContainer) {{\n",
              "    x.observe(notebookContainer, {childList: true});\n",
              "}}\n",
              "\n",
              "// Listen for the clearing of the current output cell\n",
              "var outputEl = gd.closest('.output');\n",
              "if (outputEl) {{\n",
              "    x.observe(outputEl, {childList: true});\n",
              "}}\n",
              "\n",
              "                        })                };                            </script>        </div>\n",
              "</body>\n",
              "</html>"
            ]
          },
          "metadata": {}
        }
      ]
    },
    {
      "cell_type": "markdown",
      "source": [
        "# Resumo analítico - perfil consumidores:\n",
        "Tipo de cartão: Não há correlação entre o tipo de cartão e os demais atributos capazes de segmentar por classe de clientes\n",
        "\n",
        "Os principais atributos com diferenças capazes de atribuir perfil de consumo são:\n",
        "Divididos por sexo, encontramos uma faixa com maior representatividade (em torno de 30%) do público com mestrado. Esse perfil no publico masculino esta com grande representatividade na variação salarial ano de $60K a $120K e o mesmo publico de maior representatividade feminino esta concentrado em salario anual abaixo de $40K\n",
        "\n",
        "\n",
        "\n",
        "1.   Publico Feminino definido:\n",
        "  *   31,16% (maioria) das mulheres possuem mestrado\n",
        "  *   Renda abaixo de $40mil anual\n",
        "  *   Iterações médias anuais acima de 2500\n",
        "\n",
        "\n",
        "2.   Publico Masculino definido:\n",
        "  *   30,56% (maioria) dos homens possuem mestrado\n",
        "  *   Renda anual variando de $60k à $120K\n",
        "  *   Iterações médias anuais desse perfil abaixo de 1200\n",
        "\n",
        "\n",
        "\n",
        "\n",
        "\n",
        "\n",
        "\n",
        "\n",
        "\n"
      ],
      "metadata": {
        "id": "hiWs3hSyuOgU"
      }
    }
  ]
}